{
 "cells": [
  {
   "cell_type": "code",
   "execution_count": 15,
   "metadata": {},
   "outputs": [],
   "source": [
    "import math\n",
    "import numpy as np\n",
    "import pandas as pd\n",
    "from matplotlib import pyplot as plt\n",
    "import seaborn as sns\n"
   ]
  },
  {
   "cell_type": "markdown",
   "metadata": {},
   "source": [
    "## Monte carlo experiment"
   ]
  },
  {
   "cell_type": "code",
   "execution_count": 20,
   "metadata": {},
   "outputs": [
    {
     "name": "stdout",
     "output_type": "stream",
     "text": [
      "174.12775 6.10920043356739\n"
     ]
    },
    {
     "data": {
      "text/plain": [
       "<AxesSubplot:ylabel='Count'>"
      ]
     },
     "execution_count": 20,
     "metadata": {},
     "output_type": "execute_result"
    },
    {
     "data": {
      "image/png": "[encoded data removed]",
      "text/plain": [
       "<Figure size 432x288 with 1 Axes>"
      ]
     },
     "metadata": {
      "needs_background": "light"
     },
     "output_type": "display_data"
    }
   ],
   "source": [
    "#Get worst fold , number of values\n",
    "n_noise = 800\n",
    "n_clean = 7200\n",
    "monte_runs = 20000\n",
    "k = 5\n",
    "run_result = []\n",
    "for r in range(monte_runs):  \n",
    "    np.random.seed(r)\n",
    "    samples = np.array([1]*n_noise + [0]*n_clean)\n",
    "    np.random.shuffle(samples)\n",
    "    #Split in k folds\n",
    "    subsets = [samples[i*(len(samples)//k):(i+1)*(len(samples)//k)] for i in range(k)]\n",
    "    get_noise_dist = [np.sum(subsets[i]) for i in range(k)]\n",
    "    run_result.append(np.max(get_noise_dist))\n",
    "print(np.mean(run_result),np.std(run_result))\n",
    "sns.histplot(run_result)\n"
   ]
  },
  {
   "cell_type": "code",
   "execution_count": null,
   "metadata": {},
   "outputs": [],
   "source": [
    "## Get number of runs\n",
    "n_iter = 2000\n"
   ]
  },
  {
   "cell_type": "markdown",
   "metadata": {},
   "source": [
    "## Theoretical Estimates"
   ]
  },
  {
   "cell_type": "code",
   "execution_count": 78,
   "metadata": {},
   "outputs": [],
   "source": [
    "def calc_possibilities(t,n,a,b):\n",
    "    sum = 0\n",
    "    for k in range(n+1):\n",
    "        if (n<k) or (t+n-1-a*n-k*(b-a+1)<(n-1)):\n",
    "            term = 0\n",
    "        else:\n",
    "            term = ((-1)**k) * math.comb(n,k) * math.comb(t+n-1-a*n-k*(b-a+1),n-1)\n",
    "        sum += term\n",
    "    return sum"
   ]
  },
  {
   "cell_type": "code",
   "execution_count": 15,
   "metadata": {},
   "outputs": [
    {
     "ename": "ValueError",
     "evalue": "n must be a non-negative integer",
     "output_type": "error",
     "traceback": [
      "\u001b[0;31m---------------------------------------------------------------------------\u001b[0m",
      "\u001b[0;31mValueError\u001b[0m                                Traceback (most recent call last)",
      "\u001b[1;32m/home/vishwesh/Projects/ReCoV/stats.ipynb Cell 3\u001b[0m in \u001b[0;36m<cell line: 4>\u001b[0;34m()\u001b[0m\n\u001b[1;32m      <a href='vscode-notebook-cell:/home/vishwesh/Projects/ReCoV/stats.ipynb#W5sZmlsZQ%3D%3D?line=1'>2</a>\u001b[0m a \u001b[39m=\u001b[39m \u001b[39m0\u001b[39m\n\u001b[1;32m      <a href='vscode-notebook-cell:/home/vishwesh/Projects/ReCoV/stats.ipynb#W5sZmlsZQ%3D%3D?line=2'>3</a>\u001b[0m b \u001b[39m=\u001b[39m \u001b[39m800\u001b[39m\n\u001b[0;32m----> <a href='vscode-notebook-cell:/home/vishwesh/Projects/ReCoV/stats.ipynb#W5sZmlsZQ%3D%3D?line=3'>4</a>\u001b[0m ((\u001b[39m-\u001b[39m\u001b[39m1\u001b[39m)\u001b[39m*\u001b[39m\u001b[39m*\u001b[39mk) \u001b[39m*\u001b[39m math\u001b[39m.\u001b[39mcomb(n,k) \u001b[39m*\u001b[39m math\u001b[39m.\u001b[39;49mcomb(t\u001b[39m+\u001b[39;49mn\u001b[39m-\u001b[39;49m\u001b[39m1\u001b[39;49m\u001b[39m-\u001b[39;49ma\u001b[39m*\u001b[39;49mn\u001b[39m-\u001b[39;49mk\u001b[39m*\u001b[39;49m(b\u001b[39m-\u001b[39;49ma\u001b[39m+\u001b[39;49m\u001b[39m1\u001b[39;49m),n\u001b[39m-\u001b[39;49m\u001b[39m1\u001b[39;49m)\n",
      "\u001b[0;31mValueError\u001b[0m: n must be a non-negative integer"
     ]
    }
   ],
   "source": [
    "k = 2\n",
    "a = 0\n",
    "b = 800\n",
    "((-1)**k) * math.comb(n,k) * math.comb(t+n-1-a*n-k*(b-a+1),n-1)"
   ]
  },
  {
   "cell_type": "code",
   "execution_count": 88,
   "metadata": {},
   "outputs": [
    {
     "data": {
      "text/plain": [
       "[<matplotlib.lines.Line2D at 0x7f6fb13deb20>]"
      ]
     },
     "execution_count": 88,
     "metadata": {},
     "output_type": "execute_result"
    },
    {
     "data": {
      "image/png": "[encoded data removed]",
      "text/plain": [
       "<Figure size 432x288 with 1 Axes>"
      ]
     },
     "metadata": {
      "needs_background": "light"
     },
     "output_type": "display_data"
    }
   ],
   "source": [
    "#number of noisy samples\n",
    "t = 800\n",
    "#number of folds\n",
    "n = 5\n",
    "\n",
    "#total combinations\n",
    "total = calc_possibilities(800,5,0,800)\n",
    "\n",
    "expect = 0\n",
    "pdf = []\n",
    "x_axis = []\n",
    "for h in range(0,t-t//n+1):\n",
    "    max_fold_samples = t//n + h\n",
    "    b = t//n + h \n",
    "    a = 0\n",
    "    term2 = math.comb(800,max_fold_samples)*math.comb(8000-800,1600-max_fold_samples)/math.comb(8000,1600)\n",
    "    combs = calc_possibilities(t-max_fold_samples,n-1,0,b)\n",
    "    pdf.append(combs*term2)\n",
    "    # pdf.append(term2)\n",
    "    x_axis.append(max_fold_samples)\n",
    "plt.plot(x_axis[:60],pdf[:60])\n"
   ]
  },
  {
   "cell_type": "code",
   "execution_count": 2,
   "metadata": {},
   "outputs": [],
   "source": [
    "import numpy as np\n",
    "with open(\"/home/vishwesh/Projects/ReCoV/results/memory_auc_cindex_4.npy\",\"rb\") as file:\n",
    "    data = np.load(file)"
   ]
  },
  {
   "cell_type": "code",
   "execution_count": 5,
   "metadata": {},
   "outputs": [
    {
     "data": {
      "text/plain": [
       "array([1.0759193 , 1.11327563, 1.13617569, 1.16173144, 1.1948341 ,\n",
       "       1.21855556, 1.22650867, 1.24519147, 1.25384393, 1.25825351,\n",
       "       1.25985881, 1.26071503, 1.27097049, 1.27432769, 1.28280407,\n",
       "       1.28543037, 1.29327173, 1.30172012, 1.30458809, 1.30540187,\n",
       "       1.31755226, 1.32390355, 1.32468798, 1.33431079, 1.35880036,\n",
       "       1.35955346, 1.36417437, 1.36748204, 1.36876905, 1.370418  ,\n",
       "       1.37472005, 1.37494856, 1.37931029, 1.38132624, 1.38265705,\n",
       "       1.38392309, 1.38948862, 1.39024793, 1.40065148, 1.40134206,\n",
       "       1.40211254, 1.40672888, 1.41002698, 1.4146405 , 1.41615554,\n",
       "       1.41752847, 1.42183889, 1.42296573, 1.42933816, 1.43093596,\n",
       "       1.43176241, 1.44006559, 1.44158291, 1.44525398, 1.44784153,\n",
       "       1.44914095, 1.45101672, 1.45551229, 1.45750965, 1.45845107,\n",
       "       1.46169499, 1.46704788, 1.46710338, 1.46735865, 1.47176124,\n",
       "       1.47189169, 1.48435853, 1.48442235, 1.49124508, 1.49801775,\n",
       "       1.49804085, 1.49851617, 1.50031384, 1.50076399, 1.50085624,\n",
       "       1.50109911, 1.50141674, 1.50612796, 1.50707193, 1.51466662,\n",
       "       1.52051608, 1.52306055, 1.52650159, 1.52667736, 1.52912871,\n",
       "       1.53350783, 1.53678886, 1.53965864, 1.5401618 , 1.54323476,\n",
       "       1.5438427 , 1.54518925, 1.54687031, 1.54893186, 1.55055256,\n",
       "       1.55095152, 1.55195701, 1.55219686, 1.5523769 , 1.55590485,\n",
       "       1.55638744, 1.56800092, 1.56824599, 1.56911635, 1.57298424,\n",
       "       1.57440401, 1.57488832, 1.57575768, 1.57635275, 1.57769638,\n",
       "       1.5784406 , 1.57846274, 1.58046087, 1.58575727, 1.58615864,\n",
       "       1.58705943, 1.59092014, 1.59567439, 1.60086891, 1.60121999,\n",
       "       1.6018743 , 1.60287963, 1.60396832, 1.61421965, 1.61461551,\n",
       "       1.61483213, 1.61551013, 1.61945095, 1.62152854, 1.62285842,\n",
       "       1.62321117, 1.62684009, 1.63111358, 1.63243267, 1.63405154,\n",
       "       1.63480884, 1.63885995, 1.63922558, 1.64054621, 1.64133843,\n",
       "       1.64194528, 1.64785126, 1.64881062, 1.64921054, 1.64974377,\n",
       "       1.65098765, 1.65127075, 1.65384098, 1.65508823, 1.65511647,\n",
       "       1.65626428, 1.65809408, 1.66084695, 1.66099864, 1.66145095,\n",
       "       1.66151899, 1.66645799, 1.66695535, 1.66883273, 1.67057413,\n",
       "       1.67510138, 1.67621759, 1.67734429, 1.67749065, 1.6802371 ,\n",
       "       1.68098829, 1.68257715, 1.68448024, 1.68669717, 1.69178329,\n",
       "       1.69247319, 1.69402979, 1.69450718, 1.69496785, 1.69656982,\n",
       "       1.69726199, 1.69749773, 1.6997083 , 1.70466402, 1.70668492,\n",
       "       1.71061975, 1.71075601, 1.71091329, 1.71588577, 1.71681227,\n",
       "       1.71815137, 1.71854139, 1.71882904, 1.71884009, 1.72034536,\n",
       "       1.72493703, 1.72627993, 1.72656088, 1.72729322, 1.72861551,\n",
       "       1.73030693, 1.73163431, 1.73252691, 1.73346965, 1.73572735,\n",
       "       1.73897129, 1.73915937, 1.73918627, 1.73992212, 1.74039739,\n",
       "       1.74408117, 1.74698821, 1.74827363, 1.7498747 , 1.75296087,\n",
       "       1.75326422, 1.75496279, 1.75641257, 1.75804304, 1.76087791,\n",
       "       1.76101018, 1.76350568, 1.76655593, 1.76855253, 1.77026617,\n",
       "       1.7734274 , 1.77360588, 1.77655438, 1.77812983, 1.78525239,\n",
       "       1.78603261, 1.79032879, 1.79186797, 1.79535541, 1.79781947,\n",
       "       1.79799001, 1.79928134, 1.79956263, 1.79990434, 1.80400347,\n",
       "       1.80716851, 1.80779023, 1.8104489 , 1.81260361, 1.81421274,\n",
       "       1.81715001, 1.81781487, 1.81903036, 1.82064859, 1.82379004,\n",
       "       1.82424267, 1.82687236, 1.83436711, 1.83466551, 1.83717738,\n",
       "       1.84036752, 1.8412306 , 1.84166949, 1.84187209, 1.84340681,\n",
       "       1.84348847, 1.84503622, 1.845759  , 1.84836351, 1.8519005 ,\n",
       "       1.85238811, 1.85596231, 1.856185  , 1.85723542, 1.85756125,\n",
       "       1.85767244, 1.85864144, 1.85968621, 1.86144933, 1.86203266,\n",
       "       1.86204743, 1.86236215, 1.86241159, 1.86738466, 1.86808746,\n",
       "       1.8690125 , 1.87165633, 1.87581897, 1.87886954, 1.87965108,\n",
       "       1.88286905, 1.88537243, 1.88687286, 1.88799382, 1.88950485,\n",
       "       1.89007614, 1.89225969, 1.89290114, 1.89471743, 1.89576545,\n",
       "       1.898137  , 1.89901098, 1.90002311, 1.9052004 , 1.90852398,\n",
       "       1.90964859, 1.91150677, 1.91441408, 1.91562504, 1.91638421,\n",
       "       1.91674003, 1.91792082, 1.92045339, 1.92064253, 1.92200641,\n",
       "       1.92373521, 1.92404653, 1.92748084, 1.92873855, 1.93174719,\n",
       "       1.93276545, 1.93743594, 1.93963925, 1.93966297, 1.93970388,\n",
       "       1.94018637, 1.94106471, 1.94196496, 1.9509472 , 1.95273141,\n",
       "       1.95743563, 1.96165753, 1.9632966 , 1.96663839, 1.96868666,\n",
       "       1.97231359, 1.98081597, 1.98208471, 1.98500901, 1.98518658,\n",
       "       1.98777055, 1.98937745, 1.98993702, 1.99148202, 1.99463575,\n",
       "       1.99702146, 1.99798391, 2.00130767, 2.00223076, 2.00551546,\n",
       "       2.01263703, 2.0165213 , 2.0166109 , 2.01723171, 2.01730444,\n",
       "       2.01903393, 2.02899209, 2.0295535 , 2.03018246, 2.03462222,\n",
       "       2.04187341, 2.04555244, 2.04879821, 2.05134536, 2.06359595,\n",
       "       2.06506754, 2.07697123, 2.079614  , 2.08773309, 2.08824004,\n",
       "       2.09042196, 2.09345049, 2.09548275, 2.09820142, 2.10017101,\n",
       "       2.1156456 , 2.11734354, 2.12660511, 2.12813606, 2.14008523,\n",
       "       2.1492888 , 2.15752931, 2.15941706, 2.1720222 , 2.19794842,\n",
       "       2.2102913 , 2.21377401, 2.21578693, 2.2257354 , 2.23169173,\n",
       "       2.23717482, 2.24153722, 2.24477191, 2.24603728, 2.25845772,\n",
       "       2.26206229, 2.26274408, 2.27033957, 2.28155562, 2.29846687])"
      ]
     },
     "execution_count": 5,
     "metadata": {},
     "output_type": "execute_result"
    }
   ],
   "source": [
    "np.sort(data)"
   ]
  },
  {
   "cell_type": "code",
   "execution_count": 10,
   "metadata": {},
   "outputs": [
    {
     "data": {
      "text/plain": [
       "1.2932717310824893"
      ]
     },
     "execution_count": 10,
     "metadata": {},
     "output_type": "execute_result"
    }
   ],
   "source": [
    "data[154]"
   ]
  },
  {
   "cell_type": "code",
   "execution_count": 3,
   "metadata": {},
   "outputs": [
    {
     "data": {
      "text/plain": [
       "array([316, 257,  40,  54,  72, 115, 193, 249, 269, 173, 241, 347,   8,\n",
       "       195, 266,  58, 154, 378, 233, 119, 113,  10,  76,  16,  21, 180,\n",
       "       287, 158, 317,  53, 365, 215, 187,  46,   4,   6,  12,  26, 271,\n",
       "        34,  19, 299, 285,  13, 309, 303, 305, 208, 169, 174,  47, 336,\n",
       "       330, 380, 352, 311, 294, 144, 149, 248, 321, 236, 369, 235,  73,\n",
       "       151,   2, 200, 372, 131, 100, 103, 358, 245, 135, 356,  88, 270,\n",
       "       239, 229, 324,  45, 225, 231,  95, 128,  62, 332, 368,  25,  11,\n",
       "       338, 142, 163, 221, 228, 331,  80, 152,  79, 370, 383, 243, 222,\n",
       "       226, 146, 273, 121, 333, 178,  14,  68, 300, 375,  92, 354,  84,\n",
       "       310, 335, 201,  29, 357, 345,  50, 111,  97,  33, 373, 220, 141,\n",
       "       267, 104, 129, 125,  42, 150, 258, 211, 278, 250, 109, 148, 281,\n",
       "        44,  70, 325,  61, 283, 120,  91, 262, 382, 255, 242, 293, 268,\n",
       "       194,  35, 176, 312, 175,  20, 346, 387, 140, 315, 253,  69, 295,\n",
       "       374, 289,  55, 153, 167,  31, 127, 198, 147, 191,  28, 296, 279,\n",
       "       218, 337,  15, 112,   9,  39, 168, 254, 237, 116, 291, 263, 329,\n",
       "       171, 136, 286, 244, 188, 145,  74, 108, 363, 277, 179, 361, 301,\n",
       "       388,  41, 157, 362,  52, 160,  67, 204, 101,  82,  85, 275,  66,\n",
       "       292, 322,   3, 181, 197,  18, 207, 313, 123, 264, 219, 124, 107,\n",
       "        57,  96, 349, 364, 348, 166, 339,   7, 282, 274, 214,  27, 240,\n",
       "       238, 327, 385, 161, 177, 234,  22, 351, 183, 326, 297, 381, 246,\n",
       "       210, 323,  23, 284, 344, 164, 199, 306, 302, 110, 182,  56, 118,\n",
       "       217,  49, 261, 371, 252, 132, 190,  65,  59, 105, 165, 272, 265,\n",
       "       334, 276,   1, 320, 350, 230, 251,  51, 360, 192, 223, 170,  83,\n",
       "       367, 359, 184, 314,  99, 143, 290, 202, 134, 389, 384, 377,  37,\n",
       "       203, 343, 209,  98, 342,  71,  30, 386, 212,  48, 186, 340, 379,\n",
       "       256,  63, 159, 196,  43,  78, 259, 247, 318, 328,  90, 298, 224,\n",
       "        38, 319, 117,  81,  77, 133, 155, 185,  89, 376,  24,  94, 189,\n",
       "       307,  86, 162,  60,  17,   5, 138,   0,  32, 355,  64, 205, 341,\n",
       "       227, 260,  75, 288, 130, 280, 114, 156, 308, 216, 213,  87, 232,\n",
       "       102, 122, 172, 366, 353, 139,  36,  93, 126, 137, 106, 206, 304])"
      ]
     },
     "execution_count": 3,
     "metadata": {},
     "output_type": "execute_result"
    }
   ],
   "source": [
    "np.argsort(data)"
   ]
  },
  {
   "cell_type": "code",
   "execution_count": 100,
   "metadata": {},
   "outputs": [
    {
     "data": {
      "text/plain": [
       "1.8035272860126235"
      ]
     },
     "execution_count": 100,
     "metadata": {},
     "output_type": "execute_result"
    }
   ],
   "source": [
    "data[174]"
   ]
  },
  {
   "cell_type": "code",
   "execution_count": 102,
   "metadata": {},
   "outputs": [
    {
     "data": {
      "text/plain": [
       "array([324,  72,  12, 345, 135, 316, 208,  40,  10, 149,  58,   6, 257,\n",
       "       173, 270,  16,  34, 194, 249,  54, 187, 169,  24, 215,  76,  11,\n",
       "       246, 115, 180, 311, 330, 113,  49, 347,   8, 233,  33, 136, 111,\n",
       "       328, 294, 226, 127, 321,  53, 231, 201, 239, 300, 269,  47, 267,\n",
       "       119,  13, 236,  46,  20,  26,  79, 339,  97, 255, 309, 296,  35,\n",
       "       317, 319, 243, 352, 144,  67, 373, 133, 354, 326,   9, 302, 142,\n",
       "       178,  23, 303, 299,  70, 150, 384,  19, 109, 229, 332, 385, 285,\n",
       "       387, 358, 281,  96, 283,  84,  68, 293, 218, 174, 195, 148,  88,\n",
       "       128,   2,  55, 241, 125,  82, 158, 262, 368,  63, 333, 202,  73,\n",
       "       235, 141, 331, 346, 315, 301, 284, 153, 348, 124,  69,  21, 313,\n",
       "        50, 386, 225, 356, 329, 151, 375,  15, 227, 129, 120, 252, 273,\n",
       "       378,  25, 170, 336,   3, 245, 132,  92, 102, 305, 362, 287,  45,\n",
       "       193,  14, 376, 146, 188, 154, 364, 190, 264, 374, 343,  80, 310,\n",
       "       198, 121, 272, 167, 147,   5, 359, 204,  28, 116,  83, 166, 279,\n",
       "       323, 171, 266, 357, 161, 271,  57, 200, 338, 228, 381, 256,  41,\n",
       "       203, 308, 369, 274, 139, 248, 322, 325, 107, 159, 114, 103, 238,\n",
       "       286, 140,  42, 210,   4, 377, 214,  77, 250,  27, 219, 100, 371,\n",
       "       292, 388, 382, 209, 275, 242, 383, 105, 361, 134, 199, 389, 145,\n",
       "       258,  36, 101, 259, 289, 318, 268, 175,  81, 223, 191, 152, 220,\n",
       "       254, 278, 177,  38, 234,   7,  18,  98, 197,  85, 165, 370, 182,\n",
       "       104, 156, 192, 112, 162, 306, 304, 334, 230, 179, 355, 335, 380,\n",
       "       379, 365, 372, 282,  39,  95, 351,  61, 340, 277, 353,  29,   1,\n",
       "       106,  74, 363, 288, 349, 216, 221, 295,  56,  32, 342, 312, 211,\n",
       "       110, 181, 291, 213, 237, 131, 157, 240, 265, 168,   0, 207, 337,\n",
       "       222, 344,  66, 276, 298,  30, 341, 138,  62,  89, 163, 263, 367,\n",
       "       176, 118, 196,  93, 314, 123,  64, 205, 360, 108,  22,  51, 280,\n",
       "       217, 126, 307, 244,  52,  94,  44, 251, 164,  71, 297, 160, 212,\n",
       "        31, 232, 320,  91, 253, 350, 172,  65, 224, 206,  90, 143, 247,\n",
       "        37, 366,  78,  86, 117,  59, 185, 155, 186,  87, 130, 260,  99,\n",
       "       122, 137, 261, 189, 183,  75, 327,  48,  43, 184, 290,  60,  17])"
      ]
     },
     "execution_count": 102,
     "metadata": {},
     "output_type": "execute_result"
    }
   ],
   "source": [
    "np.argsort(data)    "
   ]
  },
  {
   "cell_type": "code",
   "execution_count": 93,
   "metadata": {},
   "outputs": [],
   "source": [
    "data_orig = data.copy()"
   ]
  },
  {
   "cell_type": "code",
   "execution_count": 80,
   "metadata": {},
   "outputs": [
    {
     "data": {
      "text/plain": [
       "0.03714870533679382"
      ]
     },
     "execution_count": 80,
     "metadata": {},
     "output_type": "execute_result"
    }
   ],
   "source": [
    "term2"
   ]
  },
  {
   "cell_type": "code",
   "execution_count": 81,
   "metadata": {},
   "outputs": [
    {
     "data": {
      "text/plain": [
       "1"
      ]
     },
     "execution_count": 81,
     "metadata": {},
     "output_type": "execute_result"
    }
   ],
   "source": [
    "combs"
   ]
  },
  {
   "cell_type": "code",
   "execution_count": 73,
   "metadata": {},
   "outputs": [
    {
     "data": {
      "text/plain": [
       "179"
      ]
     },
     "execution_count": 73,
     "metadata": {},
     "output_type": "execute_result"
    }
   ],
   "source": [
    "x_axis[np.argmax(pdf)]"
   ]
  },
  {
   "cell_type": "code",
   "execution_count": 58,
   "metadata": {},
   "outputs": [
    {
     "data": {
      "text/plain": [
       "[<matplotlib.lines.Line2D at 0x7f6fb50f66d0>]"
      ]
     },
     "execution_count": 58,
     "metadata": {},
     "output_type": "execute_result"
    },
    {
     "data": {
      "image/png": "[encoded data removed]",
      "text/plain": [
       "<Figure size 432x288 with 1 Axes>"
      ]
     },
     "metadata": {
      "needs_background": "light"
     },
     "output_type": "display_data"
    }
   ],
   "source": [
    "#number of noisy samples\n",
    "t = 6\n",
    "#number of folds\n",
    "n = 3\n",
    "\n",
    "#total combinations\n",
    "total = calc_possibilities(t,n,0,t)\n",
    "\n",
    "expect = 0\n",
    "pdf = []\n",
    "x_axis = []\n",
    "for h in range(0,t-t//n+1):\n",
    "    max_fold_samples = t//n + h\n",
    "    b = t//n + h\n",
    "    a = 0\n",
    "    combs = calc_possibilities(t-max_fold_samples,n-1,0,b)\n",
    "    pdf.append(combs)\n",
    "    x_axis.append(max_fold_samples)\n",
    "plt.plot(x_axis,pdf/np.sum(pdf))"
   ]
  },
  {
   "cell_type": "code",
   "execution_count": 61,
   "metadata": {},
   "outputs": [
    {
     "data": {
      "text/plain": [
       "28"
      ]
     },
     "execution_count": 61,
     "metadata": {},
     "output_type": "execute_result"
    }
   ],
   "source": [
    "total"
   ]
  },
  {
   "cell_type": "code",
   "execution_count": 63,
   "metadata": {},
   "outputs": [
    {
     "data": {
      "text/plain": [
       "3.607142857142857"
      ]
     },
     "execution_count": 63,
     "metadata": {},
     "output_type": "execute_result"
    }
   ],
   "source": [
    "101/28"
   ]
  },
  {
   "cell_type": "code",
   "execution_count": 49,
   "metadata": {},
   "outputs": [
    {
     "data": {
      "text/plain": [
       "[1, 4, 3, 2, 1]"
      ]
     },
     "execution_count": 49,
     "metadata": {},
     "output_type": "execute_result"
    }
   ],
   "source": [
    "pdf"
   ]
  },
  {
   "cell_type": "code",
   "execution_count": 59,
   "metadata": {},
   "outputs": [
    {
     "data": {
      "text/plain": [
       "3.818181818181818"
      ]
     },
     "execution_count": 59,
     "metadata": {},
     "output_type": "execute_result"
    }
   ],
   "source": [
    "np.sum([pdf[i]*x_axis[i]/np.sum(pdf) for i in range(len(pdf))])"
   ]
  },
  {
   "cell_type": "code",
   "execution_count": 34,
   "metadata": {},
   "outputs": [
    {
     "data": {
      "text/plain": [
       "11"
      ]
     },
     "execution_count": 34,
     "metadata": {},
     "output_type": "execute_result"
    }
   ],
   "source": [
    "calc_possibilities(10,2,0,10)"
   ]
  },
  {
   "cell_type": "code",
   "execution_count": 70,
   "metadata": {},
   "outputs": [],
   "source": [
    "expectation = np.sum([pdf[i]*x_axis[i]/np.sum(pdf) for i in range(len(pdf))])"
   ]
  },
  {
   "cell_type": "code",
   "execution_count": 76,
   "metadata": {},
   "outputs": [
    {
     "data": {
      "text/plain": [
       "7.583150019957587"
      ]
     },
     "execution_count": 76,
     "metadata": {},
     "output_type": "execute_result"
    }
   ],
   "source": [
    "np.sqrt(np.sum([pdf[i]*((x_axis[i]-expectation)**2)/np.sum(pdf) for i in range(len(pdf))]))"
   ]
  },
  {
   "cell_type": "code",
   "execution_count": 71,
   "metadata": {},
   "outputs": [
    {
     "data": {
      "text/plain": [
       "180.34515560368985"
      ]
     },
     "execution_count": 71,
     "metadata": {},
     "output_type": "execute_result"
    }
   ],
   "source": [
    "expectation"
   ]
  },
  {
   "cell_type": "code",
   "execution_count": 29,
   "metadata": {},
   "outputs": [
    {
     "data": {
      "text/plain": [
       "73.32302430734661"
      ]
     },
     "execution_count": 29,
     "metadata": {},
     "output_type": "execute_result"
    }
   ],
   "source": [
    "expectation"
   ]
  },
  {
   "cell_type": "code",
   "execution_count": 21,
   "metadata": {},
   "outputs": [
    {
     "data": {
      "text/plain": [
       "641.0"
      ]
     },
     "execution_count": 21,
     "metadata": {},
     "output_type": "execute_result"
    }
   ],
   "source": [
    "t-t/n+1"
   ]
  },
  {
   "cell_type": "code",
   "execution_count": 19,
   "metadata": {},
   "outputs": [
    {
     "data": {
      "text/plain": [
       "891"
      ]
     },
     "execution_count": 19,
     "metadata": {},
     "output_type": "execute_result"
    }
   ],
   "source": [
    "calc_possibilities(20,4,0,10)"
   ]
  },
  {
   "cell_type": "code",
   "execution_count": null,
   "metadata": {},
   "outputs": [],
   "source": []
  }
 ],
 "metadata": {
  "kernelspec": {
   "display_name": "tiger",
   "language": "python",
   "name": "python3"
  },
  "language_info": {
   "codemirror_mode": {
    "name": "ipython",
    "version": 3
   },
   "file_extension": ".py",
   "mimetype": "text/x-python",
   "name": "python",
   "nbconvert_exporter": "python",
   "pygments_lexer": "ipython3",
   "version": "3.8.13"
  },
  "orig_nbformat": 4
 },
 "nbformat": 4,
 "nbformat_minor": 2
}
