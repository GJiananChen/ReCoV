{
 "cells": [
  {
   "cell_type": "code",
   "execution_count": 15,
   "metadata": {},
   "outputs": [],
   "source": [
    "import math\n",
    "import numpy as np\n",
    "import pandas as pd\n",
    "from matplotlib import pyplot as plt\n",
    "import seaborn as sns\n"
   ]
  },
  {
   "cell_type": "markdown",
   "metadata": {},
   "source": [
    "## Monte carlo experiment"
   ]
  },
  {
   "cell_type": "code",
   "execution_count": 20,
   "metadata": {},
   "outputs": [
    {
     "name": "stdout",
     "output_type": "stream",
     "text": [
      "174.12775 6.10920043356739\n"
     ]
    },
    {
     "data": {
      "text/plain": [
       "<AxesSubplot:ylabel='Count'>"
      ]
     },
     "execution_count": 20,
     "metadata": {},
     "output_type": "execute_result"
    },
    {
     "data": {
      "image/png": "[encoded data removed]",
      "text/plain": [
       "<Figure size 432x288 with 1 Axes>"
      ]
     },
     "metadata": {
      "needs_background": "light"
     },
     "output_type": "display_data"
    }
   ],
   "source": [
    "#Get worst fold , number of values\n",
    "n_noise = 800\n",
    "n_clean = 7200\n",
    "monte_runs = 20000\n",
    "k = 5\n",
    "run_result = []\n",
    "for r in range(monte_runs):  \n",
    "    np.random.seed(r)\n",
    "    samples = np.array([1]*n_noise + [0]*n_clean)\n",
    "    np.random.shuffle(samples)\n",
    "    #Split in k folds\n",
    "    subsets = [samples[i*(len(samples)//k):(i+1)*(len(samples)//k)] for i in range(k)]\n",
    "    get_noise_dist = [np.sum(subsets[i]) for i in range(k)]\n",
    "    run_result.append(np.max(get_noise_dist))\n",
    "print(np.mean(run_result),np.std(run_result))\n",
    "sns.histplot(run_result)\n"
   ]
  },
  {
   "cell_type": "code",
   "execution_count": null,
   "metadata": {},
   "outputs": [],
   "source": [
    "## Get number of runs\n",
    "n_iter = 2000\n"
   ]
  },
  {
   "cell_type": "markdown",
   "metadata": {},
   "source": [
    "## Theoretical Estimates"
   ]
  },
  {
   "cell_type": "code",
   "execution_count": 78,
   "metadata": {},
   "outputs": [],
   "source": [
    "def calc_possibilities(t,n,a,b):\n",
    "    sum = 0\n",
    "    for k in range(n+1):\n",
    "        if (n<k) or (t+n-1-a*n-k*(b-a+1)<(n-1)):\n",
    "            term = 0\n",
    "        else:\n",
    "            term = ((-1)**k) * math.comb(n,k) * math.comb(t+n-1-a*n-k*(b-a+1),n-1)\n",
    "        sum += term\n",
    "    return sum"
   ]
  },
  {
   "cell_type": "code",
   "execution_count": 15,
   "metadata": {},
   "outputs": [
    {
     "ename": "ValueError",
     "evalue": "n must be a non-negative integer",
     "output_type": "error",
     "traceback": [
      "\u001b[0;31m---------------------------------------------------------------------------\u001b[0m",
      "\u001b[0;31mValueError\u001b[0m                                Traceback (most recent call last)",
      "\u001b[1;32m/home/vishwesh/Projects/ReCoV/stats.ipynb Cell 3\u001b[0m in \u001b[0;36m<cell line: 4>\u001b[0;34m()\u001b[0m\n\u001b[1;32m      <a href='vscode-notebook-cell:/home/vishwesh/Projects/ReCoV/stats.ipynb#W5sZmlsZQ%3D%3D?line=1'>2</a>\u001b[0m a \u001b[39m=\u001b[39m \u001b[39m0\u001b[39m\n\u001b[1;32m      <a href='vscode-notebook-cell:/home/vishwesh/Projects/ReCoV/stats.ipynb#W5sZmlsZQ%3D%3D?line=2'>3</a>\u001b[0m b \u001b[39m=\u001b[39m \u001b[39m800\u001b[39m\n\u001b[0;32m----> <a href='vscode-notebook-cell:/home/vishwesh/Projects/ReCoV/stats.ipynb#W5sZmlsZQ%3D%3D?line=3'>4</a>\u001b[0m ((\u001b[39m-\u001b[39m\u001b[39m1\u001b[39m)\u001b[39m*\u001b[39m\u001b[39m*\u001b[39mk) \u001b[39m*\u001b[39m math\u001b[39m.\u001b[39mcomb(n,k) \u001b[39m*\u001b[39m math\u001b[39m.\u001b[39;49mcomb(t\u001b[39m+\u001b[39;49mn\u001b[39m-\u001b[39;49m\u001b[39m1\u001b[39;49m\u001b[39m-\u001b[39;49ma\u001b[39m*\u001b[39;49mn\u001b[39m-\u001b[39;49mk\u001b[39m*\u001b[39;49m(b\u001b[39m-\u001b[39;49ma\u001b[39m+\u001b[39;49m\u001b[39m1\u001b[39;49m),n\u001b[39m-\u001b[39;49m\u001b[39m1\u001b[39;49m)\n",
      "\u001b[0;31mValueError\u001b[0m: n must be a non-negative integer"
     ]
    }
   ],
   "source": [
    "k = 2\n",
    "a = 0\n",
    "b = 800\n",
    "((-1)**k) * math.comb(n,k) * math.comb(t+n-1-a*n-k*(b-a+1),n-1)"
   ]
  },
  {
   "cell_type": "code",
   "execution_count": 88,
   "metadata": {},
   "outputs": [
    {
     "data": {
      "text/plain": [
       "[<matplotlib.lines.Line2D at 0x7f6fb13deb20>]"
      ]
     },
     "execution_count": 88,
     "metadata": {},
     "output_type": "execute_result"
    },
    {
     "data": {
      "image/png": "[encoded data removed]",
      "text/plain": [
       "<Figure size 432x288 with 1 Axes>"
      ]
     },
     "metadata": {
      "needs_background": "light"
     },
     "output_type": "display_data"
    }
   ],
   "source": [
    "#number of noisy samples\n",
    "t = 800\n",
    "#number of folds\n",
    "n = 5\n",
    "\n",
    "#total combinations\n",
    "total = calc_possibilities(800,5,0,800)\n",
    "\n",
    "expect = 0\n",
    "pdf = []\n",
    "x_axis = []\n",
    "for h in range(0,t-t//n+1):\n",
    "    max_fold_samples = t//n + h\n",
    "    b = t//n + h \n",
    "    a = 0\n",
    "    term2 = math.comb(800,max_fold_samples)*math.comb(8000-800,1600-max_fold_samples)/math.comb(8000,1600)\n",
    "    combs = calc_possibilities(t-max_fold_samples,n-1,0,b)\n",
    "    pdf.append(combs*term2)\n",
    "    # pdf.append(term2)\n",
    "    x_axis.append(max_fold_samples)\n",
    "plt.plot(x_axis[:60],pdf[:60])\n"
   ]
  },
  {
   "cell_type": "code",
   "execution_count": 2,
   "metadata": {},
   "outputs": [],
   "source": [
    "import numpy as np\n",
    "with open(\"/home/vishwesh/Projects/ReCoV/results/memory_auc_cindex_4.npy\",\"rb\") as file:\n",
    "    data = np.load(file)"
   ]
  },
  {
   "cell_type": "code",
   "execution_count": 5,
   "metadata": {},
   "outputs": [
    {
     "data": {
      "text/plain": [
       "array([1.0759193 , 1.11327563, 1.13617569, 1.16173144, 1.1948341 ,\n",
       "       1.21855556, 1.22650867, 1.24519147, 1.25384393, 1.25825351,\n",
       "       1.25985881, 1.26071503, 1.27097049, 1.27432769, 1.28280407,\n",
       "       1.28543037, 1.29327173, 1.30172012, 1.30458809, 1.30540187,\n",
       "       1.31755226, 1.32390355, 1.32468798, 1.33431079, 1.35880036,\n",
       "       1.35955346, 1.36417437, 1.36748204, 1.36876905, 1.370418  ,\n",
       "       1.37472005, 1.37494856, 1.37931029, 1.38132624, 1.38265705,\n",
       "       1.38392309, 1.38948862, 1.39024793, 1.40065148, 1.40134206,\n",
       "       1.40211254, 1.40672888, 1.41002698, 1.4146405 , 1.41615554,\n",
       "       1.41752847, 1.42183889, 1.42296573, 1.42933816, 1.43093596,\n",
       "       1.43176241, 1.44006559, 1.44158291, 1.44525398, 1.44784153,\n",
       "       1.44914095, 1.45101672, 1.45551229, 1.45750965, 1.45845107,\n",
       "       1.46169499, 1.46704788, 1.46710338, 1.46735865, 1.47176124,\n",
       "       1.47189169, 1.48435853, 1.48442235, 1.49124508, 1.49801775,\n",
       "       1.49804085, 1.49851617, 1.50031384, 1.50076399, 1.50085624,\n",
       "       1.50109911, 1.50141674, 1.50612796, 1.50707193, 1.51466662,\n",
       "       1.52051608, 1.52306055, 1.52650159, 1.52667736, 1.52912871,\n",
       "       1.53350783, 1.53678886, 1.53965864, 1.5401618 , 1.54323476,\n",
       "       1.5438427 , 1.54518925, 1.54687031, 1.54893186, 1.55055256,\n",
       "       1.55095152, 1.55195701, 1.55219686, 1.5523769 , 1.55590485,\n",
       "       1.55638744, 1.56800092, 1.56824599, 1.56911635, 1.57298424,\n",
       "       1.57440401, 1.57488832, 1.57575768, 1.57635275, 1.57769638,\n",
       "       1.5784406 , 1.57846274, 1.58046087, 1.58575727, 1.58615864,\n",
       "       1.58705943, 1.59092014, 1.59567439, 1.60086891, 1.60121999,\n",
       "       1.6018743 , 1.60287963, 1.60396832, 1.61421965, 1.61461551,\n",
       "       1.61483213, 1.61551013, 1.61945095, 1.62152854, 1.62285842,\n",
       "       1.62321117, 1.62684009, 1.63111358, 1.63243267, 1.63405154,\n",
       "       1.63480884, 1.63885995, 1.63922558, 1.64054621, 1.64133843,\n",
       "       1.64194528, 1.64785126, 1.64881062, 1.64921054, 1.64974377,\n",
       "       1.65098765, 1.65127075, 1.65384098, 1.65508823, 1.65511647,\n",
       "       1.65626428, 1.65809408, 1.66084695, 1.66099864, 1.66145095,\n",
       "       1.66151899, 1.66645799, 1.66695535, 1.66883273, 1.67057413,\n",
       "       1.67510138, 1.67621759, 1.67734429, 1.67749065, 1.6802371 ,\n",
       "       1.68098829, 1.68257715, 1.68448024, 1.68669717, 1.69178329,\n",
       "       1.69247319, 1.69402979, 1.69450718, 1.69496785, 1.69656982,\n",
       "       1.69726199, 1.69749773, 1.6997083 , 1.70466402, 1.70668492,\n",
       "       1.71061975, 1.71075601, 1.71091329, 1.71588577, 1.71681227,\n",
       "       1.71815137, 1.71854139, 1.71882904, 1.71884009, 1.72034536,\n",
       "       1.72493703, 1.72627993, 1.72656088, 1.72729322, 1.72861551,\n",
       "       1.73030693, 1.73163431, 1.73252691, 1.73346965, 1.73572735,\n",
       "       1.73897129, 1.73915937, 1.73918627, 1.73992212, 1.74039739,\n",
       "       1.74408117, 1.74698821, 1.74827363, 1.7498747 , 1.75296087,\n",
       "       1.75326422, 1.75496279, 1.75641257, 1.75804304, 1.76087791,\n",
       "       1.76101018, 1.76350568, 1.76655593, 1.76855253, 1.77026617,\n",
       "       1.7734274 , 1.77360588, 1.77655438, 1.77812983, 1.78525239,\n",
       "       1.78603261, 1.79032879, 1.79186797, 1.79535541, 1.79781947,\n",
       "       1.79799001, 1.79928134, 1.79956263, 1.79990434, 1.80400347,\n",
       "       1.80716851, 1.80779023, 1.8104489 , 1.81260361, 1.81421274,\n",
       "       1.81715001, 1.81781487, 1.81903036, 1.82064859, 1.82379004,\n",
       "       1.82424267, 1.82687236, 1.83436711, 1.83466551, 1.83717738,\n",
       "       1.84036752, 1.8412306 , 1.84166949, 1.84187209, 1.84340681,\n",
       "       1.84348847, 1.84503622, 1.845759  , 1.84836351, 1.8519005 ,\n",
       "       1.85238811, 1.85596231, 1.856185  , 1.85723542, 1.85756125,\n",
       "       1.85767244, 1.85864144, 1.85968621, 1.86144933, 1.86203266,\n",
       "       1.86204743, 1.86236215, 1.86241159, 1.86738466, 1.86808746,\n",
       "       1.8690125 , 1.87165633, 1.87581897, 1.87886954, 1.87965108,\n",
       "       1.88286905, 1.88537243, 1.88687286, 1.88799382, 1.88950485,\n",
       "       1.89007614, 1.89225969, 1.89290114, 1.89471743, 1.89576545,\n",
       "       1.898137  , 1.89901098, 1.90002311, 1.9052004 , 1.90852398,\n",
       "       1.90964859, 1.91150677, 1.91441408, 1.91562504, 1.91638421,\n",
       "       1.91674003, 1.91792082, 1.92045339, 1.92064253, 1.92200641,\n",
       "       1.92373521, 1.92404653, 1.92748084, 1.92873855, 1.93174719,\n",
       "       1.93276545, 1.93743594, 1.93963925, 1.93966297, 1.93970388,\n",
       "       1.94018637, 1.94106471, 1.94196496, 1.9509472 , 1.95273141,\n",
       "       1.95743563, 1.96165753, 1.9632966 , 1.96663839, 1.96868666,\n",
       "       1.97231359, 1.98081597, 1.98208471, 1.98500901, 1.98518658,\n",
       "       1.98777055, 1.98937745, 1.98993702, 1.99148202, 1.99463575,\n",
       "       1.99702146, 1.99798391, 2.00130767, 2.00223076, 2.00551546,\n",
       "       2.01263703, 2.0165213 , 2.0166109 , 2.01723171, 2.01730444,\n",
       "       2.01903393, 2.02899209, 2.0295535 , 2.03018246, 2.03462222,\n",
       "       2.04187341, 2.04555244, 2.04879821, 2.05134536, 2.06359595,\n",
       "       2.06506754, 2.07697123, 2.079614  , 2.08773309, 2.08824004,\n",
       "       2.09042196, 2.09345049, 2.09548275, 2.09820142, 2.10017101,\n",
       "       2.1156456 , 2.11734354, 2.12660511, 2.12813606, 2.14008523,\n",
       "       2.1492888 , 2.15752931, 2.15941706, 2.1720222 , 2.19794842,\n",
       "       2.2102913 , 2.21377401, 2.21578693, 2.2257354 , 2.23169173,\n",
       "       2.23717482, 2.24153722, 2.24477191, 2.24603728, 2.25845772,\n",
       "       2.26206229, 2.26274408, 2.27033957, 2.28155562, 2.29846687])"
      ]
     },
     "execution_count": 5,
     "metadata": {},
     "output_type": "execute_result"
    }
   ],
   "source": [
    "np.sort(data)"
   ]
  },
  {
   "cell_type": "code",
   "execution_count": 1,
   "metadata": {},
   "outputs": [],
   "source": [
    "import numpy as np\n",
    "with open(\"./results/memory_cifarn_aggre_0.3.npy\",\"rb\") as file:\n",
    "    data = np.load(file)"
   ]
  },
  {
   "cell_type": "code",
   "execution_count": 6,
   "metadata": {},
   "outputs": [
    {
     "data": {
      "image/png": "[encoded data removed]",
      "text/plain": [
       "<Figure size 432x288 with 1 Axes>"
      ]
     },
     "metadata": {
      "needs_background": "light"
     },
     "output_type": "display_data"
    }
   ],
   "source": [
    "from matplotlib import pyplot as plt\n",
    "import torch\n",
    "\n",
    "cifar10n_pt = str('data/CIFAR-N/CIFAR-10_human.pt')\n",
    "cifar_h5 = str('data/CIFAR-N/cifar_feats.h5')\n",
    "\n",
    "\n",
    "noise_file = torch.load(cifar10n_pt)\n",
    "clean_label = noise_file['clean_label']\n",
    "worst_label = noise_file['worse_label']\n",
    "aggre_label = noise_file['aggre_label']\n",
    "random_label1 = noise_file['random_label1']\n",
    "random_label2 = noise_file['random_label2']\n",
    "random_label3 = noise_file['random_label3']\n",
    "\n",
    "y = aggre_label\n",
    "subset_length = 50000\n",
    "noisy = [0 if clean_label[x] == y[x] else 1 for x in range(subset_length)]\n",
    "gt = set(np.where(np.array(noisy)==1)[0])\n",
    "cln = set(np.arange(len(data))) - gt\n",
    "plt.scatter(list(cln),data[list(cln)])\n",
    "plt.scatter(list(gt),data[list(gt)])\n",
    "plt.legend([\"clean\",\"noisy\"])\n",
    "plt.show()\n"
   ]
  },
  {
   "cell_type": "code",
   "execution_count": 8,
   "metadata": {},
   "outputs": [
    {
     "name": "stderr",
     "output_type": "stream",
     "text": [
      "<frozen importlib._bootstrap>:219: RuntimeWarning: scipy._lib.messagestream.MessageStream size changed, may indicate binary incompatibility. Expected 56 from C header, got 64 from PyObject\n"
     ]
    },
    {
     "data": {
      "text/plain": [
       "<AxesSubplot:ylabel='Count'>"
      ]
     },
     "execution_count": 8,
     "metadata": {},
     "output_type": "execute_result"
    },
    {
     "data": {
      "image/png": "[encoded data removed]",
      "text/plain": [
       "<Figure size 432x288 with 1 Axes>"
      ]
     },
     "metadata": {
      "needs_background": "light"
     },
     "output_type": "display_data"
    }
   ],
   "source": [
    "import seaborn as sns\n",
    "sns.histplot(data)"
   ]
  },
  {
   "cell_type": "code",
   "execution_count": 53,
   "metadata": {},
   "outputs": [
    {
     "name": "stderr",
     "output_type": "stream",
     "text": [
      "/home/ramanav/anaconda3/envs/tiger2/lib/python3.8/site-packages/seaborn/distributions.py:2619: FutureWarning: `distplot` is a deprecated function and will be removed in a future version. Please adapt your code to use either `displot` (a figure-level function with similar flexibility) or `histplot` (an axes-level function for histograms).\n",
      "  warnings.warn(msg, FutureWarning)\n"
     ]
    },
    {
     "data": {
      "text/plain": [
       "<AxesSubplot:ylabel='Density'>"
      ]
     },
     "execution_count": 53,
     "metadata": {},
     "output_type": "execute_result"
    },
    {
     "data": {
      "image/png": "[encoded data removed]",
      "text/plain": [
       "<Figure size 432x288 with 1 Axes>"
      ]
     },
     "metadata": {
      "needs_background": "light"
     },
     "output_type": "display_data"
    }
   ],
   "source": [
    "MEM = []\n",
    "for runs in range(10000):\n",
    "    memory = 0\n",
    "    for i in range(20):\n",
    "        n = np.random.rand()\n",
    "        if n<=0.5:\n",
    "            like = 0.07*np.random.randn() + 0.88\n",
    "        else:\n",
    "            like = 0.1*np.random.randn() + 0.2\n",
    "        memory = 0.3*like + 0.7*memory\n",
    "    MEM.append(memory)\n",
    "sns.distplot(MEM)"
   ]
  },
  {
   "cell_type": "code",
   "execution_count": 49,
   "metadata": {},
   "outputs": [
    {
     "data": {
      "text/plain": [
       "0.9561582591322808"
      ]
     },
     "execution_count": 49,
     "metadata": {},
     "output_type": "execute_result"
    }
   ],
   "source": [
    "0.05*np.random.randn() + 0.9"
   ]
  },
  {
   "cell_type": "code",
   "execution_count": 17,
   "metadata": {},
   "outputs": [
    {
     "data": {
      "text/plain": [
       "4614"
      ]
     },
     "execution_count": 17,
     "metadata": {},
     "output_type": "execute_result"
    }
   ],
   "source": [
    "len(np.where(data<=0.25)[0])"
   ]
  },
  {
   "cell_type": "code",
   "execution_count": 54,
   "metadata": {},
   "outputs": [],
   "source": [
    "import numpy as np\n",
    "with open(\"/home/ramanav/Projects/ReCoV/results/memory_cifarn_worst_0.1_v2.npy\",\"rb\") as file:\n",
    "    memory = np.load(file)\n",
    "    "
   ]
  },
  {
   "cell_type": "code",
   "execution_count": 55,
   "metadata": {},
   "outputs": [
    {
     "data": {
      "text/plain": [
       "21923"
      ]
     },
     "execution_count": 55,
     "metadata": {},
     "output_type": "execute_result"
    }
   ],
   "source": [
    "len(np.where(memory<=0.5)[0])"
   ]
  },
  {
   "cell_type": "code",
   "execution_count": 5,
   "metadata": {},
   "outputs": [
    {
     "ename": "IndexError",
     "evalue": "only integers, slices (`:`), ellipsis (`...`), numpy.newaxis (`None`) and integer or boolean arrays are valid indices",
     "output_type": "error",
     "traceback": [
      "\u001b[0;31m---------------------------------------------------------------------------\u001b[0m",
      "\u001b[0;31mIndexError\u001b[0m                                Traceback (most recent call last)",
      "\u001b[1;32m/home/ramanav/Projects/ReCoV/stats.ipynb Cell 13\u001b[0m in \u001b[0;36m<module>\u001b[0;34m\u001b[0m\n\u001b[0;32m----> <a href='vscode-notebook-cell://ssh-remote%2Btitania/home/ramanav/Projects/ReCoV/stats.ipynb#X53sdnNjb2RlLXJlbW90ZQ%3D%3D?line=0'>1</a>\u001b[0m data[cln]\n",
      "\u001b[0;31mIndexError\u001b[0m: only integers, slices (`:`), ellipsis (`...`), numpy.newaxis (`None`) and integer or boolean arrays are valid indices"
     ]
    }
   ],
   "source": [
    "data[cln]"
   ]
  },
  {
   "cell_type": "code",
   "execution_count": 10,
   "metadata": {},
   "outputs": [
    {
     "data": {
      "text/plain": [
       "1.2932717310824893"
      ]
     },
     "execution_count": 10,
     "metadata": {},
     "output_type": "execute_result"
    }
   ],
   "source": [
    "data[154]"
   ]
  },
  {
   "cell_type": "code",
   "execution_count": 3,
   "metadata": {},
   "outputs": [
    {
     "data": {
      "text/plain": [
       "array([316, 257,  40,  54,  72, 115, 193, 249, 269, 173, 241, 347,   8,\n",
       "       195, 266,  58, 154, 378, 233, 119, 113,  10,  76,  16,  21, 180,\n",
       "       287, 158, 317,  53, 365, 215, 187,  46,   4,   6,  12,  26, 271,\n",
       "        34,  19, 299, 285,  13, 309, 303, 305, 208, 169, 174,  47, 336,\n",
       "       330, 380, 352, 311, 294, 144, 149, 248, 321, 236, 369, 235,  73,\n",
       "       151,   2, 200, 372, 131, 100, 103, 358, 245, 135, 356,  88, 270,\n",
       "       239, 229, 324,  45, 225, 231,  95, 128,  62, 332, 368,  25,  11,\n",
       "       338, 142, 163, 221, 228, 331,  80, 152,  79, 370, 383, 243, 222,\n",
       "       226, 146, 273, 121, 333, 178,  14,  68, 300, 375,  92, 354,  84,\n",
       "       310, 335, 201,  29, 357, 345,  50, 111,  97,  33, 373, 220, 141,\n",
       "       267, 104, 129, 125,  42, 150, 258, 211, 278, 250, 109, 148, 281,\n",
       "        44,  70, 325,  61, 283, 120,  91, 262, 382, 255, 242, 293, 268,\n",
       "       194,  35, 176, 312, 175,  20, 346, 387, 140, 315, 253,  69, 295,\n",
       "       374, 289,  55, 153, 167,  31, 127, 198, 147, 191,  28, 296, 279,\n",
       "       218, 337,  15, 112,   9,  39, 168, 254, 237, 116, 291, 263, 329,\n",
       "       171, 136, 286, 244, 188, 145,  74, 108, 363, 277, 179, 361, 301,\n",
       "       388,  41, 157, 362,  52, 160,  67, 204, 101,  82,  85, 275,  66,\n",
       "       292, 322,   3, 181, 197,  18, 207, 313, 123, 264, 219, 124, 107,\n",
       "        57,  96, 349, 364, 348, 166, 339,   7, 282, 274, 214,  27, 240,\n",
       "       238, 327, 385, 161, 177, 234,  22, 351, 183, 326, 297, 381, 246,\n",
       "       210, 323,  23, 284, 344, 164, 199, 306, 302, 110, 182,  56, 118,\n",
       "       217,  49, 261, 371, 252, 132, 190,  65,  59, 105, 165, 272, 265,\n",
       "       334, 276,   1, 320, 350, 230, 251,  51, 360, 192, 223, 170,  83,\n",
       "       367, 359, 184, 314,  99, 143, 290, 202, 134, 389, 384, 377,  37,\n",
       "       203, 343, 209,  98, 342,  71,  30, 386, 212,  48, 186, 340, 379,\n",
       "       256,  63, 159, 196,  43,  78, 259, 247, 318, 328,  90, 298, 224,\n",
       "        38, 319, 117,  81,  77, 133, 155, 185,  89, 376,  24,  94, 189,\n",
       "       307,  86, 162,  60,  17,   5, 138,   0,  32, 355,  64, 205, 341,\n",
       "       227, 260,  75, 288, 130, 280, 114, 156, 308, 216, 213,  87, 232,\n",
       "       102, 122, 172, 366, 353, 139,  36,  93, 126, 137, 106, 206, 304])"
      ]
     },
     "execution_count": 3,
     "metadata": {},
     "output_type": "execute_result"
    }
   ],
   "source": [
    "np.argsort(data)"
   ]
  },
  {
   "cell_type": "code",
   "execution_count": 100,
   "metadata": {},
   "outputs": [
    {
     "data": {
      "text/plain": [
       "1.8035272860126235"
      ]
     },
     "execution_count": 100,
     "metadata": {},
     "output_type": "execute_result"
    }
   ],
   "source": [
    "data[174]"
   ]
  },
  {
   "cell_type": "code",
   "execution_count": 102,
   "metadata": {},
   "outputs": [
    {
     "data": {
      "text/plain": [
       "array([324,  72,  12, 345, 135, 316, 208,  40,  10, 149,  58,   6, 257,\n",
       "       173, 270,  16,  34, 194, 249,  54, 187, 169,  24, 215,  76,  11,\n",
       "       246, 115, 180, 311, 330, 113,  49, 347,   8, 233,  33, 136, 111,\n",
       "       328, 294, 226, 127, 321,  53, 231, 201, 239, 300, 269,  47, 267,\n",
       "       119,  13, 236,  46,  20,  26,  79, 339,  97, 255, 309, 296,  35,\n",
       "       317, 319, 243, 352, 144,  67, 373, 133, 354, 326,   9, 302, 142,\n",
       "       178,  23, 303, 299,  70, 150, 384,  19, 109, 229, 332, 385, 285,\n",
       "       387, 358, 281,  96, 283,  84,  68, 293, 218, 174, 195, 148,  88,\n",
       "       128,   2,  55, 241, 125,  82, 158, 262, 368,  63, 333, 202,  73,\n",
       "       235, 141, 331, 346, 315, 301, 284, 153, 348, 124,  69,  21, 313,\n",
       "        50, 386, 225, 356, 329, 151, 375,  15, 227, 129, 120, 252, 273,\n",
       "       378,  25, 170, 336,   3, 245, 132,  92, 102, 305, 362, 287,  45,\n",
       "       193,  14, 376, 146, 188, 154, 364, 190, 264, 374, 343,  80, 310,\n",
       "       198, 121, 272, 167, 147,   5, 359, 204,  28, 116,  83, 166, 279,\n",
       "       323, 171, 266, 357, 161, 271,  57, 200, 338, 228, 381, 256,  41,\n",
       "       203, 308, 369, 274, 139, 248, 322, 325, 107, 159, 114, 103, 238,\n",
       "       286, 140,  42, 210,   4, 377, 214,  77, 250,  27, 219, 100, 371,\n",
       "       292, 388, 382, 209, 275, 242, 383, 105, 361, 134, 199, 389, 145,\n",
       "       258,  36, 101, 259, 289, 318, 268, 175,  81, 223, 191, 152, 220,\n",
       "       254, 278, 177,  38, 234,   7,  18,  98, 197,  85, 165, 370, 182,\n",
       "       104, 156, 192, 112, 162, 306, 304, 334, 230, 179, 355, 335, 380,\n",
       "       379, 365, 372, 282,  39,  95, 351,  61, 340, 277, 353,  29,   1,\n",
       "       106,  74, 363, 288, 349, 216, 221, 295,  56,  32, 342, 312, 211,\n",
       "       110, 181, 291, 213, 237, 131, 157, 240, 265, 168,   0, 207, 337,\n",
       "       222, 344,  66, 276, 298,  30, 341, 138,  62,  89, 163, 263, 367,\n",
       "       176, 118, 196,  93, 314, 123,  64, 205, 360, 108,  22,  51, 280,\n",
       "       217, 126, 307, 244,  52,  94,  44, 251, 164,  71, 297, 160, 212,\n",
       "        31, 232, 320,  91, 253, 350, 172,  65, 224, 206,  90, 143, 247,\n",
       "        37, 366,  78,  86, 117,  59, 185, 155, 186,  87, 130, 260,  99,\n",
       "       122, 137, 261, 189, 183,  75, 327,  48,  43, 184, 290,  60,  17])"
      ]
     },
     "execution_count": 102,
     "metadata": {},
     "output_type": "execute_result"
    }
   ],
   "source": [
    "np.argsort(data)    "
   ]
  },
  {
   "cell_type": "code",
   "execution_count": 93,
   "metadata": {},
   "outputs": [],
   "source": [
    "data_orig = data.copy()"
   ]
  },
  {
   "cell_type": "code",
   "execution_count": 80,
   "metadata": {},
   "outputs": [
    {
     "data": {
      "text/plain": [
       "0.03714870533679382"
      ]
     },
     "execution_count": 80,
     "metadata": {},
     "output_type": "execute_result"
    }
   ],
   "source": [
    "term2"
   ]
  },
  {
   "cell_type": "code",
   "execution_count": 81,
   "metadata": {},
   "outputs": [
    {
     "data": {
      "text/plain": [
       "1"
      ]
     },
     "execution_count": 81,
     "metadata": {},
     "output_type": "execute_result"
    }
   ],
   "source": [
    "combs"
   ]
  },
  {
   "cell_type": "code",
   "execution_count": 73,
   "metadata": {},
   "outputs": [
    {
     "data": {
      "text/plain": [
       "179"
      ]
     },
     "execution_count": 73,
     "metadata": {},
     "output_type": "execute_result"
    }
   ],
   "source": [
    "x_axis[np.argmax(pdf)]"
   ]
  },
  {
   "cell_type": "code",
   "execution_count": 58,
   "metadata": {},
   "outputs": [
    {
     "data": {
      "text/plain": [
       "[<matplotlib.lines.Line2D at 0x7f6fb50f66d0>]"
      ]
     },
     "execution_count": 58,
     "metadata": {},
     "output_type": "execute_result"
    },
    {
     "data": {
      "image/png": "[encoded data removed]",
      "text/plain": [
       "<Figure size 432x288 with 1 Axes>"
      ]
     },
     "metadata": {
      "needs_background": "light"
     },
     "output_type": "display_data"
    }
   ],
   "source": [
    "#number of noisy samples\n",
    "t = 6\n",
    "#number of folds\n",
    "n = 3\n",
    "\n",
    "#total combinations\n",
    "total = calc_possibilities(t,n,0,t)\n",
    "\n",
    "expect = 0\n",
    "pdf = []\n",
    "x_axis = []\n",
    "for h in range(0,t-t//n+1):\n",
    "    max_fold_samples = t//n + h\n",
    "    b = t//n + h\n",
    "    a = 0\n",
    "    combs = calc_possibilities(t-max_fold_samples,n-1,0,b)\n",
    "    pdf.append(combs)\n",
    "    x_axis.append(max_fold_samples)\n",
    "plt.plot(x_axis,pdf/np.sum(pdf))"
   ]
  },
  {
   "cell_type": "code",
   "execution_count": 61,
   "metadata": {},
   "outputs": [
    {
     "data": {
      "text/plain": [
       "28"
      ]
     },
     "execution_count": 61,
     "metadata": {},
     "output_type": "execute_result"
    }
   ],
   "source": [
    "total"
   ]
  },
  {
   "cell_type": "code",
   "execution_count": 63,
   "metadata": {},
   "outputs": [
    {
     "data": {
      "text/plain": [
       "3.607142857142857"
      ]
     },
     "execution_count": 63,
     "metadata": {},
     "output_type": "execute_result"
    }
   ],
   "source": [
    "101/28"
   ]
  },
  {
   "cell_type": "code",
   "execution_count": 49,
   "metadata": {},
   "outputs": [
    {
     "data": {
      "text/plain": [
       "[1, 4, 3, 2, 1]"
      ]
     },
     "execution_count": 49,
     "metadata": {},
     "output_type": "execute_result"
    }
   ],
   "source": [
    "pdf"
   ]
  },
  {
   "cell_type": "code",
   "execution_count": 59,
   "metadata": {},
   "outputs": [
    {
     "data": {
      "text/plain": [
       "3.818181818181818"
      ]
     },
     "execution_count": 59,
     "metadata": {},
     "output_type": "execute_result"
    }
   ],
   "source": [
    "np.sum([pdf[i]*x_axis[i]/np.sum(pdf) for i in range(len(pdf))])"
   ]
  },
  {
   "cell_type": "code",
   "execution_count": 34,
   "metadata": {},
   "outputs": [
    {
     "data": {
      "text/plain": [
       "11"
      ]
     },
     "execution_count": 34,
     "metadata": {},
     "output_type": "execute_result"
    }
   ],
   "source": [
    "calc_possibilities(10,2,0,10)"
   ]
  },
  {
   "cell_type": "code",
   "execution_count": 70,
   "metadata": {},
   "outputs": [],
   "source": [
    "expectation = np.sum([pdf[i]*x_axis[i]/np.sum(pdf) for i in range(len(pdf))])"
   ]
  },
  {
   "cell_type": "code",
   "execution_count": 76,
   "metadata": {},
   "outputs": [
    {
     "data": {
      "text/plain": [
       "7.583150019957587"
      ]
     },
     "execution_count": 76,
     "metadata": {},
     "output_type": "execute_result"
    }
   ],
   "source": [
    "np.sqrt(np.sum([pdf[i]*((x_axis[i]-expectation)**2)/np.sum(pdf) for i in range(len(pdf))]))"
   ]
  },
  {
   "cell_type": "code",
   "execution_count": 71,
   "metadata": {},
   "outputs": [
    {
     "data": {
      "text/plain": [
       "180.34515560368985"
      ]
     },
     "execution_count": 71,
     "metadata": {},
     "output_type": "execute_result"
    }
   ],
   "source": [
    "expectation"
   ]
  },
  {
   "cell_type": "code",
   "execution_count": 29,
   "metadata": {},
   "outputs": [
    {
     "data": {
      "text/plain": [
       "73.32302430734661"
      ]
     },
     "execution_count": 29,
     "metadata": {},
     "output_type": "execute_result"
    }
   ],
   "source": [
    "expectation"
   ]
  },
  {
   "cell_type": "code",
   "execution_count": 21,
   "metadata": {},
   "outputs": [
    {
     "data": {
      "text/plain": [
       "641.0"
      ]
     },
     "execution_count": 21,
     "metadata": {},
     "output_type": "execute_result"
    }
   ],
   "source": [
    "t-t/n+1"
   ]
  },
  {
   "cell_type": "code",
   "execution_count": 19,
   "metadata": {},
   "outputs": [
    {
     "data": {
      "text/plain": [
       "891"
      ]
     },
     "execution_count": 19,
     "metadata": {},
     "output_type": "execute_result"
    }
   ],
   "source": [
    "calc_possibilities(20,4,0,10)"
   ]
  },
  {
   "cell_type": "code",
   "execution_count": 3,
   "metadata": {},
   "outputs": [
    {
     "name": "stdout",
     "output_type": "stream",
     "text": [
      "\n",
      "GPU is ON!\n"
     ]
    }
   ],
   "source": [
    "import sys\n",
    "from pathlib import Path\n",
    "\n",
    "import random\n",
    "import csv\n",
    "import os\n",
    "import argparse\n",
    "import pickle\n",
    "\n",
    "import numpy as np\n",
    "import pandas as pd\n",
    "import wandb\n",
    "import torch\n",
    "import torch.utils.data as data_utils\n",
    "import torch.optim as optim\n",
    "from torch.autograd import Variable\n",
    "from sklearn.model_selection import StratifiedKFold\n",
    "from torch.utils.data.sampler import SubsetRandomSampler\n",
    "from sklearn.metrics import roc_auc_score\n",
    "import seaborn as sns\n",
    "from matplotlib import pyplot as plt\n",
    "\n",
    "from HECKTOR.model import  NegativeLogLikelihood, c_index, MIL_reg_Ins\n",
    "from HECKTOR.dataloader import AMINNDataset, MultiFocalBags, MultiFocalRegBags\n",
    "from HECKTOR.HECKTOR import train, test, set_seed, smallest_index, get_parser\n",
    "from sample import sample_folds\n",
    "from uncertainity import dropout_uncertainity\n",
    "\n",
    "\n",
    "#Indices to remove\n",
    "exclusion = []\n",
    "\n",
    "# args = get_parser()\n",
    "if True:\n",
    "    torch.cuda.manual_seed(1234)\n",
    "    print('\\nGPU is ON!')\n",
    "\n",
    "all_candidates = []\n",
    "# For more information please check dataloader.py\n",
    "data = AMINNDataset(data=\"hn\")\n",
    "features, labels = data.extract_dataset(subset=\"all\", censor=730, feature_class='original', normalize=True)\n",
    "dataset = MultiFocalRegBags(features,labels)"
   ]
  },
  {
   "cell_type": "code",
   "execution_count": null,
   "metadata": {},
   "outputs": [],
   "source": [
    "import torch\n",
    "trainset_1 = torch.utils.data.Subset(data, evens)"
   ]
  },
  {
   "cell_type": "code",
   "execution_count": 7,
   "metadata": {},
   "outputs": [
    {
     "data": {
      "text/html": [
       "<div>\n",
       "<style scoped>\n",
       "    .dataframe tbody tr th:only-of-type {\n",
       "        vertical-align: middle;\n",
       "    }\n",
       "\n",
       "    .dataframe tbody tr th {\n",
       "        vertical-align: top;\n",
       "    }\n",
       "\n",
       "    .dataframe thead th {\n",
       "        text-align: right;\n",
       "    }\n",
       "</style>\n",
       "<table border=\"1\" class=\"dataframe\">\n",
       "  <thead>\n",
       "    <tr style=\"text-align: right;\">\n",
       "      <th></th>\n",
       "      <th>ID</th>\n",
       "      <th>mor</th>\n",
       "      <th>fu</th>\n",
       "      <th>dm</th>\n",
       "      <th>dmfu</th>\n",
       "    </tr>\n",
       "  </thead>\n",
       "  <tbody>\n",
       "    <tr>\n",
       "      <th>156</th>\n",
       "      <td>1461</td>\n",
       "      <td>1</td>\n",
       "      <td>220</td>\n",
       "      <td>0</td>\n",
       "      <td>205</td>\n",
       "    </tr>\n",
       "    <tr>\n",
       "      <th>99</th>\n",
       "      <td>1260</td>\n",
       "      <td>0</td>\n",
       "      <td>730</td>\n",
       "      <td>0</td>\n",
       "      <td>2809</td>\n",
       "    </tr>\n",
       "    <tr>\n",
       "      <th>100</th>\n",
       "      <td>1260</td>\n",
       "      <td>0</td>\n",
       "      <td>730</td>\n",
       "      <td>0</td>\n",
       "      <td>2809</td>\n",
       "    </tr>\n",
       "    <tr>\n",
       "      <th>248</th>\n",
       "      <td>1838</td>\n",
       "      <td>0</td>\n",
       "      <td>730</td>\n",
       "      <td>0</td>\n",
       "      <td>2801</td>\n",
       "    </tr>\n",
       "    <tr>\n",
       "      <th>123</th>\n",
       "      <td>1339</td>\n",
       "      <td>1</td>\n",
       "      <td>88</td>\n",
       "      <td>0</td>\n",
       "      <td>81</td>\n",
       "    </tr>\n",
       "    <tr>\n",
       "      <th>...</th>\n",
       "      <td>...</td>\n",
       "      <td>...</td>\n",
       "      <td>...</td>\n",
       "      <td>...</td>\n",
       "      <td>...</td>\n",
       "    </tr>\n",
       "    <tr>\n",
       "      <th>121</th>\n",
       "      <td>1327</td>\n",
       "      <td>0</td>\n",
       "      <td>730</td>\n",
       "      <td>0</td>\n",
       "      <td>1318</td>\n",
       "    </tr>\n",
       "    <tr>\n",
       "      <th>192</th>\n",
       "      <td>1524</td>\n",
       "      <td>0</td>\n",
       "      <td>730</td>\n",
       "      <td>0</td>\n",
       "      <td>923</td>\n",
       "    </tr>\n",
       "    <tr>\n",
       "      <th>262</th>\n",
       "      <td>1879</td>\n",
       "      <td>0</td>\n",
       "      <td>730</td>\n",
       "      <td>0</td>\n",
       "      <td>1821</td>\n",
       "    </tr>\n",
       "    <tr>\n",
       "      <th>182</th>\n",
       "      <td>1501</td>\n",
       "      <td>0</td>\n",
       "      <td>730</td>\n",
       "      <td>0</td>\n",
       "      <td>1171</td>\n",
       "    </tr>\n",
       "    <tr>\n",
       "      <th>60</th>\n",
       "      <td>1106</td>\n",
       "      <td>0</td>\n",
       "      <td>730</td>\n",
       "      <td>0</td>\n",
       "      <td>837</td>\n",
       "    </tr>\n",
       "  </tbody>\n",
       "</table>\n",
       "<p>295 rows × 5 columns</p>\n",
       "</div>"
      ],
      "text/plain": [
       "       ID  mor   fu  dm  dmfu\n",
       "156  1461    1  220   0   205\n",
       "99   1260    0  730   0  2809\n",
       "100  1260    0  730   0  2809\n",
       "248  1838    0  730   0  2801\n",
       "123  1339    1   88   0    81\n",
       "..    ...  ...  ...  ..   ...\n",
       "121  1327    0  730   0  1318\n",
       "192  1524    0  730   0   923\n",
       "262  1879    0  730   0  1821\n",
       "182  1501    0  730   0  1171\n",
       "60   1106    0  730   0   837\n",
       "\n",
       "[295 rows x 5 columns]"
      ]
     },
     "execution_count": 7,
     "metadata": {},
     "output_type": "execute_result"
    }
   ],
   "source": [
    "labels"
   ]
  },
  {
   "cell_type": "code",
   "execution_count": 6,
   "metadata": {},
   "outputs": [
    {
     "data": {
      "text/html": [
       "<div>\n",
       "<style scoped>\n",
       "    .dataframe tbody tr th:only-of-type {\n",
       "        vertical-align: middle;\n",
       "    }\n",
       "\n",
       "    .dataframe tbody tr th {\n",
       "        vertical-align: top;\n",
       "    }\n",
       "\n",
       "    .dataframe thead th {\n",
       "        text-align: right;\n",
       "    }\n",
       "</style>\n",
       "<table border=\"1\" class=\"dataframe\">\n",
       "  <thead>\n",
       "    <tr style=\"text-align: right;\">\n",
       "      <th></th>\n",
       "      <th>original_shape_Elongation</th>\n",
       "      <th>original_shape_Flatness</th>\n",
       "      <th>original_shape_LeastAxisLength</th>\n",
       "      <th>original_shape_MajorAxisLength</th>\n",
       "      <th>original_shape_Maximum2DDiameterColumn</th>\n",
       "      <th>original_shape_Maximum2DDiameterRow</th>\n",
       "      <th>original_shape_Maximum2DDiameterSlice</th>\n",
       "      <th>original_shape_Maximum3DDiameter</th>\n",
       "      <th>original_shape_MeshVolume</th>\n",
       "      <th>original_shape_MinorAxisLength</th>\n",
       "      <th>...</th>\n",
       "      <th>original_gldm_LargeDependenceLowGrayLevelEmphasis</th>\n",
       "      <th>original_gldm_LowGrayLevelEmphasis</th>\n",
       "      <th>original_gldm_SmallDependenceEmphasis</th>\n",
       "      <th>original_gldm_SmallDependenceHighGrayLevelEmphasis</th>\n",
       "      <th>original_gldm_SmallDependenceLowGrayLevelEmphasis</th>\n",
       "      <th>original_ngtdm_Busyness</th>\n",
       "      <th>original_ngtdm_Coarseness</th>\n",
       "      <th>original_ngtdm_Complexity</th>\n",
       "      <th>original_ngtdm_Contrast</th>\n",
       "      <th>original_ngtdm_Strength</th>\n",
       "    </tr>\n",
       "  </thead>\n",
       "  <tbody>\n",
       "    <tr>\n",
       "      <th>156</th>\n",
       "      <td>-0.398782</td>\n",
       "      <td>-0.520131</td>\n",
       "      <td>2.535432</td>\n",
       "      <td>2.797235</td>\n",
       "      <td>2.725957</td>\n",
       "      <td>2.576690</td>\n",
       "      <td>2.567860</td>\n",
       "      <td>2.562464</td>\n",
       "      <td>3.574936</td>\n",
       "      <td>2.763834</td>\n",
       "      <td>...</td>\n",
       "      <td>-0.262075</td>\n",
       "      <td>-0.874024</td>\n",
       "      <td>-0.946580</td>\n",
       "      <td>-0.232993</td>\n",
       "      <td>-1.439772</td>\n",
       "      <td>2.646190</td>\n",
       "      <td>-1.131105</td>\n",
       "      <td>-0.009466</td>\n",
       "      <td>-1.199846</td>\n",
       "      <td>-0.928584</td>\n",
       "    </tr>\n",
       "    <tr>\n",
       "      <th>99</th>\n",
       "      <td>-2.942087</td>\n",
       "      <td>-2.330833</td>\n",
       "      <td>1.773023</td>\n",
       "      <td>4.569901</td>\n",
       "      <td>4.808285</td>\n",
       "      <td>4.521885</td>\n",
       "      <td>1.287701</td>\n",
       "      <td>4.486850</td>\n",
       "      <td>3.489824</td>\n",
       "      <td>1.392551</td>\n",
       "      <td>...</td>\n",
       "      <td>-0.385280</td>\n",
       "      <td>-0.788664</td>\n",
       "      <td>-0.843194</td>\n",
       "      <td>-0.301488</td>\n",
       "      <td>-1.170324</td>\n",
       "      <td>2.505749</td>\n",
       "      <td>-1.125230</td>\n",
       "      <td>0.091619</td>\n",
       "      <td>-0.794998</td>\n",
       "      <td>-0.932797</td>\n",
       "    </tr>\n",
       "    <tr>\n",
       "      <th>100</th>\n",
       "      <td>-3.291616</td>\n",
       "      <td>-2.755093</td>\n",
       "      <td>1.385093</td>\n",
       "      <td>5.219516</td>\n",
       "      <td>5.477763</td>\n",
       "      <td>5.367611</td>\n",
       "      <td>1.180391</td>\n",
       "      <td>5.361797</td>\n",
       "      <td>3.279117</td>\n",
       "      <td>1.235444</td>\n",
       "      <td>...</td>\n",
       "      <td>0.510892</td>\n",
       "      <td>0.263088</td>\n",
       "      <td>-1.182852</td>\n",
       "      <td>-0.751316</td>\n",
       "      <td>-0.814491</td>\n",
       "      <td>3.448106</td>\n",
       "      <td>-1.118301</td>\n",
       "      <td>-0.534204</td>\n",
       "      <td>-0.354763</td>\n",
       "      <td>-0.964597</td>\n",
       "    </tr>\n",
       "    <tr>\n",
       "      <th>248</th>\n",
       "      <td>1.235264</td>\n",
       "      <td>1.655113</td>\n",
       "      <td>2.808955</td>\n",
       "      <td>1.348548</td>\n",
       "      <td>1.250497</td>\n",
       "      <td>1.515759</td>\n",
       "      <td>2.436872</td>\n",
       "      <td>1.472706</td>\n",
       "      <td>2.949299</td>\n",
       "      <td>2.385612</td>\n",
       "      <td>...</td>\n",
       "      <td>0.115891</td>\n",
       "      <td>-0.495158</td>\n",
       "      <td>-0.777946</td>\n",
       "      <td>-0.419338</td>\n",
       "      <td>-1.208677</td>\n",
       "      <td>2.464151</td>\n",
       "      <td>-1.098583</td>\n",
       "      <td>-0.275512</td>\n",
       "      <td>-0.528016</td>\n",
       "      <td>-0.938888</td>\n",
       "    </tr>\n",
       "    <tr>\n",
       "      <th>123</th>\n",
       "      <td>0.478126</td>\n",
       "      <td>0.716690</td>\n",
       "      <td>2.536394</td>\n",
       "      <td>1.757524</td>\n",
       "      <td>1.841398</td>\n",
       "      <td>1.632956</td>\n",
       "      <td>2.296118</td>\n",
       "      <td>1.768143</td>\n",
       "      <td>2.859097</td>\n",
       "      <td>2.310627</td>\n",
       "      <td>...</td>\n",
       "      <td>-1.217833</td>\n",
       "      <td>-1.401991</td>\n",
       "      <td>0.434259</td>\n",
       "      <td>1.708357</td>\n",
       "      <td>-0.849198</td>\n",
       "      <td>-0.228239</td>\n",
       "      <td>-1.109390</td>\n",
       "      <td>2.365674</td>\n",
       "      <td>-0.865728</td>\n",
       "      <td>-0.039352</td>\n",
       "    </tr>\n",
       "    <tr>\n",
       "      <th>...</th>\n",
       "      <td>...</td>\n",
       "      <td>...</td>\n",
       "      <td>...</td>\n",
       "      <td>...</td>\n",
       "      <td>...</td>\n",
       "      <td>...</td>\n",
       "      <td>...</td>\n",
       "      <td>...</td>\n",
       "      <td>...</td>\n",
       "      <td>...</td>\n",
       "      <td>...</td>\n",
       "      <td>...</td>\n",
       "      <td>...</td>\n",
       "      <td>...</td>\n",
       "      <td>...</td>\n",
       "      <td>...</td>\n",
       "      <td>...</td>\n",
       "      <td>...</td>\n",
       "      <td>...</td>\n",
       "      <td>...</td>\n",
       "      <td>...</td>\n",
       "    </tr>\n",
       "    <tr>\n",
       "      <th>121</th>\n",
       "      <td>-0.419956</td>\n",
       "      <td>-1.727978</td>\n",
       "      <td>-1.810286</td>\n",
       "      <td>-1.189350</td>\n",
       "      <td>-1.630271</td>\n",
       "      <td>-1.275468</td>\n",
       "      <td>-1.035473</td>\n",
       "      <td>-1.197159</td>\n",
       "      <td>-1.111182</td>\n",
       "      <td>-1.316539</td>\n",
       "      <td>...</td>\n",
       "      <td>-1.274767</td>\n",
       "      <td>-0.653718</td>\n",
       "      <td>3.194829</td>\n",
       "      <td>2.371948</td>\n",
       "      <td>1.408580</td>\n",
       "      <td>-1.101150</td>\n",
       "      <td>1.984957</td>\n",
       "      <td>2.056094</td>\n",
       "      <td>3.279128</td>\n",
       "      <td>2.873172</td>\n",
       "    </tr>\n",
       "    <tr>\n",
       "      <th>192</th>\n",
       "      <td>-1.000375</td>\n",
       "      <td>-1.854113</td>\n",
       "      <td>-1.882082</td>\n",
       "      <td>-1.241142</td>\n",
       "      <td>-1.835517</td>\n",
       "      <td>-1.297125</td>\n",
       "      <td>-0.894376</td>\n",
       "      <td>-1.378357</td>\n",
       "      <td>-1.114035</td>\n",
       "      <td>-1.573369</td>\n",
       "      <td>...</td>\n",
       "      <td>-1.140950</td>\n",
       "      <td>-0.263468</td>\n",
       "      <td>1.925294</td>\n",
       "      <td>0.768508</td>\n",
       "      <td>2.484639</td>\n",
       "      <td>-1.065133</td>\n",
       "      <td>2.522588</td>\n",
       "      <td>0.179080</td>\n",
       "      <td>1.354041</td>\n",
       "      <td>1.736877</td>\n",
       "    </tr>\n",
       "    <tr>\n",
       "      <th>262</th>\n",
       "      <td>0.530275</td>\n",
       "      <td>0.687222</td>\n",
       "      <td>-1.484456</td>\n",
       "      <td>-1.848207</td>\n",
       "      <td>-1.604540</td>\n",
       "      <td>-1.711570</td>\n",
       "      <td>-1.821236</td>\n",
       "      <td>-1.804884</td>\n",
       "      <td>-1.115305</td>\n",
       "      <td>-1.620224</td>\n",
       "      <td>...</td>\n",
       "      <td>-0.775455</td>\n",
       "      <td>1.046789</td>\n",
       "      <td>1.325106</td>\n",
       "      <td>-0.426409</td>\n",
       "      <td>3.590648</td>\n",
       "      <td>-0.927571</td>\n",
       "      <td>2.933257</td>\n",
       "      <td>-0.628048</td>\n",
       "      <td>1.885076</td>\n",
       "      <td>0.906455</td>\n",
       "    </tr>\n",
       "    <tr>\n",
       "      <th>182</th>\n",
       "      <td>-0.930386</td>\n",
       "      <td>-0.498359</td>\n",
       "      <td>-1.581814</td>\n",
       "      <td>-1.532035</td>\n",
       "      <td>-1.412675</td>\n",
       "      <td>-1.526590</td>\n",
       "      <td>-1.958406</td>\n",
       "      <td>-1.596081</td>\n",
       "      <td>-1.119730</td>\n",
       "      <td>-1.761865</td>\n",
       "      <td>...</td>\n",
       "      <td>-0.950295</td>\n",
       "      <td>0.856242</td>\n",
       "      <td>1.295173</td>\n",
       "      <td>0.012377</td>\n",
       "      <td>2.173632</td>\n",
       "      <td>-1.031523</td>\n",
       "      <td>3.028985</td>\n",
       "      <td>-0.341722</td>\n",
       "      <td>2.138882</td>\n",
       "      <td>1.423244</td>\n",
       "    </tr>\n",
       "    <tr>\n",
       "      <th>60</th>\n",
       "      <td>-2.981929</td>\n",
       "      <td>-3.660252</td>\n",
       "      <td>-2.498719</td>\n",
       "      <td>-1.826948</td>\n",
       "      <td>-2.119785</td>\n",
       "      <td>-1.905656</td>\n",
       "      <td>-1.711610</td>\n",
       "      <td>-1.919199</td>\n",
       "      <td>-1.149809</td>\n",
       "      <td>-2.407450</td>\n",
       "      <td>...</td>\n",
       "      <td>-0.878744</td>\n",
       "      <td>3.147437</td>\n",
       "      <td>3.364475</td>\n",
       "      <td>-0.301026</td>\n",
       "      <td>7.965588</td>\n",
       "      <td>-1.066135</td>\n",
       "      <td>6.045282</td>\n",
       "      <td>-1.047770</td>\n",
       "      <td>0.951325</td>\n",
       "      <td>1.656963</td>\n",
       "    </tr>\n",
       "  </tbody>\n",
       "</table>\n",
       "<p>295 rows × 103 columns</p>\n",
       "</div>"
      ],
      "text/plain": [
       "     original_shape_Elongation  original_shape_Flatness  \\\n",
       "156                  -0.398782                -0.520131   \n",
       "99                   -2.942087                -2.330833   \n",
       "100                  -3.291616                -2.755093   \n",
       "248                   1.235264                 1.655113   \n",
       "123                   0.478126                 0.716690   \n",
       "..                         ...                      ...   \n",
       "121                  -0.419956                -1.727978   \n",
       "192                  -1.000375                -1.854113   \n",
       "262                   0.530275                 0.687222   \n",
       "182                  -0.930386                -0.498359   \n",
       "60                   -2.981929                -3.660252   \n",
       "\n",
       "     original_shape_LeastAxisLength  original_shape_MajorAxisLength  \\\n",
       "156                        2.535432                        2.797235   \n",
       "99                         1.773023                        4.569901   \n",
       "100                        1.385093                        5.219516   \n",
       "248                        2.808955                        1.348548   \n",
       "123                        2.536394                        1.757524   \n",
       "..                              ...                             ...   \n",
       "121                       -1.810286                       -1.189350   \n",
       "192                       -1.882082                       -1.241142   \n",
       "262                       -1.484456                       -1.848207   \n",
       "182                       -1.581814                       -1.532035   \n",
       "60                        -2.498719                       -1.826948   \n",
       "\n",
       "     original_shape_Maximum2DDiameterColumn  \\\n",
       "156                                2.725957   \n",
       "99                                 4.808285   \n",
       "100                                5.477763   \n",
       "248                                1.250497   \n",
       "123                                1.841398   \n",
       "..                                      ...   \n",
       "121                               -1.630271   \n",
       "192                               -1.835517   \n",
       "262                               -1.604540   \n",
       "182                               -1.412675   \n",
       "60                                -2.119785   \n",
       "\n",
       "     original_shape_Maximum2DDiameterRow  \\\n",
       "156                             2.576690   \n",
       "99                              4.521885   \n",
       "100                             5.367611   \n",
       "248                             1.515759   \n",
       "123                             1.632956   \n",
       "..                                   ...   \n",
       "121                            -1.275468   \n",
       "192                            -1.297125   \n",
       "262                            -1.711570   \n",
       "182                            -1.526590   \n",
       "60                             -1.905656   \n",
       "\n",
       "     original_shape_Maximum2DDiameterSlice  original_shape_Maximum3DDiameter  \\\n",
       "156                               2.567860                          2.562464   \n",
       "99                                1.287701                          4.486850   \n",
       "100                               1.180391                          5.361797   \n",
       "248                               2.436872                          1.472706   \n",
       "123                               2.296118                          1.768143   \n",
       "..                                     ...                               ...   \n",
       "121                              -1.035473                         -1.197159   \n",
       "192                              -0.894376                         -1.378357   \n",
       "262                              -1.821236                         -1.804884   \n",
       "182                              -1.958406                         -1.596081   \n",
       "60                               -1.711610                         -1.919199   \n",
       "\n",
       "     original_shape_MeshVolume  original_shape_MinorAxisLength  ...  \\\n",
       "156                   3.574936                        2.763834  ...   \n",
       "99                    3.489824                        1.392551  ...   \n",
       "100                   3.279117                        1.235444  ...   \n",
       "248                   2.949299                        2.385612  ...   \n",
       "123                   2.859097                        2.310627  ...   \n",
       "..                         ...                             ...  ...   \n",
       "121                  -1.111182                       -1.316539  ...   \n",
       "192                  -1.114035                       -1.573369  ...   \n",
       "262                  -1.115305                       -1.620224  ...   \n",
       "182                  -1.119730                       -1.761865  ...   \n",
       "60                   -1.149809                       -2.407450  ...   \n",
       "\n",
       "     original_gldm_LargeDependenceLowGrayLevelEmphasis  \\\n",
       "156                                          -0.262075   \n",
       "99                                           -0.385280   \n",
       "100                                           0.510892   \n",
       "248                                           0.115891   \n",
       "123                                          -1.217833   \n",
       "..                                                 ...   \n",
       "121                                          -1.274767   \n",
       "192                                          -1.140950   \n",
       "262                                          -0.775455   \n",
       "182                                          -0.950295   \n",
       "60                                           -0.878744   \n",
       "\n",
       "     original_gldm_LowGrayLevelEmphasis  \\\n",
       "156                           -0.874024   \n",
       "99                            -0.788664   \n",
       "100                            0.263088   \n",
       "248                           -0.495158   \n",
       "123                           -1.401991   \n",
       "..                                  ...   \n",
       "121                           -0.653718   \n",
       "192                           -0.263468   \n",
       "262                            1.046789   \n",
       "182                            0.856242   \n",
       "60                             3.147437   \n",
       "\n",
       "     original_gldm_SmallDependenceEmphasis  \\\n",
       "156                              -0.946580   \n",
       "99                               -0.843194   \n",
       "100                              -1.182852   \n",
       "248                              -0.777946   \n",
       "123                               0.434259   \n",
       "..                                     ...   \n",
       "121                               3.194829   \n",
       "192                               1.925294   \n",
       "262                               1.325106   \n",
       "182                               1.295173   \n",
       "60                                3.364475   \n",
       "\n",
       "     original_gldm_SmallDependenceHighGrayLevelEmphasis  \\\n",
       "156                                          -0.232993    \n",
       "99                                           -0.301488    \n",
       "100                                          -0.751316    \n",
       "248                                          -0.419338    \n",
       "123                                           1.708357    \n",
       "..                                                 ...    \n",
       "121                                           2.371948    \n",
       "192                                           0.768508    \n",
       "262                                          -0.426409    \n",
       "182                                           0.012377    \n",
       "60                                           -0.301026    \n",
       "\n",
       "     original_gldm_SmallDependenceLowGrayLevelEmphasis  \\\n",
       "156                                          -1.439772   \n",
       "99                                           -1.170324   \n",
       "100                                          -0.814491   \n",
       "248                                          -1.208677   \n",
       "123                                          -0.849198   \n",
       "..                                                 ...   \n",
       "121                                           1.408580   \n",
       "192                                           2.484639   \n",
       "262                                           3.590648   \n",
       "182                                           2.173632   \n",
       "60                                            7.965588   \n",
       "\n",
       "     original_ngtdm_Busyness  original_ngtdm_Coarseness  \\\n",
       "156                 2.646190                  -1.131105   \n",
       "99                  2.505749                  -1.125230   \n",
       "100                 3.448106                  -1.118301   \n",
       "248                 2.464151                  -1.098583   \n",
       "123                -0.228239                  -1.109390   \n",
       "..                       ...                        ...   \n",
       "121                -1.101150                   1.984957   \n",
       "192                -1.065133                   2.522588   \n",
       "262                -0.927571                   2.933257   \n",
       "182                -1.031523                   3.028985   \n",
       "60                 -1.066135                   6.045282   \n",
       "\n",
       "     original_ngtdm_Complexity  original_ngtdm_Contrast  \\\n",
       "156                  -0.009466                -1.199846   \n",
       "99                    0.091619                -0.794998   \n",
       "100                  -0.534204                -0.354763   \n",
       "248                  -0.275512                -0.528016   \n",
       "123                   2.365674                -0.865728   \n",
       "..                         ...                      ...   \n",
       "121                   2.056094                 3.279128   \n",
       "192                   0.179080                 1.354041   \n",
       "262                  -0.628048                 1.885076   \n",
       "182                  -0.341722                 2.138882   \n",
       "60                   -1.047770                 0.951325   \n",
       "\n",
       "     original_ngtdm_Strength  \n",
       "156                -0.928584  \n",
       "99                 -0.932797  \n",
       "100                -0.964597  \n",
       "248                -0.938888  \n",
       "123                -0.039352  \n",
       "..                       ...  \n",
       "121                 2.873172  \n",
       "192                 1.736877  \n",
       "262                 0.906455  \n",
       "182                 1.423244  \n",
       "60                  1.656963  \n",
       "\n",
       "[295 rows x 103 columns]"
      ]
     },
     "execution_count": 6,
     "metadata": {},
     "output_type": "execute_result"
    }
   ],
   "source": [
    "features"
   ]
  },
  {
   "cell_type": "code",
   "execution_count": 10,
   "metadata": {},
   "outputs": [
    {
     "data": {
      "text/plain": [
       "([array([-2.94208676, -2.33083326,  1.77302281,  4.56990069,  4.80828479,\n",
       "          4.52188463,  1.28770109,  4.48684984,  3.4898236 ,  1.39255063,\n",
       "         -1.99774266,  3.57830425, -1.72940997,  0.30760203,  0.88489241,\n",
       "          3.52499004,  0.48570352, -0.02835896,  0.17261813,  0.69742583,\n",
       "          0.60010636, -0.0235761 ,  0.70432873,  0.18840465,  0.366457  ,\n",
       "         -0.05467878,  0.72097314,  0.61613902, -0.36921798, -0.08263185,\n",
       "          0.094531  ,  0.21261974, -0.04348687,  0.13512142,  0.01303033,\n",
       "         -0.28827472,  1.00452321, -0.28413221, -0.21815643, -0.24542662,\n",
       "         -0.29944776,  0.35914315, -1.68287075,  0.99728785,  0.3505741 ,\n",
       "          0.9429634 ,  0.34554258,  0.9579392 ,  0.21215512, -0.19376036,\n",
       "          0.53050366, -0.03835709,  3.42587705, -0.46233653,  0.01903747,\n",
       "          0.13138626,  2.82320236,  1.55841739,  0.41158858, -0.77826893,\n",
       "          1.47123611,  3.84627624, -0.51360187, -0.56719261,  2.93333874,\n",
       "         -0.59227191,  0.05921129, -0.8476811 ,  2.79809725, -0.87018945,\n",
       "          0.474282  ,  0.18376431,  3.16788139,  3.1328808 ,  2.2425572 ,\n",
       "         -0.31854313,  1.59946942, -0.8700679 , -0.73931419, -0.09471424,\n",
       "         -0.13995792,  2.15072768, -1.02586768,  3.16187461,  1.18940642,\n",
       "          3.72580986, -0.31016373,  0.47427081,  3.13967348, -0.08511227,\n",
       "          0.10374338,  0.62334252,  0.39046967, -0.38527999, -0.78866425,\n",
       "         -0.84319379, -0.3014883 , -1.17032359,  2.50574866, -1.12523032,\n",
       "          0.09161944, -0.79499756, -0.93279701]),\n",
       "  array([-3.29161569e+00, -2.75509325e+00,  1.38509325e+00,  5.21951613e+00,\n",
       "          5.47776258e+00,  5.36761123e+00,  1.18039132e+00,  5.36179727e+00,\n",
       "          3.27911744e+00,  1.23544426e+00, -2.91705622e+00,  3.59736962e+00,\n",
       "         -1.46178374e+00,  2.38366619e-01,  3.75315045e-01,  3.29367202e+00,\n",
       "          1.27283217e-01,  1.16590499e-01, -5.15437103e-01, -1.05981516e-01,\n",
       "          3.70536344e-01, -1.58661216e-01,  4.88258639e-01,  5.01314281e-01,\n",
       "         -3.87867412e-01,  3.27929886e-02,  4.19412766e-01,  1.50393587e-01,\n",
       "         -2.16698740e-01, -3.54719591e-01, -5.18491157e-01, -4.67930220e-01,\n",
       "         -4.31475796e-01,  1.33138008e-01, -2.48813800e-01, -6.37775507e-01,\n",
       "          1.21318974e+00, -6.10111612e-01, -6.33098071e-01, -6.41944214e-01,\n",
       "         -9.73785287e-02, -4.01993162e-02, -2.04145039e+00,  9.32430698e-01,\n",
       "          5.75087087e-01,  6.07713652e-01,  5.76174333e-01,  4.63509194e-01,\n",
       "         -4.50655441e-02,  2.61318745e-03,  1.93072588e-01, -3.11608562e-01,\n",
       "          3.22509542e+00, -2.07912374e-01, -3.51362170e-01, -5.27710271e-01,\n",
       "          3.93758181e+00,  1.16067826e+00,  2.16578438e+00,  3.83764923e-01,\n",
       "          1.13465049e+00,  3.45333622e+00, -8.26787509e-01, -8.54625753e-01,\n",
       "          3.77065899e+00, -1.05707339e+00, -5.93872458e-01,  2.94448284e-01,\n",
       "          1.89492349e+00,  9.07421107e-02, -3.61859962e-01, -6.06881302e-01,\n",
       "          3.91650561e+00,  3.19324729e+00,  3.47695428e+00,  1.23898321e+00,\n",
       "         -2.02797025e-01, -2.35478402e+00, -3.06654374e+00, -1.02215743e+00,\n",
       "          2.96124309e-01,  2.36440811e+00, -1.45986930e+00,  3.90179532e+00,\n",
       "          7.26878129e-01,  3.54989224e+00, -1.04996809e-01,  5.03354485e-01,\n",
       "          2.99612794e+00, -3.54379359e-01, -5.16246358e-01,  8.37202350e-01,\n",
       "         -2.44578855e-01,  5.10892279e-01,  2.63087671e-01, -1.18285225e+00,\n",
       "         -7.51316297e-01, -8.14490971e-01,  3.44810650e+00, -1.11830117e+00,\n",
       "         -5.34203833e-01, -3.54763118e-01, -9.64597022e-01]),\n",
       "  array([-3.94387212e+00, -3.37498737e+00, -1.20734406e+00,  4.40729847e+00,\n",
       "          3.95354517e+00,  3.43089079e+00, -1.41736067e+00,  3.97856278e+00,\n",
       "         -2.34510648e-04, -1.21979408e+00, -4.12985029e+00,  7.13414851e-01,\n",
       "          8.92728038e-01, -1.99229912e-01,  6.26809016e-01,  1.97471326e-02,\n",
       "          6.36806656e-01,  1.09245619e+00, -6.95416211e-01, -6.51854964e-01,\n",
       "          1.97190571e-01,  7.64598441e-01,  8.62703768e-01,  2.64793026e-01,\n",
       "         -3.45022091e-01,  1.08416500e+00,  2.27513588e-01, -1.05761339e-01,\n",
       "         -6.91244803e-01,  3.87278524e-01, -1.28679202e-01, -4.13467907e-02,\n",
       "          3.32514150e-01,  1.08297135e-01,  5.41225397e-01, -1.61999547e-01,\n",
       "          1.50631900e+00,  6.13278700e-02,  1.60238576e-01, -2.36022765e-01,\n",
       "         -3.71552098e-01,  4.06870628e-01, -1.24942809e+00,  8.62450185e-01,\n",
       "         -8.84262661e-02, -1.40047489e-01, -7.93617038e-02, -3.56805775e-01,\n",
       "          4.36971220e-01, -5.25529223e-01,  4.98844001e-01,  4.38727650e-01,\n",
       "         -5.93905325e-02, -7.05291715e-01,  2.19966365e-01, -1.97799333e-01,\n",
       "          1.90697741e+00,  9.52481691e-01,  6.67893890e-01,  2.02436078e-01,\n",
       "          1.80969943e-01,  3.07812716e-01,  4.91721409e-01,  5.36221399e-01,\n",
       "          2.21631562e+00,  2.86535111e-01, -2.14597399e-01,  2.12354156e-01,\n",
       "          1.59608084e-01,  4.58557190e-01, -7.28549918e-01, -4.00499546e-01,\n",
       "         -4.43658581e-01, -2.99049169e-01, -5.43205705e-01, -3.27312634e-01,\n",
       "         -7.88670527e-01, -2.18687496e+00, -3.38782728e+00, -9.38622240e-01,\n",
       "         -1.30466790e+00,  1.29270522e+00, -5.38842651e-01, -4.50142567e-01,\n",
       "          4.07981807e-01,  1.73622557e-01,  6.30138180e-01, -1.89463607e-01,\n",
       "         -1.98350325e-01,  3.95562694e-01, -1.55194583e-01, -4.33102225e-01,\n",
       "         -1.61881982e-01, -2.36907111e-01,  1.90414744e-01, -3.57311263e-01,\n",
       "         -3.82554107e-01, -5.58551777e-01,  8.09468067e-02, -5.23537638e-01,\n",
       "         -3.69318809e-01,  1.23918987e+00, -5.97515839e-01]),\n",
       "  array([-2.43907448e+00, -2.83586590e+00, -1.01045694e+00,  2.17861562e+00,\n",
       "          2.23139438e+00,  2.65623430e+00, -3.73437783e-01,  2.56215241e+00,\n",
       "         -4.70587645e-02,  4.91981444e-02, -3.24859498e+00,  5.12329596e-01,\n",
       "          6.58142368e-01,  2.84764396e-01,  1.22918491e+00,  3.19592788e-03,\n",
       "          1.27589135e-01,  3.58179142e-01, -7.14534943e-01, -4.41070544e-01,\n",
       "          8.98193347e-01,  7.04907950e-02,  1.52352395e+00,  5.81185239e-01,\n",
       "         -6.77550845e-01,  3.36678334e-01,  1.09268928e+00,  2.28577326e-02,\n",
       "         -1.52699983e-01, -2.23126730e-01, -5.28986955e-01, -4.81936949e-01,\n",
       "         -4.07981984e-01,  1.31414520e-01, -1.95563020e-01, -3.53853568e-01,\n",
       "          7.03079780e-01, -2.15995698e-01, -9.04950101e-02, -3.84141298e-01,\n",
       "          1.08566792e-01, -2.92465071e-03, -5.03584549e-01,  3.34464874e-01,\n",
       "          2.26722837e-01, -4.22748986e-01,  2.51307638e-01, -4.81830126e-01,\n",
       "         -1.79434776e-01,  4.84749790e-01,  6.07373706e-02, -2.26881240e-01,\n",
       "         -7.81017985e-02, -3.11274046e-01, -2.92514541e-01, -5.92063686e-01,\n",
       "          1.95875519e+00,  3.16088602e-01,  1.18903288e+00,  7.30967927e-01,\n",
       "         -6.26578965e-02,  1.27977082e-01,  2.45425049e-01,  1.35622752e-01,\n",
       "          2.00077652e+00,  8.46455595e-02, -6.06963053e-01,  8.21265277e-01,\n",
       "         -1.98427573e-01,  4.45308426e-01, -7.08206511e-01, -7.95044993e-01,\n",
       "         -1.63095804e-01, -3.03290362e-01, -1.01720231e-01,  1.03070159e+00,\n",
       "         -9.01784020e-01, -2.34544678e+00, -3.22978042e+00, -1.06916170e+00,\n",
       "         -3.61946428e-01,  1.11590897e+00, -7.76632874e-01, -1.74261811e-01,\n",
       "          1.13926315e-01,  7.94574649e-03,  1.23800187e-01,  7.17287409e-01,\n",
       "         -1.18174593e-01, -2.21960415e-01, -5.46078757e-01,  9.68961163e-02,\n",
       "         -4.17303214e-01,  9.81862315e-02,  5.77843251e-01, -5.25984193e-01,\n",
       "         -6.64304049e-01,  2.14534876e-01,  4.48668305e-01, -4.94064291e-01,\n",
       "         -6.28126139e-01,  6.33729147e-01, -7.53472173e-01])],\n",
       " 0.0,\n",
       " ['1260', '1260', '1260', '1260'],\n",
       " 730,\n",
       " 1)"
      ]
     },
     "execution_count": 10,
     "metadata": {},
     "output_type": "execute_result"
    }
   ],
   "source": [
    "dataset[1]"
   ]
  },
  {
   "cell_type": "code",
   "execution_count": null,
   "metadata": {},
   "outputs": [],
   "source": []
  }
 ],
 "metadata": {
  "kernelspec": {
   "display_name": "tiger2",
   "language": "python",
   "name": "tiger2"
  },
  "language_info": {
   "codemirror_mode": {
    "name": "ipython",
    "version": 3
   },
   "file_extension": ".py",
   "mimetype": "text/x-python",
   "name": "python",
   "nbconvert_exporter": "python",
   "pygments_lexer": "ipython3",
   "version": "3.8.12"
  },
  "orig_nbformat": 4
 },
 "nbformat": 4,
 "nbformat_minor": 2
}
