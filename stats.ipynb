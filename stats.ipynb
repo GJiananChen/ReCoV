{
 "cells": [
  {
   "cell_type": "code",
   "execution_count": 77,
   "metadata": {},
   "outputs": [],
   "source": [
    "import math\n",
    "import numpy as np\n",
    "import pandas as pd\n",
    "from matplotlib import pyplot as plt\n",
    "import seaborn as sns"
   ]
  },
  {
   "cell_type": "code",
   "execution_count": 78,
   "metadata": {},
   "outputs": [],
   "source": [
    "def calc_possibilities(t,n,a,b):\n",
    "    sum = 0\n",
    "    for k in range(n+1):\n",
    "        if (n<k) or (t+n-1-a*n-k*(b-a+1)<(n-1)):\n",
    "            term = 0\n",
    "        else:\n",
    "            term = ((-1)**k) * math.comb(n,k) * math.comb(t+n-1-a*n-k*(b-a+1),n-1)\n",
    "        sum += term\n",
    "    return sum"
   ]
  },
  {
   "cell_type": "code",
   "execution_count": 15,
   "metadata": {},
   "outputs": [
    {
     "ename": "ValueError",
     "evalue": "n must be a non-negative integer",
     "output_type": "error",
     "traceback": [
      "\u001b[0;31m---------------------------------------------------------------------------\u001b[0m",
      "\u001b[0;31mValueError\u001b[0m                                Traceback (most recent call last)",
      "\u001b[1;32m/home/vishwesh/Projects/ReCoV/stats.ipynb Cell 3\u001b[0m in \u001b[0;36m<cell line: 4>\u001b[0;34m()\u001b[0m\n\u001b[1;32m      <a href='vscode-notebook-cell:/home/vishwesh/Projects/ReCoV/stats.ipynb#W5sZmlsZQ%3D%3D?line=1'>2</a>\u001b[0m a \u001b[39m=\u001b[39m \u001b[39m0\u001b[39m\n\u001b[1;32m      <a href='vscode-notebook-cell:/home/vishwesh/Projects/ReCoV/stats.ipynb#W5sZmlsZQ%3D%3D?line=2'>3</a>\u001b[0m b \u001b[39m=\u001b[39m \u001b[39m800\u001b[39m\n\u001b[0;32m----> <a href='vscode-notebook-cell:/home/vishwesh/Projects/ReCoV/stats.ipynb#W5sZmlsZQ%3D%3D?line=3'>4</a>\u001b[0m ((\u001b[39m-\u001b[39m\u001b[39m1\u001b[39m)\u001b[39m*\u001b[39m\u001b[39m*\u001b[39mk) \u001b[39m*\u001b[39m math\u001b[39m.\u001b[39mcomb(n,k) \u001b[39m*\u001b[39m math\u001b[39m.\u001b[39;49mcomb(t\u001b[39m+\u001b[39;49mn\u001b[39m-\u001b[39;49m\u001b[39m1\u001b[39;49m\u001b[39m-\u001b[39;49ma\u001b[39m*\u001b[39;49mn\u001b[39m-\u001b[39;49mk\u001b[39m*\u001b[39;49m(b\u001b[39m-\u001b[39;49ma\u001b[39m+\u001b[39;49m\u001b[39m1\u001b[39;49m),n\u001b[39m-\u001b[39;49m\u001b[39m1\u001b[39;49m)\n",
      "\u001b[0;31mValueError\u001b[0m: n must be a non-negative integer"
     ]
    }
   ],
   "source": [
    "k = 2\n",
    "a = 0\n",
    "b = 800\n",
    "((-1)**k) * math.comb(n,k) * math.comb(t+n-1-a*n-k*(b-a+1),n-1)"
   ]
  },
  {
   "cell_type": "code",
   "execution_count": 88,
   "metadata": {},
   "outputs": [
    {
     "data": {
      "text/plain": [
       "[<matplotlib.lines.Line2D at 0x7f6fb13deb20>]"
      ]
     },
     "execution_count": 88,
     "metadata": {},
     "output_type": "execute_result"
    },
    {
     "data": {
      "image/png": "[encoded data removed]",
      "text/plain": [
       "<Figure size 432x288 with 1 Axes>"
      ]
     },
     "metadata": {
      "needs_background": "light"
     },
     "output_type": "display_data"
    }
   ],
   "source": [
    "#number of noisy samples\n",
    "t = 800\n",
    "#number of folds\n",
    "n = 5\n",
    "\n",
    "#total combinations\n",
    "total = calc_possibilities(800,5,0,800)\n",
    "\n",
    "expect = 0\n",
    "pdf = []\n",
    "x_axis = []\n",
    "for h in range(0,t-t//n+1):\n",
    "    max_fold_samples = t//n + h\n",
    "    b = t//n + h \n",
    "    a = 0\n",
    "    term2 = math.comb(800,max_fold_samples)*math.comb(8000-800,1600-max_fold_samples)/math.comb(8000,1600)\n",
    "    combs = calc_possibilities(t-max_fold_samples,n-1,0,b)\n",
    "    pdf.append(combs*term2)\n",
    "    # pdf.append(term2)\n",
    "    x_axis.append(max_fold_samples)\n",
    "plt.plot(x_axis[:60],pdf[:60])\n"
   ]
  },
  {
   "cell_type": "code",
   "execution_count": 101,
   "metadata": {},
   "outputs": [],
   "source": [
    "with open(\"/home/vishwesh/Projects/ReCoV/results/memory_auc_cindex.npy\",\"rb\") as file:\n",
    "    data = np.load(file)"
   ]
  },
  {
   "cell_type": "code",
   "execution_count": 100,
   "metadata": {},
   "outputs": [
    {
     "data": {
      "text/plain": [
       "1.8035272860126235"
      ]
     },
     "execution_count": 100,
     "metadata": {},
     "output_type": "execute_result"
    }
   ],
   "source": [
    "data[174]"
   ]
  },
  {
   "cell_type": "code",
   "execution_count": 102,
   "metadata": {},
   "outputs": [
    {
     "data": {
      "text/plain": [
       "array([324,  72,  12, 345, 135, 316, 208,  40,  10, 149,  58,   6, 257,\n",
       "       173, 270,  16,  34, 194, 249,  54, 187, 169,  24, 215,  76,  11,\n",
       "       246, 115, 180, 311, 330, 113,  49, 347,   8, 233,  33, 136, 111,\n",
       "       328, 294, 226, 127, 321,  53, 231, 201, 239, 300, 269,  47, 267,\n",
       "       119,  13, 236,  46,  20,  26,  79, 339,  97, 255, 309, 296,  35,\n",
       "       317, 319, 243, 352, 144,  67, 373, 133, 354, 326,   9, 302, 142,\n",
       "       178,  23, 303, 299,  70, 150, 384,  19, 109, 229, 332, 385, 285,\n",
       "       387, 358, 281,  96, 283,  84,  68, 293, 218, 174, 195, 148,  88,\n",
       "       128,   2,  55, 241, 125,  82, 158, 262, 368,  63, 333, 202,  73,\n",
       "       235, 141, 331, 346, 315, 301, 284, 153, 348, 124,  69,  21, 313,\n",
       "        50, 386, 225, 356, 329, 151, 375,  15, 227, 129, 120, 252, 273,\n",
       "       378,  25, 170, 336,   3, 245, 132,  92, 102, 305, 362, 287,  45,\n",
       "       193,  14, 376, 146, 188, 154, 364, 190, 264, 374, 343,  80, 310,\n",
       "       198, 121, 272, 167, 147,   5, 359, 204,  28, 116,  83, 166, 279,\n",
       "       323, 171, 266, 357, 161, 271,  57, 200, 338, 228, 381, 256,  41,\n",
       "       203, 308, 369, 274, 139, 248, 322, 325, 107, 159, 114, 103, 238,\n",
       "       286, 140,  42, 210,   4, 377, 214,  77, 250,  27, 219, 100, 371,\n",
       "       292, 388, 382, 209, 275, 242, 383, 105, 361, 134, 199, 389, 145,\n",
       "       258,  36, 101, 259, 289, 318, 268, 175,  81, 223, 191, 152, 220,\n",
       "       254, 278, 177,  38, 234,   7,  18,  98, 197,  85, 165, 370, 182,\n",
       "       104, 156, 192, 112, 162, 306, 304, 334, 230, 179, 355, 335, 380,\n",
       "       379, 365, 372, 282,  39,  95, 351,  61, 340, 277, 353,  29,   1,\n",
       "       106,  74, 363, 288, 349, 216, 221, 295,  56,  32, 342, 312, 211,\n",
       "       110, 181, 291, 213, 237, 131, 157, 240, 265, 168,   0, 207, 337,\n",
       "       222, 344,  66, 276, 298,  30, 341, 138,  62,  89, 163, 263, 367,\n",
       "       176, 118, 196,  93, 314, 123,  64, 205, 360, 108,  22,  51, 280,\n",
       "       217, 126, 307, 244,  52,  94,  44, 251, 164,  71, 297, 160, 212,\n",
       "        31, 232, 320,  91, 253, 350, 172,  65, 224, 206,  90, 143, 247,\n",
       "        37, 366,  78,  86, 117,  59, 185, 155, 186,  87, 130, 260,  99,\n",
       "       122, 137, 261, 189, 183,  75, 327,  48,  43, 184, 290,  60,  17])"
      ]
     },
     "execution_count": 102,
     "metadata": {},
     "output_type": "execute_result"
    }
   ],
   "source": [
    "np.argsort(data)    "
   ]
  },
  {
   "cell_type": "code",
   "execution_count": 93,
   "metadata": {},
   "outputs": [],
   "source": [
    "data_orig = data.copy()"
   ]
  },
  {
   "cell_type": "code",
   "execution_count": 80,
   "metadata": {},
   "outputs": [
    {
     "data": {
      "text/plain": [
       "0.03714870533679382"
      ]
     },
     "execution_count": 80,
     "metadata": {},
     "output_type": "execute_result"
    }
   ],
   "source": [
    "term2"
   ]
  },
  {
   "cell_type": "code",
   "execution_count": 81,
   "metadata": {},
   "outputs": [
    {
     "data": {
      "text/plain": [
       "1"
      ]
     },
     "execution_count": 81,
     "metadata": {},
     "output_type": "execute_result"
    }
   ],
   "source": [
    "combs"
   ]
  },
  {
   "cell_type": "code",
   "execution_count": 73,
   "metadata": {},
   "outputs": [
    {
     "data": {
      "text/plain": [
       "179"
      ]
     },
     "execution_count": 73,
     "metadata": {},
     "output_type": "execute_result"
    }
   ],
   "source": [
    "x_axis[np.argmax(pdf)]"
   ]
  },
  {
   "cell_type": "code",
   "execution_count": 58,
   "metadata": {},
   "outputs": [
    {
     "data": {
      "text/plain": [
       "[<matplotlib.lines.Line2D at 0x7f6fb50f66d0>]"
      ]
     },
     "execution_count": 58,
     "metadata": {},
     "output_type": "execute_result"
    },
    {
     "data": {
      "image/png": "[encoded data removed]",
      "text/plain": [
       "<Figure size 432x288 with 1 Axes>"
      ]
     },
     "metadata": {
      "needs_background": "light"
     },
     "output_type": "display_data"
    }
   ],
   "source": [
    "#number of noisy samples\n",
    "t = 6\n",
    "#number of folds\n",
    "n = 3\n",
    "\n",
    "#total combinations\n",
    "total = calc_possibilities(t,n,0,t)\n",
    "\n",
    "expect = 0\n",
    "pdf = []\n",
    "x_axis = []\n",
    "for h in range(0,t-t//n+1):\n",
    "    max_fold_samples = t//n + h\n",
    "    b = t//n + h\n",
    "    a = 0\n",
    "    combs = calc_possibilities(t-max_fold_samples,n-1,0,b)\n",
    "    pdf.append(combs)\n",
    "    x_axis.append(max_fold_samples)\n",
    "plt.plot(x_axis,pdf/np.sum(pdf))"
   ]
  },
  {
   "cell_type": "code",
   "execution_count": 61,
   "metadata": {},
   "outputs": [
    {
     "data": {
      "text/plain": [
       "28"
      ]
     },
     "execution_count": 61,
     "metadata": {},
     "output_type": "execute_result"
    }
   ],
   "source": [
    "total"
   ]
  },
  {
   "cell_type": "code",
   "execution_count": 63,
   "metadata": {},
   "outputs": [
    {
     "data": {
      "text/plain": [
       "3.607142857142857"
      ]
     },
     "execution_count": 63,
     "metadata": {},
     "output_type": "execute_result"
    }
   ],
   "source": [
    "101/28"
   ]
  },
  {
   "cell_type": "code",
   "execution_count": 49,
   "metadata": {},
   "outputs": [
    {
     "data": {
      "text/plain": [
       "[1, 4, 3, 2, 1]"
      ]
     },
     "execution_count": 49,
     "metadata": {},
     "output_type": "execute_result"
    }
   ],
   "source": [
    "pdf"
   ]
  },
  {
   "cell_type": "code",
   "execution_count": 59,
   "metadata": {},
   "outputs": [
    {
     "data": {
      "text/plain": [
       "3.818181818181818"
      ]
     },
     "execution_count": 59,
     "metadata": {},
     "output_type": "execute_result"
    }
   ],
   "source": [
    "np.sum([pdf[i]*x_axis[i]/np.sum(pdf) for i in range(len(pdf))])"
   ]
  },
  {
   "cell_type": "code",
   "execution_count": 34,
   "metadata": {},
   "outputs": [
    {
     "data": {
      "text/plain": [
       "11"
      ]
     },
     "execution_count": 34,
     "metadata": {},
     "output_type": "execute_result"
    }
   ],
   "source": [
    "calc_possibilities(10,2,0,10)"
   ]
  },
  {
   "cell_type": "code",
   "execution_count": 70,
   "metadata": {},
   "outputs": [],
   "source": [
    "expectation = np.sum([pdf[i]*x_axis[i]/np.sum(pdf) for i in range(len(pdf))])"
   ]
  },
  {
   "cell_type": "code",
   "execution_count": 76,
   "metadata": {},
   "outputs": [
    {
     "data": {
      "text/plain": [
       "7.583150019957587"
      ]
     },
     "execution_count": 76,
     "metadata": {},
     "output_type": "execute_result"
    }
   ],
   "source": [
    "np.sqrt(np.sum([pdf[i]*((x_axis[i]-expectation)**2)/np.sum(pdf) for i in range(len(pdf))]))"
   ]
  },
  {
   "cell_type": "code",
   "execution_count": 71,
   "metadata": {},
   "outputs": [
    {
     "data": {
      "text/plain": [
       "180.34515560368985"
      ]
     },
     "execution_count": 71,
     "metadata": {},
     "output_type": "execute_result"
    }
   ],
   "source": [
    "expectation"
   ]
  },
  {
   "cell_type": "code",
   "execution_count": 29,
   "metadata": {},
   "outputs": [
    {
     "data": {
      "text/plain": [
       "73.32302430734661"
      ]
     },
     "execution_count": 29,
     "metadata": {},
     "output_type": "execute_result"
    }
   ],
   "source": [
    "expectation"
   ]
  },
  {
   "cell_type": "code",
   "execution_count": 21,
   "metadata": {},
   "outputs": [
    {
     "data": {
      "text/plain": [
       "641.0"
      ]
     },
     "execution_count": 21,
     "metadata": {},
     "output_type": "execute_result"
    }
   ],
   "source": [
    "t-t/n+1"
   ]
  },
  {
   "cell_type": "code",
   "execution_count": 19,
   "metadata": {},
   "outputs": [
    {
     "data": {
      "text/plain": [
       "891"
      ]
     },
     "execution_count": 19,
     "metadata": {},
     "output_type": "execute_result"
    }
   ],
   "source": [
    "calc_possibilities(20,4,0,10)"
   ]
  },
  {
   "cell_type": "code",
   "execution_count": null,
   "metadata": {},
   "outputs": [],
   "source": []
  }
 ],
 "metadata": {
  "kernelspec": {
   "display_name": "tiger",
   "language": "python",
   "name": "python3"
  },
  "language_info": {
   "codemirror_mode": {
    "name": "ipython",
    "version": 3
   },
   "file_extension": ".py",
   "mimetype": "text/x-python",
   "name": "python",
   "nbconvert_exporter": "python",
   "pygments_lexer": "ipython3",
   "version": "3.8.13"
  },
  "orig_nbformat": 4
 },
 "nbformat": 4,
 "nbformat_minor": 2
}
