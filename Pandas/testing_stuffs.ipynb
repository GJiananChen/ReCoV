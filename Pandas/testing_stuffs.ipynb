{
 "cells": [
  {
   "cell_type": "markdown",
   "metadata": {},
   "source": [
    "### Testing recov"
   ]
  },
  {
   "cell_type": "code",
   "execution_count": 15,
   "metadata": {},
   "outputs": [
    {
     "ename": "KeyboardInterrupt",
     "evalue": "",
     "output_type": "error",
     "traceback": [
      "\u001b[0;31m---------------------------------------------------------------------------\u001b[0m",
      "\u001b[0;31mKeyboardInterrupt\u001b[0m                         Traceback (most recent call last)",
      "\u001b[1;32m/home/ramanav/Projects/ReCoV/Pandas/testing_stuffs.ipynb Cell 2\u001b[0m line \u001b[0;36m4\n\u001b[1;32m     <a href='vscode-notebook-cell://ssh-remote%2Btitania/home/ramanav/Projects/ReCoV/Pandas/testing_stuffs.ipynb#W1sdnNjb2RlLXJlbW90ZQ%3D%3D?line=39'>40</a>\u001b[0m model \u001b[39m=\u001b[39m TransMIL_peg(n_classes\u001b[39m=\u001b[39m\u001b[39m6\u001b[39m)\n\u001b[1;32m     <a href='vscode-notebook-cell://ssh-remote%2Btitania/home/ramanav/Projects/ReCoV/Pandas/testing_stuffs.ipynb#W1sdnNjb2RlLXJlbW90ZQ%3D%3D?line=41'>42</a>\u001b[0m \u001b[39m#Prepare data\u001b[39;00m\n\u001b[0;32m---> <a href='vscode-notebook-cell://ssh-remote%2Btitania/home/ramanav/Projects/ReCoV/Pandas/testing_stuffs.ipynb#W1sdnNjb2RlLXJlbW90ZQ%3D%3D?line=42'>43</a>\u001b[0m (X_train_clean,y_train_clean),(X_val_clean,y_val_clean),(X_test_clean,y_test_clean), _ \u001b[39m=\u001b[39m preprocess_data(args)\n\u001b[1;32m     <a href='vscode-notebook-cell://ssh-remote%2Btitania/home/ramanav/Projects/ReCoV/Pandas/testing_stuffs.ipynb#W1sdnNjb2RlLXJlbW90ZQ%3D%3D?line=43'>44</a>\u001b[0m X_train_clean[\u001b[39m\"\u001b[39m\u001b[39misup_grade\u001b[39m\u001b[39m\"\u001b[39m] \u001b[39m=\u001b[39m y_train_clean\n\u001b[1;32m     <a href='vscode-notebook-cell://ssh-remote%2Btitania/home/ramanav/Projects/ReCoV/Pandas/testing_stuffs.ipynb#W1sdnNjb2RlLXJlbW90ZQ%3D%3D?line=44'>45</a>\u001b[0m train_split \u001b[39m=\u001b[39m X_train_clean\u001b[39m.\u001b[39mreset_index(drop\u001b[39m=\u001b[39m\u001b[39mTrue\u001b[39;00m)\n",
      "File \u001b[0;32m~/Projects/ReCoV/Pandas/train_mil.py:160\u001b[0m, in \u001b[0;36mpreprocess_data\u001b[0;34m(args)\u001b[0m\n\u001b[1;32m    158\u001b[0m \u001b[39mfor\u001b[39;00m i \u001b[39min\u001b[39;00m \u001b[39mrange\u001b[39m(\u001b[39mlen\u001b[39m(clean_df)):\n\u001b[1;32m    159\u001b[0m     paths \u001b[39m=\u001b[39m clean_df\u001b[39m.\u001b[39miloc[i][\u001b[39m\"\u001b[39m\u001b[39mimage_id\u001b[39m\u001b[39m\"\u001b[39m]\n\u001b[0;32m--> 160\u001b[0m     data \u001b[39m=\u001b[39m torch\u001b[39m.\u001b[39;49mload(Path(args\u001b[39m.\u001b[39;49mdata_root_dir)\u001b[39m/\u001b[39;49m\u001b[39mf\u001b[39;49m\u001b[39m\"\u001b[39;49m\u001b[39m{\u001b[39;49;00mpaths\u001b[39m}\u001b[39;49;00m\u001b[39m_featvec.pt\u001b[39;49m\u001b[39m\"\u001b[39;49m,map_location\u001b[39m=\u001b[39;49m\u001b[39m\"\u001b[39;49m\u001b[39mcpu\u001b[39;49m\u001b[39m\"\u001b[39;49m)\n\u001b[1;32m    161\u001b[0m     \u001b[39mif\u001b[39;00m \u001b[39mlen\u001b[39m(data)\u001b[39m<\u001b[39m\u001b[39m10\u001b[39m:\n\u001b[1;32m    162\u001b[0m         \u001b[39mcontinue\u001b[39;00m\n",
      "File \u001b[0;32m~/anaconda3/envs/graph/lib/python3.8/site-packages/torch/serialization.py:712\u001b[0m, in \u001b[0;36mload\u001b[0;34m(f, map_location, pickle_module, **pickle_load_args)\u001b[0m\n\u001b[1;32m    710\u001b[0m             opened_file\u001b[39m.\u001b[39mseek(orig_position)\n\u001b[1;32m    711\u001b[0m             \u001b[39mreturn\u001b[39;00m torch\u001b[39m.\u001b[39mjit\u001b[39m.\u001b[39mload(opened_file)\n\u001b[0;32m--> 712\u001b[0m         \u001b[39mreturn\u001b[39;00m _load(opened_zipfile, map_location, pickle_module, \u001b[39m*\u001b[39;49m\u001b[39m*\u001b[39;49mpickle_load_args)\n\u001b[1;32m    713\u001b[0m \u001b[39mreturn\u001b[39;00m _legacy_load(opened_file, map_location, pickle_module, \u001b[39m*\u001b[39m\u001b[39m*\u001b[39mpickle_load_args)\n",
      "File \u001b[0;32m~/anaconda3/envs/graph/lib/python3.8/site-packages/torch/serialization.py:1049\u001b[0m, in \u001b[0;36m_load\u001b[0;34m(zip_file, map_location, pickle_module, pickle_file, **pickle_load_args)\u001b[0m\n\u001b[1;32m   1047\u001b[0m unpickler \u001b[39m=\u001b[39m UnpicklerWrapper(data_file, \u001b[39m*\u001b[39m\u001b[39m*\u001b[39mpickle_load_args)\n\u001b[1;32m   1048\u001b[0m unpickler\u001b[39m.\u001b[39mpersistent_load \u001b[39m=\u001b[39m persistent_load\n\u001b[0;32m-> 1049\u001b[0m result \u001b[39m=\u001b[39m unpickler\u001b[39m.\u001b[39;49mload()\n\u001b[1;32m   1051\u001b[0m torch\u001b[39m.\u001b[39m_utils\u001b[39m.\u001b[39m_validate_loaded_sparse_tensors()\n\u001b[1;32m   1053\u001b[0m \u001b[39mreturn\u001b[39;00m result\n",
      "File \u001b[0;32m~/anaconda3/envs/graph/lib/python3.8/site-packages/torch/serialization.py:1019\u001b[0m, in \u001b[0;36m_load.<locals>.persistent_load\u001b[0;34m(saved_id)\u001b[0m\n\u001b[1;32m   1017\u001b[0m \u001b[39mif\u001b[39;00m key \u001b[39mnot\u001b[39;00m \u001b[39min\u001b[39;00m loaded_storages:\n\u001b[1;32m   1018\u001b[0m     nbytes \u001b[39m=\u001b[39m numel \u001b[39m*\u001b[39m torch\u001b[39m.\u001b[39m_utils\u001b[39m.\u001b[39m_element_size(dtype)\n\u001b[0;32m-> 1019\u001b[0m     load_tensor(dtype, nbytes, key, _maybe_decode_ascii(location))\n\u001b[1;32m   1021\u001b[0m \u001b[39mreturn\u001b[39;00m loaded_storages[key]\n",
      "File \u001b[0;32m~/anaconda3/envs/graph/lib/python3.8/site-packages/torch/serialization.py:997\u001b[0m, in \u001b[0;36m_load.<locals>.load_tensor\u001b[0;34m(dtype, numel, key, location)\u001b[0m\n\u001b[1;32m    994\u001b[0m \u001b[39mdef\u001b[39;00m \u001b[39mload_tensor\u001b[39m(dtype, numel, key, location):\n\u001b[1;32m    995\u001b[0m     name \u001b[39m=\u001b[39m \u001b[39mf\u001b[39m\u001b[39m'\u001b[39m\u001b[39mdata/\u001b[39m\u001b[39m{\u001b[39;00mkey\u001b[39m}\u001b[39;00m\u001b[39m'\u001b[39m\n\u001b[0;32m--> 997\u001b[0m     storage \u001b[39m=\u001b[39m zip_file\u001b[39m.\u001b[39;49mget_storage_from_record(name, numel, torch\u001b[39m.\u001b[39;49m_UntypedStorage)\u001b[39m.\u001b[39mstorage()\u001b[39m.\u001b[39m_untyped()\n\u001b[1;32m    998\u001b[0m     \u001b[39m# TODO: Once we decide to break serialization FC, we can\u001b[39;00m\n\u001b[1;32m    999\u001b[0m     \u001b[39m# stop wrapping with _TypedStorage\u001b[39;00m\n\u001b[1;32m   1000\u001b[0m     loaded_storages[key] \u001b[39m=\u001b[39m torch\u001b[39m.\u001b[39mstorage\u001b[39m.\u001b[39m_TypedStorage(\n\u001b[1;32m   1001\u001b[0m         wrap_storage\u001b[39m=\u001b[39mrestore_location(storage, location),\n\u001b[1;32m   1002\u001b[0m         dtype\u001b[39m=\u001b[39mdtype)\n",
      "\u001b[0;31mKeyboardInterrupt\u001b[0m: "
     ]
    }
   ],
   "source": [
    "from mil_models import TransMIL_peg\n",
    "from pandas_dataloader import Pandas_Dataset\n",
    "from train_mil import preprocess_data,train_full,val_one_epoch,collate\n",
    "# import argparse\n",
    "from pathlib import Path\n",
    "import torch\n",
    "import time\n",
    "import torchmetrics\n",
    "import pandas as pd\n",
    "import numpy as np\n",
    "\n",
    "class args_parse:\n",
    "    def __init__(self,**kwargs):\n",
    "        self.__dict__.update(kwargs)\n",
    "\n",
    "args = args_parse(seed=1,\n",
    "                  data_root_dir='/localdisk3/ramanav/TCGA_processed/PANDAS_MIL_Patches_Ctrans_1MPP/',\n",
    "                  csv_path='/aippmdata/public/PANDAS',\n",
    "                  save_dir='/home/ramanav/Projects/ReCoV/results/pandas',\n",
    "                  num_classes=6,\n",
    "                  batch_size=128,\n",
    "                  lr=2e-4,\n",
    "                  lamda=0.0005,\n",
    "                  patience=10,\n",
    "                  num_epochs=20,\n",
    "                  n_folds=5,\n",
    "                #   model_name=\"15Dec_09_26_56_20_2.5_s1_[1, 1, 0]\",\n",
    "                  # model_name=\"20Dec_15_47_06_20_2.5_s1_[0, 0, 0, 1]_0\",\n",
    "                  model_name = \"20Dec_16_02_12_20_1.0_s1_[0, 0, 0, 1]_1\",\n",
    "                  exclusion=True)\n",
    "\n",
    "MODEL_NAME = args.model_name\n",
    "ROOT_PATH = Path(args.save_dir)\n",
    "EXCLUSION = args.exclusion\n",
    "THRESHOLD = 0.4\n",
    "DEVICE = torch.device(f\"cuda:0\" if torch.cuda.is_available() else \"cpu\")\n",
    "timestamp = time.strftime(\"_%d%b_%H_%M_%S\", time.gmtime())\n",
    "\n",
    "#model defination\n",
    "model = TransMIL_peg(n_classes=6)\n",
    "\n",
    "#Prepare data\n",
    "(X_train_clean,y_train_clean),(X_val_clean,y_val_clean),(X_test_clean,y_test_clean), _ = preprocess_data(args)\n",
    "X_train_clean[\"isup_grade\"] = y_train_clean\n",
    "train_split = X_train_clean.reset_index(drop=True)\n",
    "X_val_clean[\"isup_grade\"] = y_val_clean\n",
    "val_split = X_val_clean.reset_index(drop=True)\n",
    "X_test_clean[\"isup_grade\"] = y_test_clean\n",
    "# train_split = pd.concat((X_train_clean,X_val_clean))\n",
    "# train_split = train_split.sort_values(by=\"image_id\").reset_index(drop=True)\n",
    "# train_split[\"int_id\"] = train_split.index\n",
    "test_split = X_test_clean.reset_index(drop=True)\n",
    "\n",
    "\n",
    "metricfunc = torchmetrics.MetricCollection([torchmetrics.Accuracy(num_classes=args.num_classes,average=None),\n",
    "                                        torchmetrics.F1Score(num_classes=args.num_classes,average='weighted'),\n",
    "                                        ])\n",
    "\n",
    "testmetricdict = metricfunc.clone(prefix='test_').to(DEVICE)"
   ]
  },
  {
   "cell_type": "code",
   "execution_count": 5,
   "metadata": {},
   "outputs": [
    {
     "data": {
      "text/html": [
       "<div>\n",
       "<style scoped>\n",
       "    .dataframe tbody tr th:only-of-type {\n",
       "        vertical-align: middle;\n",
       "    }\n",
       "\n",
       "    .dataframe tbody tr th {\n",
       "        vertical-align: top;\n",
       "    }\n",
       "\n",
       "    .dataframe thead th {\n",
       "        text-align: right;\n",
       "    }\n",
       "</style>\n",
       "<table border=\"1\" class=\"dataframe\">\n",
       "  <thead>\n",
       "    <tr style=\"text-align: right;\">\n",
       "      <th></th>\n",
       "      <th>int_id</th>\n",
       "      <th>image_id</th>\n",
       "      <th>data</th>\n",
       "      <th>data_provider</th>\n",
       "      <th>isup_grade</th>\n",
       "    </tr>\n",
       "  </thead>\n",
       "  <tbody>\n",
       "    <tr>\n",
       "      <th>0</th>\n",
       "      <td>6817</td>\n",
       "      <td>c022687b86e4e3eac79381053480e039</td>\n",
       "      <td>[[tensor(-0.0195), tensor(-0.0630), tensor(-0....</td>\n",
       "      <td>karolinska</td>\n",
       "      <td>1</td>\n",
       "    </tr>\n",
       "    <tr>\n",
       "      <th>1</th>\n",
       "      <td>1936</td>\n",
       "      <td>387c0c2633848a562d0299cb667239fd</td>\n",
       "      <td>[[tensor(0.0177), tensor(0.1051), tensor(-0.04...</td>\n",
       "      <td>karolinska</td>\n",
       "      <td>2</td>\n",
       "    </tr>\n",
       "    <tr>\n",
       "      <th>2</th>\n",
       "      <td>2685</td>\n",
       "      <td>4e6e65a0d88a155afa71221ceceee985</td>\n",
       "      <td>[[tensor(-0.0254), tensor(-0.0553), tensor(0.0...</td>\n",
       "      <td>karolinska</td>\n",
       "      <td>0</td>\n",
       "    </tr>\n",
       "    <tr>\n",
       "      <th>3</th>\n",
       "      <td>950</td>\n",
       "      <td>1c691c8c6fd05875e916519e1dca50a0</td>\n",
       "      <td>[[tensor(0.0057), tensor(-0.0147), tensor(0.03...</td>\n",
       "      <td>karolinska</td>\n",
       "      <td>0</td>\n",
       "    </tr>\n",
       "    <tr>\n",
       "      <th>4</th>\n",
       "      <td>5749</td>\n",
       "      <td>a26721b3a8229e8e5e995f7a4a7974f8</td>\n",
       "      <td>[[tensor(-0.0295), tensor(-0.0052), tensor(0.0...</td>\n",
       "      <td>karolinska</td>\n",
       "      <td>0</td>\n",
       "    </tr>\n",
       "    <tr>\n",
       "      <th>...</th>\n",
       "      <td>...</td>\n",
       "      <td>...</td>\n",
       "      <td>...</td>\n",
       "      <td>...</td>\n",
       "      <td>...</td>\n",
       "    </tr>\n",
       "    <tr>\n",
       "      <th>6363</th>\n",
       "      <td>7372</td>\n",
       "      <td>cf19c18868fc35dfd2628358ca4b73f1</td>\n",
       "      <td>[[tensor(0.0092), tensor(-0.2045), tensor(-0.0...</td>\n",
       "      <td>radboud</td>\n",
       "      <td>1</td>\n",
       "    </tr>\n",
       "    <tr>\n",
       "      <th>6364</th>\n",
       "      <td>5302</td>\n",
       "      <td>9772f0e2dc3c38aa876aa4b6c4c85377</td>\n",
       "      <td>[[tensor(0.0276), tensor(-0.0994), tensor(0.00...</td>\n",
       "      <td>radboud</td>\n",
       "      <td>3</td>\n",
       "    </tr>\n",
       "    <tr>\n",
       "      <th>6365</th>\n",
       "      <td>5747</td>\n",
       "      <td>a260fec22534be7e93d7f456ada4f452</td>\n",
       "      <td>[[tensor(0.0906), tensor(-0.0064), tensor(0.06...</td>\n",
       "      <td>radboud</td>\n",
       "      <td>0</td>\n",
       "    </tr>\n",
       "    <tr>\n",
       "      <th>6366</th>\n",
       "      <td>1030</td>\n",
       "      <td>1eab1d74f5c90e353ce5f4440b502bc3</td>\n",
       "      <td>[[tensor(0.0654), tensor(-0.1642), tensor(0.02...</td>\n",
       "      <td>radboud</td>\n",
       "      <td>2</td>\n",
       "    </tr>\n",
       "    <tr>\n",
       "      <th>6367</th>\n",
       "      <td>8175</td>\n",
       "      <td>e6b528e0bd6d4b69e3bfe318e550cbe1</td>\n",
       "      <td>[[tensor(-0.0340), tensor(-0.0258), tensor(0.0...</td>\n",
       "      <td>radboud</td>\n",
       "      <td>5</td>\n",
       "    </tr>\n",
       "  </tbody>\n",
       "</table>\n",
       "<p>6368 rows × 5 columns</p>\n",
       "</div>"
      ],
      "text/plain": [
       "      int_id                          image_id  \\\n",
       "0       6817  c022687b86e4e3eac79381053480e039   \n",
       "1       1936  387c0c2633848a562d0299cb667239fd   \n",
       "2       2685  4e6e65a0d88a155afa71221ceceee985   \n",
       "3        950  1c691c8c6fd05875e916519e1dca50a0   \n",
       "4       5749  a26721b3a8229e8e5e995f7a4a7974f8   \n",
       "...      ...                               ...   \n",
       "6363    7372  cf19c18868fc35dfd2628358ca4b73f1   \n",
       "6364    5302  9772f0e2dc3c38aa876aa4b6c4c85377   \n",
       "6365    5747  a260fec22534be7e93d7f456ada4f452   \n",
       "6366    1030  1eab1d74f5c90e353ce5f4440b502bc3   \n",
       "6367    8175  e6b528e0bd6d4b69e3bfe318e550cbe1   \n",
       "\n",
       "                                                   data data_provider  \\\n",
       "0     [[tensor(-0.0195), tensor(-0.0630), tensor(-0....    karolinska   \n",
       "1     [[tensor(0.0177), tensor(0.1051), tensor(-0.04...    karolinska   \n",
       "2     [[tensor(-0.0254), tensor(-0.0553), tensor(0.0...    karolinska   \n",
       "3     [[tensor(0.0057), tensor(-0.0147), tensor(0.03...    karolinska   \n",
       "4     [[tensor(-0.0295), tensor(-0.0052), tensor(0.0...    karolinska   \n",
       "...                                                 ...           ...   \n",
       "6363  [[tensor(0.0092), tensor(-0.2045), tensor(-0.0...       radboud   \n",
       "6364  [[tensor(0.0276), tensor(-0.0994), tensor(0.00...       radboud   \n",
       "6365  [[tensor(0.0906), tensor(-0.0064), tensor(0.06...       radboud   \n",
       "6366  [[tensor(0.0654), tensor(-0.1642), tensor(0.02...       radboud   \n",
       "6367  [[tensor(-0.0340), tensor(-0.0258), tensor(0.0...       radboud   \n",
       "\n",
       "      isup_grade  \n",
       "0              1  \n",
       "1              2  \n",
       "2              0  \n",
       "3              0  \n",
       "4              0  \n",
       "...          ...  \n",
       "6363           1  \n",
       "6364           3  \n",
       "6365           0  \n",
       "6366           2  \n",
       "6367           5  \n",
       "\n",
       "[6368 rows x 5 columns]"
      ]
     },
     "execution_count": 5,
     "metadata": {},
     "output_type": "execute_result"
    }
   ],
   "source": [
    "train_split"
   ]
  },
  {
   "cell_type": "code",
   "execution_count": 7,
   "metadata": {},
   "outputs": [
    {
     "data": {
      "text/html": [
       "<div>\n",
       "<style scoped>\n",
       "    .dataframe tbody tr th:only-of-type {\n",
       "        vertical-align: middle;\n",
       "    }\n",
       "\n",
       "    .dataframe tbody tr th {\n",
       "        vertical-align: top;\n",
       "    }\n",
       "\n",
       "    .dataframe thead th {\n",
       "        text-align: right;\n",
       "    }\n",
       "</style>\n",
       "<table border=\"1\" class=\"dataframe\">\n",
       "  <thead>\n",
       "    <tr style=\"text-align: right;\">\n",
       "      <th></th>\n",
       "      <th>int_id</th>\n",
       "      <th>image_id</th>\n",
       "      <th>data</th>\n",
       "      <th>data_provider</th>\n",
       "      <th>isup_grade</th>\n",
       "    </tr>\n",
       "  </thead>\n",
       "  <tbody>\n",
       "    <tr>\n",
       "      <th>0</th>\n",
       "      <td>4117</td>\n",
       "      <td>765b21a22c0ced4bd463ac18bca81705</td>\n",
       "      <td>[[tensor(-0.0213), tensor(-0.0615), tensor(0.0...</td>\n",
       "      <td>karolinska</td>\n",
       "      <td>4</td>\n",
       "    </tr>\n",
       "    <tr>\n",
       "      <th>1</th>\n",
       "      <td>5610</td>\n",
       "      <td>9f2739434a4444b74f5cbe8888a77ea2</td>\n",
       "      <td>[[tensor(-0.0034), tensor(-0.0002), tensor(0.0...</td>\n",
       "      <td>karolinska</td>\n",
       "      <td>3</td>\n",
       "    </tr>\n",
       "    <tr>\n",
       "      <th>2</th>\n",
       "      <td>4276</td>\n",
       "      <td>7adb9a199022845663b36db49852383b</td>\n",
       "      <td>[[tensor(0.0205), tensor(-0.0106), tensor(0.05...</td>\n",
       "      <td>karolinska</td>\n",
       "      <td>2</td>\n",
       "    </tr>\n",
       "    <tr>\n",
       "      <th>3</th>\n",
       "      <td>791</td>\n",
       "      <td>177373821195cf33e7bc4c8bcd089a2e</td>\n",
       "      <td>[[tensor(-0.0003), tensor(-0.0150), tensor(0.0...</td>\n",
       "      <td>karolinska</td>\n",
       "      <td>0</td>\n",
       "    </tr>\n",
       "    <tr>\n",
       "      <th>4</th>\n",
       "      <td>1520</td>\n",
       "      <td>2c66a2cdbbfc4bd3b96f1039ad3fa630</td>\n",
       "      <td>[[tensor(-0.0187), tensor(0.0762), tensor(-0.0...</td>\n",
       "      <td>karolinska</td>\n",
       "      <td>5</td>\n",
       "    </tr>\n",
       "    <tr>\n",
       "      <th>...</th>\n",
       "      <td>...</td>\n",
       "      <td>...</td>\n",
       "      <td>...</td>\n",
       "      <td>...</td>\n",
       "      <td>...</td>\n",
       "    </tr>\n",
       "    <tr>\n",
       "      <th>1366</th>\n",
       "      <td>5898</td>\n",
       "      <td>a6df5267338c181ee62b42087d0e2292</td>\n",
       "      <td>[[tensor(0.0212), tensor(-0.1841), tensor(0.09...</td>\n",
       "      <td>radboud</td>\n",
       "      <td>3</td>\n",
       "    </tr>\n",
       "    <tr>\n",
       "      <th>1367</th>\n",
       "      <td>3627</td>\n",
       "      <td>69240805aeb7c006dffd474b1253139f</td>\n",
       "      <td>[[tensor(-0.0254), tensor(-0.1732), tensor(0.1...</td>\n",
       "      <td>radboud</td>\n",
       "      <td>1</td>\n",
       "    </tr>\n",
       "    <tr>\n",
       "      <th>1368</th>\n",
       "      <td>8767</td>\n",
       "      <td>f6b3c12a983a398bfafee0027cf523d5</td>\n",
       "      <td>[[tensor(0.0632), tensor(-0.1299), tensor(0.11...</td>\n",
       "      <td>radboud</td>\n",
       "      <td>0</td>\n",
       "    </tr>\n",
       "    <tr>\n",
       "      <th>1369</th>\n",
       "      <td>3518</td>\n",
       "      <td>658be675223ffa5509203009eb7bba89</td>\n",
       "      <td>[[tensor(-0.0378), tensor(-0.0346), tensor(-0....</td>\n",
       "      <td>radboud</td>\n",
       "      <td>3</td>\n",
       "    </tr>\n",
       "    <tr>\n",
       "      <th>1370</th>\n",
       "      <td>3665</td>\n",
       "      <td>6a10c173386248ef4f11ce0cedc0622e</td>\n",
       "      <td>[[tensor(0.0122), tensor(-0.1291), tensor(0.09...</td>\n",
       "      <td>radboud</td>\n",
       "      <td>3</td>\n",
       "    </tr>\n",
       "  </tbody>\n",
       "</table>\n",
       "<p>1371 rows × 5 columns</p>\n",
       "</div>"
      ],
      "text/plain": [
       "      int_id                          image_id  \\\n",
       "0       4117  765b21a22c0ced4bd463ac18bca81705   \n",
       "1       5610  9f2739434a4444b74f5cbe8888a77ea2   \n",
       "2       4276  7adb9a199022845663b36db49852383b   \n",
       "3        791  177373821195cf33e7bc4c8bcd089a2e   \n",
       "4       1520  2c66a2cdbbfc4bd3b96f1039ad3fa630   \n",
       "...      ...                               ...   \n",
       "1366    5898  a6df5267338c181ee62b42087d0e2292   \n",
       "1367    3627  69240805aeb7c006dffd474b1253139f   \n",
       "1368    8767  f6b3c12a983a398bfafee0027cf523d5   \n",
       "1369    3518  658be675223ffa5509203009eb7bba89   \n",
       "1370    3665  6a10c173386248ef4f11ce0cedc0622e   \n",
       "\n",
       "                                                   data data_provider  \\\n",
       "0     [[tensor(-0.0213), tensor(-0.0615), tensor(0.0...    karolinska   \n",
       "1     [[tensor(-0.0034), tensor(-0.0002), tensor(0.0...    karolinska   \n",
       "2     [[tensor(0.0205), tensor(-0.0106), tensor(0.05...    karolinska   \n",
       "3     [[tensor(-0.0003), tensor(-0.0150), tensor(0.0...    karolinska   \n",
       "4     [[tensor(-0.0187), tensor(0.0762), tensor(-0.0...    karolinska   \n",
       "...                                                 ...           ...   \n",
       "1366  [[tensor(0.0212), tensor(-0.1841), tensor(0.09...       radboud   \n",
       "1367  [[tensor(-0.0254), tensor(-0.1732), tensor(0.1...       radboud   \n",
       "1368  [[tensor(0.0632), tensor(-0.1299), tensor(0.11...       radboud   \n",
       "1369  [[tensor(-0.0378), tensor(-0.0346), tensor(-0....       radboud   \n",
       "1370  [[tensor(0.0122), tensor(-0.1291), tensor(0.09...       radboud   \n",
       "\n",
       "      isup_grade  \n",
       "0              4  \n",
       "1              3  \n",
       "2              2  \n",
       "3              0  \n",
       "4              5  \n",
       "...          ...  \n",
       "1366           3  \n",
       "1367           1  \n",
       "1368           0  \n",
       "1369           3  \n",
       "1370           3  \n",
       "\n",
       "[1371 rows x 5 columns]"
      ]
     },
     "execution_count": 7,
     "metadata": {},
     "output_type": "execute_result"
    }
   ],
   "source": [
    "val_split"
   ]
  },
  {
   "cell_type": "code",
   "execution_count": 2,
   "metadata": {},
   "outputs": [],
   "source": [
    "# load recov data\n",
    "if EXCLUSION:\n",
    "    path = ROOT_PATH/f\"memory__{MODEL_NAME}.npy\"\n",
    "    split = pd.read_csv(ROOT_PATH/f\"splitsave__{MODEL_NAME}.csv\")\n",
    "    data = np.load(path)\n",
    "    split[\"memory\"] = data\n",
    "    index_list = split.loc[split[\"memory\"]>THRESHOLD,\"image_id\"].tolist()\n",
    "    # train_split = train_split.loc[train_split[\"image_id\"].isin(index_list)]\n",
    "    # val_split = val_split.loc[val_split[\"image_id\"].isin(index_list)]"
   ]
  },
  {
   "cell_type": "code",
   "execution_count": 12,
   "metadata": {},
   "outputs": [],
   "source": [
    "temp = split.loc[split[\"memory\"]<=np.percentile(split[\"memory\"],10)].sort_values(by=[\"memory\"])"
   ]
  },
  {
   "cell_type": "code",
   "execution_count": 14,
   "metadata": {},
   "outputs": [
    {
     "data": {
      "text/plain": [
       "3.994487622692946"
      ]
     },
     "execution_count": 14,
     "metadata": {},
     "output_type": "execute_result"
    }
   ],
   "source": [
    "np.percentile(split[\"memory\"],10)"
   ]
  },
  {
   "cell_type": "code",
   "execution_count": 13,
   "metadata": {},
   "outputs": [
    {
     "data": {
      "text/plain": [
       "1    177\n",
       "3    145\n",
       "4    138\n",
       "5    134\n",
       "2     96\n",
       "0     84\n",
       "Name: isup_grade, dtype: int64"
      ]
     },
     "execution_count": 13,
     "metadata": {},
     "output_type": "execute_result"
    }
   ],
   "source": [
    "temp[\"isup_grade\"].value_counts()"
   ]
  },
  {
   "cell_type": "code",
   "execution_count": 7,
   "metadata": {},
   "outputs": [
    {
     "data": {
      "text/plain": [
       "<seaborn.axisgrid.FacetGrid at 0x7f90d65d32b0>"
      ]
     },
     "execution_count": 7,
     "metadata": {},
     "output_type": "execute_result"
    },
    {
     "data": {
      "image/png": "[encoded data removed]",
      "text/plain": [
       "<Figure size 500x500 with 1 Axes>"
      ]
     },
     "metadata": {},
     "output_type": "display_data"
    }
   ],
   "source": [
    "import seaborn as sns\n",
    "sns.displot(split[\"memory\"])"
   ]
  },
  {
   "cell_type": "code",
   "execution_count": 6,
   "metadata": {},
   "outputs": [
    {
     "data": {
      "text/plain": [
       "5.645722269316838"
      ]
     },
     "execution_count": 6,
     "metadata": {},
     "output_type": "execute_result"
    }
   ],
   "source": [
    "split[\"memory\"].max()"
   ]
  },
  {
   "cell_type": "code",
   "execution_count": 3,
   "metadata": {},
   "outputs": [
    {
     "data": {
      "text/html": [
       "<div>\n",
       "<style scoped>\n",
       "    .dataframe tbody tr th:only-of-type {\n",
       "        vertical-align: middle;\n",
       "    }\n",
       "\n",
       "    .dataframe tbody tr th {\n",
       "        vertical-align: top;\n",
       "    }\n",
       "\n",
       "    .dataframe thead th {\n",
       "        text-align: right;\n",
       "    }\n",
       "</style>\n",
       "<table border=\"1\" class=\"dataframe\">\n",
       "  <thead>\n",
       "    <tr style=\"text-align: right;\">\n",
       "      <th></th>\n",
       "      <th>int_id</th>\n",
       "      <th>image_id</th>\n",
       "      <th>data_provider</th>\n",
       "      <th>isup_grade</th>\n",
       "      <th>memory</th>\n",
       "    </tr>\n",
       "  </thead>\n",
       "  <tbody>\n",
       "    <tr>\n",
       "      <th>0</th>\n",
       "      <td>0</td>\n",
       "      <td>0005f7aaab2800f6170c399693a96917</td>\n",
       "      <td>karolinska</td>\n",
       "      <td>0</td>\n",
       "      <td>5.634753</td>\n",
       "    </tr>\n",
       "    <tr>\n",
       "      <th>1</th>\n",
       "      <td>1</td>\n",
       "      <td>000920ad0b612851f8e01bcc880d9b3d</td>\n",
       "      <td>karolinska</td>\n",
       "      <td>0</td>\n",
       "      <td>5.625925</td>\n",
       "    </tr>\n",
       "    <tr>\n",
       "      <th>2</th>\n",
       "      <td>2</td>\n",
       "      <td>0018ae58b01bdadc8e347995b69f99aa</td>\n",
       "      <td>radboud</td>\n",
       "      <td>4</td>\n",
       "      <td>5.076587</td>\n",
       "    </tr>\n",
       "    <tr>\n",
       "      <th>3</th>\n",
       "      <td>3</td>\n",
       "      <td>001c62abd11fa4b57bf7a6c603a11bb9</td>\n",
       "      <td>karolinska</td>\n",
       "      <td>4</td>\n",
       "      <td>5.612351</td>\n",
       "    </tr>\n",
       "    <tr>\n",
       "      <th>4</th>\n",
       "      <td>4</td>\n",
       "      <td>001d865e65ef5d2579c190a0e0350d8f</td>\n",
       "      <td>karolinska</td>\n",
       "      <td>0</td>\n",
       "      <td>5.616475</td>\n",
       "    </tr>\n",
       "    <tr>\n",
       "      <th>...</th>\n",
       "      <td>...</td>\n",
       "      <td>...</td>\n",
       "      <td>...</td>\n",
       "      <td>...</td>\n",
       "      <td>...</td>\n",
       "    </tr>\n",
       "    <tr>\n",
       "      <th>7734</th>\n",
       "      <td>7734</td>\n",
       "      <td>ffcee00fd033d3ece1408035a7fd4ea7</td>\n",
       "      <td>karolinska</td>\n",
       "      <td>1</td>\n",
       "      <td>4.924189</td>\n",
       "    </tr>\n",
       "    <tr>\n",
       "      <th>7735</th>\n",
       "      <td>7735</td>\n",
       "      <td>ffd2841373b39792ab0c84cccd066e31</td>\n",
       "      <td>radboud</td>\n",
       "      <td>0</td>\n",
       "      <td>4.429067</td>\n",
       "    </tr>\n",
       "    <tr>\n",
       "      <th>7736</th>\n",
       "      <td>7736</td>\n",
       "      <td>ffdc59cd580a1468eac0e6a32dd1ff2d</td>\n",
       "      <td>radboud</td>\n",
       "      <td>5</td>\n",
       "      <td>4.886458</td>\n",
       "    </tr>\n",
       "    <tr>\n",
       "      <th>7737</th>\n",
       "      <td>7737</td>\n",
       "      <td>ffe06afd66a93258f8fabdef6044e181</td>\n",
       "      <td>radboud</td>\n",
       "      <td>0</td>\n",
       "      <td>4.890682</td>\n",
       "    </tr>\n",
       "    <tr>\n",
       "      <th>7738</th>\n",
       "      <td>7738</td>\n",
       "      <td>ffe9bcababc858e04840669e788065a1</td>\n",
       "      <td>radboud</td>\n",
       "      <td>4</td>\n",
       "      <td>5.265520</td>\n",
       "    </tr>\n",
       "  </tbody>\n",
       "</table>\n",
       "<p>7739 rows × 5 columns</p>\n",
       "</div>"
      ],
      "text/plain": [
       "      int_id                          image_id data_provider  isup_grade  \\\n",
       "0          0  0005f7aaab2800f6170c399693a96917    karolinska           0   \n",
       "1          1  000920ad0b612851f8e01bcc880d9b3d    karolinska           0   \n",
       "2          2  0018ae58b01bdadc8e347995b69f99aa       radboud           4   \n",
       "3          3  001c62abd11fa4b57bf7a6c603a11bb9    karolinska           4   \n",
       "4          4  001d865e65ef5d2579c190a0e0350d8f    karolinska           0   \n",
       "...      ...                               ...           ...         ...   \n",
       "7734    7734  ffcee00fd033d3ece1408035a7fd4ea7    karolinska           1   \n",
       "7735    7735  ffd2841373b39792ab0c84cccd066e31       radboud           0   \n",
       "7736    7736  ffdc59cd580a1468eac0e6a32dd1ff2d       radboud           5   \n",
       "7737    7737  ffe06afd66a93258f8fabdef6044e181       radboud           0   \n",
       "7738    7738  ffe9bcababc858e04840669e788065a1       radboud           4   \n",
       "\n",
       "        memory  \n",
       "0     5.634753  \n",
       "1     5.625925  \n",
       "2     5.076587  \n",
       "3     5.612351  \n",
       "4     5.616475  \n",
       "...        ...  \n",
       "7734  4.924189  \n",
       "7735  4.429067  \n",
       "7736  4.886458  \n",
       "7737  4.890682  \n",
       "7738  5.265520  \n",
       "\n",
       "[7739 rows x 5 columns]"
      ]
     },
     "execution_count": 3,
     "metadata": {},
     "output_type": "execute_result"
    }
   ],
   "source": [
    "split"
   ]
  },
  {
   "cell_type": "code",
   "execution_count": 17,
   "metadata": {},
   "outputs": [
    {
     "data": {
      "text/plain": [
       "294     001d865e65ef5d2579c190a0e0350d8f\n",
       "125     003046e27c8ead3e3db155780dc5498e\n",
       "300     004f6b3a66189b4e88b6a01ba19d7d31\n",
       "836     0068d4c7529e34fd4c9da863ce01a161\n",
       "1100    008069b542b0439ed69b194674051964\n",
       "                      ...               \n",
       "822     ff228af5af1389e09e293692ea479d98\n",
       "1118    ff30f31f767ae4d18f5145598f46f5fd\n",
       "80      ff5130c98c14c90ae7f4dd64c297070c\n",
       "309     ff6e67a5f0b674097f5142ec24eb8fcb\n",
       "1130    ff9dd750be215c8ba38b5195de612253\n",
       "Name: image_id, Length: 1317, dtype: object"
      ]
     },
     "execution_count": 17,
     "metadata": {},
     "output_type": "execute_result"
    }
   ],
   "source": [
    "val_split.loc[val_split[\"image_id\"].isin(index_list),\"image_id\"].sort_values()"
   ]
  },
  {
   "cell_type": "code",
   "execution_count": 16,
   "metadata": {},
   "outputs": [
    {
     "data": {
      "text/plain": [
       "93      0032bfa835ce0f43a92ae0bbab6871cb\n",
       "290     003a91841da04a5a31f808fb5c21538a\n",
       "1220    006f6aa35a78965c92fffd1fbd53a058\n",
       "1157    00ed4dbf9af6cc102e04cc9a42b313e2\n",
       "1364    01227af585a47c16680f927d21a7f06a\n",
       "                      ...               \n",
       "378     ff602bd9652640d4b534d7a78fc64b6a\n",
       "963     ff80dfefc41b8863b476c5840f88fec0\n",
       "390     ffacf52d0c9b3fbf644373c7da4026db\n",
       "1040    ffaf4de97335595fb711d3985523106a\n",
       "280     ffb182fa5b636005e21eec384bbf406b\n",
       "Name: image_id, Length: 1367, dtype: object"
      ]
     },
     "execution_count": 16,
     "metadata": {},
     "output_type": "execute_result"
    }
   ],
   "source": [
    "test_split[\"image_id\"].sort_values()"
   ]
  },
  {
   "cell_type": "markdown",
   "metadata": {},
   "source": [
    "### Checking initial results of recov pandas"
   ]
  },
  {
   "cell_type": "code",
   "execution_count": 2,
   "metadata": {},
   "outputs": [],
   "source": [
    "import numpy as np\n",
    "from pathlib import Path\n",
    "import pandas as pd"
   ]
  },
  {
   "cell_type": "code",
   "execution_count": 3,
   "metadata": {},
   "outputs": [],
   "source": [
    "# model_name = \"14Dec_10_50_40_20_2.5_s1_[1, 1, 1]\"\n",
    "# model_name = \"15Dec_09_26_56_20_2.5_s1_[1, 1, 0]\"\n",
    "model_name = \"20Dec_16_02_12_20_1.0_s1_[0, 0, 0, 1]_1\"\n",
    "path = f\"../results/pandas/memory__{model_name}.npy\"\n",
    "split = pd.read_csv(f\"../results/pandas/splitsave__{model_name}.csv\")\n",
    "data = np.load(path)\n",
    "split[\"memory\"] = data"
   ]
  },
  {
   "cell_type": "code",
   "execution_count": 4,
   "metadata": {},
   "outputs": [
    {
     "data": {
      "text/plain": [
       "<seaborn.axisgrid.FacetGrid at 0x7f44842253d0>"
      ]
     },
     "execution_count": 4,
     "metadata": {},
     "output_type": "execute_result"
    },
    {
     "data": {
      "image/png": "[encoded data removed]",
      "text/plain": [
       "<Figure size 500x500 with 1 Axes>"
      ]
     },
     "metadata": {},
     "output_type": "display_data"
    }
   ],
   "source": [
    "import seaborn as sns\n",
    "sns.displot(split[\"memory\"])"
   ]
  },
  {
   "cell_type": "code",
   "execution_count": 8,
   "metadata": {},
   "outputs": [
    {
     "data": {
      "text/html": [
       "<div>\n",
       "<style scoped>\n",
       "    .dataframe tbody tr th:only-of-type {\n",
       "        vertical-align: middle;\n",
       "    }\n",
       "\n",
       "    .dataframe tbody tr th {\n",
       "        vertical-align: top;\n",
       "    }\n",
       "\n",
       "    .dataframe thead th {\n",
       "        text-align: right;\n",
       "    }\n",
       "</style>\n",
       "<table border=\"1\" class=\"dataframe\">\n",
       "  <thead>\n",
       "    <tr style=\"text-align: right;\">\n",
       "      <th></th>\n",
       "      <th>int_id</th>\n",
       "      <th>image_id</th>\n",
       "      <th>data_provider</th>\n",
       "      <th>isup_grade</th>\n",
       "      <th>memory</th>\n",
       "    </tr>\n",
       "  </thead>\n",
       "  <tbody>\n",
       "    <tr>\n",
       "      <th>5379</th>\n",
       "      <td>5379</td>\n",
       "      <td>b25e5ec86bdfecb9335f0e683acfda87</td>\n",
       "      <td>radboud</td>\n",
       "      <td>0</td>\n",
       "      <td>0.077125</td>\n",
       "    </tr>\n",
       "    <tr>\n",
       "      <th>5356</th>\n",
       "      <td>5356</td>\n",
       "      <td>b1a8dc23435d6fea4a7847fcf02f9374</td>\n",
       "      <td>radboud</td>\n",
       "      <td>5</td>\n",
       "      <td>0.107847</td>\n",
       "    </tr>\n",
       "    <tr>\n",
       "      <th>7414</th>\n",
       "      <td>7414</td>\n",
       "      <td>f58f8cb8bd83644f21b052a526d69afe</td>\n",
       "      <td>radboud</td>\n",
       "      <td>5</td>\n",
       "      <td>0.140202</td>\n",
       "    </tr>\n",
       "    <tr>\n",
       "      <th>848</th>\n",
       "      <td>848</td>\n",
       "      <td>1dfa9e0e91f817fbd98ae93fc20d6255</td>\n",
       "      <td>karolinska</td>\n",
       "      <td>5</td>\n",
       "      <td>0.141256</td>\n",
       "    </tr>\n",
       "    <tr>\n",
       "      <th>2814</th>\n",
       "      <td>2814</td>\n",
       "      <td>5f89fd817087371714c3480585e1d0ef</td>\n",
       "      <td>karolinska</td>\n",
       "      <td>5</td>\n",
       "      <td>0.148817</td>\n",
       "    </tr>\n",
       "    <tr>\n",
       "      <th>...</th>\n",
       "      <td>...</td>\n",
       "      <td>...</td>\n",
       "      <td>...</td>\n",
       "      <td>...</td>\n",
       "      <td>...</td>\n",
       "    </tr>\n",
       "    <tr>\n",
       "      <th>5525</th>\n",
       "      <td>5525</td>\n",
       "      <td>b6808a211b62298e06b0ac7f30f29882</td>\n",
       "      <td>radboud</td>\n",
       "      <td>1</td>\n",
       "      <td>3.739850</td>\n",
       "    </tr>\n",
       "    <tr>\n",
       "      <th>879</th>\n",
       "      <td>879</td>\n",
       "      <td>1f292d81c31e54220af6d92c812b0801</td>\n",
       "      <td>karolinska</td>\n",
       "      <td>3</td>\n",
       "      <td>3.740080</td>\n",
       "    </tr>\n",
       "    <tr>\n",
       "      <th>433</th>\n",
       "      <td>433</td>\n",
       "      <td>0fbd680b68f4245a539b628563484f28</td>\n",
       "      <td>radboud</td>\n",
       "      <td>4</td>\n",
       "      <td>3.743790</td>\n",
       "    </tr>\n",
       "    <tr>\n",
       "      <th>3724</th>\n",
       "      <td>3724</td>\n",
       "      <td>7dcb52d4a04fcb59f5596ca381ffad29</td>\n",
       "      <td>radboud</td>\n",
       "      <td>2</td>\n",
       "      <td>3.744190</td>\n",
       "    </tr>\n",
       "    <tr>\n",
       "      <th>3259</th>\n",
       "      <td>3259</td>\n",
       "      <td>6e2e6f847032e2b8823d91cd52b3ef2a</td>\n",
       "      <td>radboud</td>\n",
       "      <td>5</td>\n",
       "      <td>3.745122</td>\n",
       "    </tr>\n",
       "  </tbody>\n",
       "</table>\n",
       "<p>387 rows × 5 columns</p>\n",
       "</div>"
      ],
      "text/plain": [
       "      int_id                          image_id data_provider  isup_grade  \\\n",
       "5379    5379  b25e5ec86bdfecb9335f0e683acfda87       radboud           0   \n",
       "5356    5356  b1a8dc23435d6fea4a7847fcf02f9374       radboud           5   \n",
       "7414    7414  f58f8cb8bd83644f21b052a526d69afe       radboud           5   \n",
       "848      848  1dfa9e0e91f817fbd98ae93fc20d6255    karolinska           5   \n",
       "2814    2814  5f89fd817087371714c3480585e1d0ef    karolinska           5   \n",
       "...      ...                               ...           ...         ...   \n",
       "5525    5525  b6808a211b62298e06b0ac7f30f29882       radboud           1   \n",
       "879      879  1f292d81c31e54220af6d92c812b0801    karolinska           3   \n",
       "433      433  0fbd680b68f4245a539b628563484f28       radboud           4   \n",
       "3724    3724  7dcb52d4a04fcb59f5596ca381ffad29       radboud           2   \n",
       "3259    3259  6e2e6f847032e2b8823d91cd52b3ef2a       radboud           5   \n",
       "\n",
       "        memory  \n",
       "5379  0.077125  \n",
       "5356  0.107847  \n",
       "7414  0.140202  \n",
       "848   0.141256  \n",
       "2814  0.148817  \n",
       "...        ...  \n",
       "5525  3.739850  \n",
       "879   3.740080  \n",
       "433   3.743790  \n",
       "3724  3.744190  \n",
       "3259  3.745122  \n",
       "\n",
       "[387 rows x 5 columns]"
      ]
     },
     "execution_count": 8,
     "metadata": {},
     "output_type": "execute_result"
    }
   ],
   "source": [
    "split.loc[split[\"memory\"]<=np.percentile(split[\"memory\"],5)].sort_values(by=[\"memory\"])"
   ]
  },
  {
   "cell_type": "code",
   "execution_count": 12,
   "metadata": {},
   "outputs": [
    {
     "data": {
      "text/html": [
       "<div>\n",
       "<style scoped>\n",
       "    .dataframe tbody tr th:only-of-type {\n",
       "        vertical-align: middle;\n",
       "    }\n",
       "\n",
       "    .dataframe tbody tr th {\n",
       "        vertical-align: top;\n",
       "    }\n",
       "\n",
       "    .dataframe thead th {\n",
       "        text-align: right;\n",
       "    }\n",
       "</style>\n",
       "<table border=\"1\" class=\"dataframe\">\n",
       "  <thead>\n",
       "    <tr style=\"text-align: right;\">\n",
       "      <th></th>\n",
       "      <th>int_id</th>\n",
       "      <th>image_id</th>\n",
       "      <th>data_provider</th>\n",
       "      <th>isup_grade</th>\n",
       "      <th>memory</th>\n",
       "    </tr>\n",
       "  </thead>\n",
       "  <tbody>\n",
       "    <tr>\n",
       "      <th>602</th>\n",
       "      <td>602</td>\n",
       "      <td>155867d947fe378bcce54cc1adf8acba</td>\n",
       "      <td>karolinska</td>\n",
       "      <td>2</td>\n",
       "      <td>0.045177</td>\n",
       "    </tr>\n",
       "    <tr>\n",
       "      <th>848</th>\n",
       "      <td>848</td>\n",
       "      <td>1dfa9e0e91f817fbd98ae93fc20d6255</td>\n",
       "      <td>karolinska</td>\n",
       "      <td>5</td>\n",
       "      <td>0.066562</td>\n",
       "    </tr>\n",
       "    <tr>\n",
       "      <th>87</th>\n",
       "      <td>87</td>\n",
       "      <td>03692c5859b1eb7af0f4292e10586205</td>\n",
       "      <td>karolinska</td>\n",
       "      <td>2</td>\n",
       "      <td>0.067398</td>\n",
       "    </tr>\n",
       "    <tr>\n",
       "      <th>3699</th>\n",
       "      <td>3699</td>\n",
       "      <td>7d0638e2cf13708c2047178ab83ba894</td>\n",
       "      <td>karolinska</td>\n",
       "      <td>1</td>\n",
       "      <td>0.077083</td>\n",
       "    </tr>\n",
       "    <tr>\n",
       "      <th>7647</th>\n",
       "      <td>7647</td>\n",
       "      <td>fd34d5fda33d3e8281837a2a4511f7fd</td>\n",
       "      <td>radboud</td>\n",
       "      <td>4</td>\n",
       "      <td>0.080148</td>\n",
       "    </tr>\n",
       "    <tr>\n",
       "      <th>...</th>\n",
       "      <td>...</td>\n",
       "      <td>...</td>\n",
       "      <td>...</td>\n",
       "      <td>...</td>\n",
       "      <td>...</td>\n",
       "    </tr>\n",
       "    <tr>\n",
       "      <th>278</th>\n",
       "      <td>278</td>\n",
       "      <td>0a75b377181b60efd8278bce0b6260a5</td>\n",
       "      <td>radboud</td>\n",
       "      <td>3</td>\n",
       "      <td>0.244577</td>\n",
       "    </tr>\n",
       "    <tr>\n",
       "      <th>4495</th>\n",
       "      <td>4495</td>\n",
       "      <td>96b8bc9b8128ea796e39a4af6eccdbea</td>\n",
       "      <td>radboud</td>\n",
       "      <td>3</td>\n",
       "      <td>0.244746</td>\n",
       "    </tr>\n",
       "    <tr>\n",
       "      <th>3830</th>\n",
       "      <td>3830</td>\n",
       "      <td>8175be020f3cf362e1cf5b797bd7a429</td>\n",
       "      <td>karolinska</td>\n",
       "      <td>2</td>\n",
       "      <td>0.245049</td>\n",
       "    </tr>\n",
       "    <tr>\n",
       "      <th>6934</th>\n",
       "      <td>6934</td>\n",
       "      <td>e66a6092ff332e6516c879a4986f8a8a</td>\n",
       "      <td>karolinska</td>\n",
       "      <td>1</td>\n",
       "      <td>0.245429</td>\n",
       "    </tr>\n",
       "    <tr>\n",
       "      <th>2440</th>\n",
       "      <td>2440</td>\n",
       "      <td>530f322b76df13d90d37b08b7c592e39</td>\n",
       "      <td>radboud</td>\n",
       "      <td>1</td>\n",
       "      <td>0.249784</td>\n",
       "    </tr>\n",
       "  </tbody>\n",
       "</table>\n",
       "<p>101 rows × 5 columns</p>\n",
       "</div>"
      ],
      "text/plain": [
       "      int_id                          image_id data_provider  isup_grade  \\\n",
       "602      602  155867d947fe378bcce54cc1adf8acba    karolinska           2   \n",
       "848      848  1dfa9e0e91f817fbd98ae93fc20d6255    karolinska           5   \n",
       "87        87  03692c5859b1eb7af0f4292e10586205    karolinska           2   \n",
       "3699    3699  7d0638e2cf13708c2047178ab83ba894    karolinska           1   \n",
       "7647    7647  fd34d5fda33d3e8281837a2a4511f7fd       radboud           4   \n",
       "...      ...                               ...           ...         ...   \n",
       "278      278  0a75b377181b60efd8278bce0b6260a5       radboud           3   \n",
       "4495    4495  96b8bc9b8128ea796e39a4af6eccdbea       radboud           3   \n",
       "3830    3830  8175be020f3cf362e1cf5b797bd7a429    karolinska           2   \n",
       "6934    6934  e66a6092ff332e6516c879a4986f8a8a    karolinska           1   \n",
       "2440    2440  530f322b76df13d90d37b08b7c592e39       radboud           1   \n",
       "\n",
       "        memory  \n",
       "602   0.045177  \n",
       "848   0.066562  \n",
       "87    0.067398  \n",
       "3699  0.077083  \n",
       "7647  0.080148  \n",
       "...        ...  \n",
       "278   0.244577  \n",
       "4495  0.244746  \n",
       "3830  0.245049  \n",
       "6934  0.245429  \n",
       "2440  0.249784  \n",
       "\n",
       "[101 rows x 5 columns]"
      ]
     },
     "execution_count": 12,
     "metadata": {},
     "output_type": "execute_result"
    }
   ],
   "source": [
    "split.loc[split[\"memory\"]<=0.25].sort_values(by=[\"memory\"])"
   ]
  },
  {
   "cell_type": "code",
   "execution_count": 9,
   "metadata": {},
   "outputs": [
    {
     "data": {
      "text/plain": [
       "radboud       261\n",
       "karolinska    126\n",
       "Name: data_provider, dtype: int64"
      ]
     },
     "execution_count": 9,
     "metadata": {},
     "output_type": "execute_result"
    }
   ],
   "source": [
    "split.loc[split[\"memory\"]<=np.percentile(split[\"memory\"],5)][\"data_provider\"].value_counts()"
   ]
  },
  {
   "cell_type": "code",
   "execution_count": 11,
   "metadata": {},
   "outputs": [
    {
     "data": {
      "text/plain": [
       "5    110\n",
       "4     99\n",
       "3     88\n",
       "2     41\n",
       "1     27\n",
       "0     22\n",
       "Name: isup_grade, dtype: int64"
      ]
     },
     "execution_count": 11,
     "metadata": {},
     "output_type": "execute_result"
    }
   ],
   "source": [
    "split.loc[split[\"memory\"]<=np.percentile(split[\"memory\"],5)][\"isup_grade\"].value_counts()"
   ]
  },
  {
   "cell_type": "code",
   "execution_count": 12,
   "metadata": {},
   "outputs": [
    {
     "data": {
      "text/plain": [
       "radboud       57\n",
       "karolinska    42\n",
       "Name: data_provider, dtype: int64"
      ]
     },
     "execution_count": 12,
     "metadata": {},
     "output_type": "execute_result"
    }
   ],
   "source": [
    "split.loc[(split[\"memory\"]<=np.percentile(split[\"memory\"],5)) & (split[\"isup_grade\"]==4),\"data_provider\"].value_counts()"
   ]
  },
  {
   "cell_type": "code",
   "execution_count": 13,
   "metadata": {},
   "outputs": [
    {
     "data": {
      "text/plain": [
       "0    2221\n",
       "1    1984\n",
       "2     946\n",
       "4     878\n",
       "3     870\n",
       "5     840\n",
       "Name: isup_grade, dtype: int64"
      ]
     },
     "execution_count": 13,
     "metadata": {},
     "output_type": "execute_result"
    }
   ],
   "source": [
    "split[\"isup_grade\"].value_counts()"
   ]
  },
  {
   "cell_type": "code",
   "execution_count": 58,
   "metadata": {},
   "outputs": [
    {
     "data": {
      "text/plain": [
       "radboud       649\n",
       "karolinska    191\n",
       "Name: data_provider, dtype: int64"
      ]
     },
     "execution_count": 58,
     "metadata": {},
     "output_type": "execute_result"
    }
   ],
   "source": [
    "split.loc[split[\"isup_grade\"]==5,\"data_provider\"].value_counts()"
   ]
  },
  {
   "cell_type": "code",
   "execution_count": 33,
   "metadata": {},
   "outputs": [
    {
     "data": {
      "text/plain": [
       "karolinska    4264\n",
       "radboud       3475\n",
       "Name: data_provider, dtype: int64"
      ]
     },
     "execution_count": 33,
     "metadata": {},
     "output_type": "execute_result"
    }
   ],
   "source": [
    "split[\"data_provider\"].value_counts()"
   ]
  }
 ],
 "metadata": {
  "kernelspec": {
   "display_name": "graph",
   "language": "python",
   "name": "python3"
  },
  "language_info": {
   "codemirror_mode": {
    "name": "ipython",
    "version": 3
   },
   "file_extension": ".py",
   "mimetype": "text/x-python",
   "name": "python",
   "nbconvert_exporter": "python",
   "pygments_lexer": "ipython3",
   "version": "3.8.13"
  }
 },
 "nbformat": 4,
 "nbformat_minor": 2
}
