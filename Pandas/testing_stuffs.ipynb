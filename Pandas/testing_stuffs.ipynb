{
 "cells": [
  {
   "cell_type": "markdown",
   "metadata": {},
   "source": [
    "### Testing recov"
   ]
  },
  {
   "cell_type": "code",
   "execution_count": 15,
   "metadata": {},
   "outputs": [
    {
     "ename": "KeyboardInterrupt",
     "evalue": "",
     "output_type": "error",
     "traceback": [
      "\u001b[0;31m---------------------------------------------------------------------------\u001b[0m",
      "\u001b[0;31mKeyboardInterrupt\u001b[0m                         Traceback (most recent call last)",
      "\u001b[1;32m/home/ramanav/Projects/ReCoV/Pandas/testing_stuffs.ipynb Cell 2\u001b[0m line \u001b[0;36m4\n\u001b[1;32m     <a href='vscode-notebook-cell://ssh-remote%2Btitania/home/ramanav/Projects/ReCoV/Pandas/testing_stuffs.ipynb#W1sdnNjb2RlLXJlbW90ZQ%3D%3D?line=39'>40</a>\u001b[0m model \u001b[39m=\u001b[39m TransMIL_peg(n_classes\u001b[39m=\u001b[39m\u001b[39m6\u001b[39m)\n\u001b[1;32m     <a href='vscode-notebook-cell://ssh-remote%2Btitania/home/ramanav/Projects/ReCoV/Pandas/testing_stuffs.ipynb#W1sdnNjb2RlLXJlbW90ZQ%3D%3D?line=41'>42</a>\u001b[0m \u001b[39m#Prepare data\u001b[39;00m\n\u001b[0;32m---> <a href='vscode-notebook-cell://ssh-remote%2Btitania/home/ramanav/Projects/ReCoV/Pandas/testing_stuffs.ipynb#W1sdnNjb2RlLXJlbW90ZQ%3D%3D?line=42'>43</a>\u001b[0m (X_train_clean,y_train_clean),(X_val_clean,y_val_clean),(X_test_clean,y_test_clean), _ \u001b[39m=\u001b[39m preprocess_data(args)\n\u001b[1;32m     <a href='vscode-notebook-cell://ssh-remote%2Btitania/home/ramanav/Projects/ReCoV/Pandas/testing_stuffs.ipynb#W1sdnNjb2RlLXJlbW90ZQ%3D%3D?line=43'>44</a>\u001b[0m X_train_clean[\u001b[39m\"\u001b[39m\u001b[39misup_grade\u001b[39m\u001b[39m\"\u001b[39m] \u001b[39m=\u001b[39m y_train_clean\n\u001b[1;32m     <a href='vscode-notebook-cell://ssh-remote%2Btitania/home/ramanav/Projects/ReCoV/Pandas/testing_stuffs.ipynb#W1sdnNjb2RlLXJlbW90ZQ%3D%3D?line=44'>45</a>\u001b[0m train_split \u001b[39m=\u001b[39m X_train_clean\u001b[39m.\u001b[39mreset_index(drop\u001b[39m=\u001b[39m\u001b[39mTrue\u001b[39;00m)\n",
      "File \u001b[0;32m~/Projects/ReCoV/Pandas/train_mil.py:160\u001b[0m, in \u001b[0;36mpreprocess_data\u001b[0;34m(args)\u001b[0m\n\u001b[1;32m    158\u001b[0m \u001b[39mfor\u001b[39;00m i \u001b[39min\u001b[39;00m \u001b[39mrange\u001b[39m(\u001b[39mlen\u001b[39m(clean_df)):\n\u001b[1;32m    159\u001b[0m     paths \u001b[39m=\u001b[39m clean_df\u001b[39m.\u001b[39miloc[i][\u001b[39m\"\u001b[39m\u001b[39mimage_id\u001b[39m\u001b[39m\"\u001b[39m]\n\u001b[0;32m--> 160\u001b[0m     data \u001b[39m=\u001b[39m torch\u001b[39m.\u001b[39;49mload(Path(args\u001b[39m.\u001b[39;49mdata_root_dir)\u001b[39m/\u001b[39;49m\u001b[39mf\u001b[39;49m\u001b[39m\"\u001b[39;49m\u001b[39m{\u001b[39;49;00mpaths\u001b[39m}\u001b[39;49;00m\u001b[39m_featvec.pt\u001b[39;49m\u001b[39m\"\u001b[39;49m,map_location\u001b[39m=\u001b[39;49m\u001b[39m\"\u001b[39;49m\u001b[39mcpu\u001b[39;49m\u001b[39m\"\u001b[39;49m)\n\u001b[1;32m    161\u001b[0m     \u001b[39mif\u001b[39;00m \u001b[39mlen\u001b[39m(data)\u001b[39m<\u001b[39m\u001b[39m10\u001b[39m:\n\u001b[1;32m    162\u001b[0m         \u001b[39mcontinue\u001b[39;00m\n",
      "File \u001b[0;32m~/anaconda3/envs/graph/lib/python3.8/site-packages/torch/serialization.py:712\u001b[0m, in \u001b[0;36mload\u001b[0;34m(f, map_location, pickle_module, **pickle_load_args)\u001b[0m\n\u001b[1;32m    710\u001b[0m             opened_file\u001b[39m.\u001b[39mseek(orig_position)\n\u001b[1;32m    711\u001b[0m             \u001b[39mreturn\u001b[39;00m torch\u001b[39m.\u001b[39mjit\u001b[39m.\u001b[39mload(opened_file)\n\u001b[0;32m--> 712\u001b[0m         \u001b[39mreturn\u001b[39;00m _load(opened_zipfile, map_location, pickle_module, \u001b[39m*\u001b[39;49m\u001b[39m*\u001b[39;49mpickle_load_args)\n\u001b[1;32m    713\u001b[0m \u001b[39mreturn\u001b[39;00m _legacy_load(opened_file, map_location, pickle_module, \u001b[39m*\u001b[39m\u001b[39m*\u001b[39mpickle_load_args)\n",
      "File \u001b[0;32m~/anaconda3/envs/graph/lib/python3.8/site-packages/torch/serialization.py:1049\u001b[0m, in \u001b[0;36m_load\u001b[0;34m(zip_file, map_location, pickle_module, pickle_file, **pickle_load_args)\u001b[0m\n\u001b[1;32m   1047\u001b[0m unpickler \u001b[39m=\u001b[39m UnpicklerWrapper(data_file, \u001b[39m*\u001b[39m\u001b[39m*\u001b[39mpickle_load_args)\n\u001b[1;32m   1048\u001b[0m unpickler\u001b[39m.\u001b[39mpersistent_load \u001b[39m=\u001b[39m persistent_load\n\u001b[0;32m-> 1049\u001b[0m result \u001b[39m=\u001b[39m unpickler\u001b[39m.\u001b[39;49mload()\n\u001b[1;32m   1051\u001b[0m torch\u001b[39m.\u001b[39m_utils\u001b[39m.\u001b[39m_validate_loaded_sparse_tensors()\n\u001b[1;32m   1053\u001b[0m \u001b[39mreturn\u001b[39;00m result\n",
      "File \u001b[0;32m~/anaconda3/envs/graph/lib/python3.8/site-packages/torch/serialization.py:1019\u001b[0m, in \u001b[0;36m_load.<locals>.persistent_load\u001b[0;34m(saved_id)\u001b[0m\n\u001b[1;32m   1017\u001b[0m \u001b[39mif\u001b[39;00m key \u001b[39mnot\u001b[39;00m \u001b[39min\u001b[39;00m loaded_storages:\n\u001b[1;32m   1018\u001b[0m     nbytes \u001b[39m=\u001b[39m numel \u001b[39m*\u001b[39m torch\u001b[39m.\u001b[39m_utils\u001b[39m.\u001b[39m_element_size(dtype)\n\u001b[0;32m-> 1019\u001b[0m     load_tensor(dtype, nbytes, key, _maybe_decode_ascii(location))\n\u001b[1;32m   1021\u001b[0m \u001b[39mreturn\u001b[39;00m loaded_storages[key]\n",
      "File \u001b[0;32m~/anaconda3/envs/graph/lib/python3.8/site-packages/torch/serialization.py:997\u001b[0m, in \u001b[0;36m_load.<locals>.load_tensor\u001b[0;34m(dtype, numel, key, location)\u001b[0m\n\u001b[1;32m    994\u001b[0m \u001b[39mdef\u001b[39;00m \u001b[39mload_tensor\u001b[39m(dtype, numel, key, location):\n\u001b[1;32m    995\u001b[0m     name \u001b[39m=\u001b[39m \u001b[39mf\u001b[39m\u001b[39m'\u001b[39m\u001b[39mdata/\u001b[39m\u001b[39m{\u001b[39;00mkey\u001b[39m}\u001b[39;00m\u001b[39m'\u001b[39m\n\u001b[0;32m--> 997\u001b[0m     storage \u001b[39m=\u001b[39m zip_file\u001b[39m.\u001b[39;49mget_storage_from_record(name, numel, torch\u001b[39m.\u001b[39;49m_UntypedStorage)\u001b[39m.\u001b[39mstorage()\u001b[39m.\u001b[39m_untyped()\n\u001b[1;32m    998\u001b[0m     \u001b[39m# TODO: Once we decide to break serialization FC, we can\u001b[39;00m\n\u001b[1;32m    999\u001b[0m     \u001b[39m# stop wrapping with _TypedStorage\u001b[39;00m\n\u001b[1;32m   1000\u001b[0m     loaded_storages[key] \u001b[39m=\u001b[39m torch\u001b[39m.\u001b[39mstorage\u001b[39m.\u001b[39m_TypedStorage(\n\u001b[1;32m   1001\u001b[0m         wrap_storage\u001b[39m=\u001b[39mrestore_location(storage, location),\n\u001b[1;32m   1002\u001b[0m         dtype\u001b[39m=\u001b[39mdtype)\n",
      "\u001b[0;31mKeyboardInterrupt\u001b[0m: "
     ]
    }
   ],
   "source": [
    "from mil_models import TransMIL_peg\n",
    "from pandas_dataloader import Pandas_Dataset\n",
    "from train_mil import preprocess_data,train_full,val_one_epoch,collate\n",
    "# import argparse\n",
    "from pathlib import Path\n",
    "import torch\n",
    "import time\n",
    "import torchmetrics\n",
    "import pandas as pd\n",
    "import numpy as np\n",
    "\n",
    "class args_parse:\n",
    "    def __init__(self,**kwargs):\n",
    "        self.__dict__.update(kwargs)\n",
    "\n",
    "args = args_parse(seed=1,\n",
    "                  data_root_dir='/localdisk3/ramanav/TCGA_processed/PANDAS_MIL_Patches_Ctrans_1MPP/',\n",
    "                  csv_path='/aippmdata/public/PANDAS',\n",
    "                  save_dir='/home/ramanav/Projects/ReCoV/results/pandas',\n",
    "                  num_classes=6,\n",
    "                  batch_size=128,\n",
    "                  lr=2e-4,\n",
    "                  lamda=0.0005,\n",
    "                  patience=10,\n",
    "                  num_epochs=20,\n",
    "                  n_folds=5,\n",
    "                #   model_name=\"15Dec_09_26_56_20_2.5_s1_[1, 1, 0]\",\n",
    "                  # model_name=\"20Dec_15_47_06_20_2.5_s1_[0, 0, 0, 1]_0\",\n",
    "                  model_name = \"20Dec_16_02_12_20_1.0_s1_[0, 0, 0, 1]_1\",\n",
    "                  exclusion=True)\n",
    "\n",
    "MODEL_NAME = args.model_name\n",
    "ROOT_PATH = Path(args.save_dir)\n",
    "EXCLUSION = args.exclusion\n",
    "THRESHOLD = 0.4\n",
    "DEVICE = torch.device(f\"cuda:0\" if torch.cuda.is_available() else \"cpu\")\n",
    "timestamp = time.strftime(\"_%d%b_%H_%M_%S\", time.gmtime())\n",
    "\n",
    "#model defination\n",
    "model = TransMIL_peg(n_classes=6)\n",
    "\n",
    "#Prepare data\n",
    "(X_train_clean,y_train_clean),(X_val_clean,y_val_clean),(X_test_clean,y_test_clean), _ = preprocess_data(args)\n",
    "X_train_clean[\"isup_grade\"] = y_train_clean\n",
    "train_split = X_train_clean.reset_index(drop=True)\n",
    "X_val_clean[\"isup_grade\"] = y_val_clean\n",
    "val_split = X_val_clean.reset_index(drop=True)\n",
    "X_test_clean[\"isup_grade\"] = y_test_clean\n",
    "# train_split = pd.concat((X_train_clean,X_val_clean))\n",
    "# train_split = train_split.sort_values(by=\"image_id\").reset_index(drop=True)\n",
    "# train_split[\"int_id\"] = train_split.index\n",
    "test_split = X_test_clean.reset_index(drop=True)\n",
    "\n",
    "\n",
    "metricfunc = torchmetrics.MetricCollection([torchmetrics.Accuracy(num_classes=args.num_classes,average=None),\n",
    "                                        torchmetrics.F1Score(num_classes=args.num_classes,average='weighted'),\n",
    "                                        ])\n",
    "\n",
    "testmetricdict = metricfunc.clone(prefix='test_').to(DEVICE)"
   ]
  },
  {
   "cell_type": "code",
   "execution_count": 5,
   "metadata": {},
   "outputs": [
    {
     "data": {
      "text/html": [
       "<div>\n",
       "<style scoped>\n",
       "    .dataframe tbody tr th:only-of-type {\n",
       "        vertical-align: middle;\n",
       "    }\n",
       "\n",
       "    .dataframe tbody tr th {\n",
       "        vertical-align: top;\n",
       "    }\n",
       "\n",
       "    .dataframe thead th {\n",
       "        text-align: right;\n",
       "    }\n",
       "</style>\n",
       "<table border=\"1\" class=\"dataframe\">\n",
       "  <thead>\n",
       "    <tr style=\"text-align: right;\">\n",
       "      <th></th>\n",
       "      <th>int_id</th>\n",
       "      <th>image_id</th>\n",
       "      <th>data</th>\n",
       "      <th>data_provider</th>\n",
       "      <th>isup_grade</th>\n",
       "    </tr>\n",
       "  </thead>\n",
       "  <tbody>\n",
       "    <tr>\n",
       "      <th>0</th>\n",
       "      <td>6817</td>\n",
       "      <td>c022687b86e4e3eac79381053480e039</td>\n",
       "      <td>[[tensor(-0.0195), tensor(-0.0630), tensor(-0....</td>\n",
       "      <td>karolinska</td>\n",
       "      <td>1</td>\n",
       "    </tr>\n",
       "    <tr>\n",
       "      <th>1</th>\n",
       "      <td>1936</td>\n",
       "      <td>387c0c2633848a562d0299cb667239fd</td>\n",
       "      <td>[[tensor(0.0177), tensor(0.1051), tensor(-0.04...</td>\n",
       "      <td>karolinska</td>\n",
       "      <td>2</td>\n",
       "    </tr>\n",
       "    <tr>\n",
       "      <th>2</th>\n",
       "      <td>2685</td>\n",
       "      <td>4e6e65a0d88a155afa71221ceceee985</td>\n",
       "      <td>[[tensor(-0.0254), tensor(-0.0553), tensor(0.0...</td>\n",
       "      <td>karolinska</td>\n",
       "      <td>0</td>\n",
       "    </tr>\n",
       "    <tr>\n",
       "      <th>3</th>\n",
       "      <td>950</td>\n",
       "      <td>1c691c8c6fd05875e916519e1dca50a0</td>\n",
       "      <td>[[tensor(0.0057), tensor(-0.0147), tensor(0.03...</td>\n",
       "      <td>karolinska</td>\n",
       "      <td>0</td>\n",
       "    </tr>\n",
       "    <tr>\n",
       "      <th>4</th>\n",
       "      <td>5749</td>\n",
       "      <td>a26721b3a8229e8e5e995f7a4a7974f8</td>\n",
       "      <td>[[tensor(-0.0295), tensor(-0.0052), tensor(0.0...</td>\n",
       "      <td>karolinska</td>\n",
       "      <td>0</td>\n",
       "    </tr>\n",
       "    <tr>\n",
       "      <th>...</th>\n",
       "      <td>...</td>\n",
       "      <td>...</td>\n",
       "      <td>...</td>\n",
       "      <td>...</td>\n",
       "      <td>...</td>\n",
       "    </tr>\n",
       "    <tr>\n",
       "      <th>6363</th>\n",
       "      <td>7372</td>\n",
       "      <td>cf19c18868fc35dfd2628358ca4b73f1</td>\n",
       "      <td>[[tensor(0.0092), tensor(-0.2045), tensor(-0.0...</td>\n",
       "      <td>radboud</td>\n",
       "      <td>1</td>\n",
       "    </tr>\n",
       "    <tr>\n",
       "      <th>6364</th>\n",
       "      <td>5302</td>\n",
       "      <td>9772f0e2dc3c38aa876aa4b6c4c85377</td>\n",
       "      <td>[[tensor(0.0276), tensor(-0.0994), tensor(0.00...</td>\n",
       "      <td>radboud</td>\n",
       "      <td>3</td>\n",
       "    </tr>\n",
       "    <tr>\n",
       "      <th>6365</th>\n",
       "      <td>5747</td>\n",
       "      <td>a260fec22534be7e93d7f456ada4f452</td>\n",
       "      <td>[[tensor(0.0906), tensor(-0.0064), tensor(0.06...</td>\n",
       "      <td>radboud</td>\n",
       "      <td>0</td>\n",
       "    </tr>\n",
       "    <tr>\n",
       "      <th>6366</th>\n",
       "      <td>1030</td>\n",
       "      <td>1eab1d74f5c90e353ce5f4440b502bc3</td>\n",
       "      <td>[[tensor(0.0654), tensor(-0.1642), tensor(0.02...</td>\n",
       "      <td>radboud</td>\n",
       "      <td>2</td>\n",
       "    </tr>\n",
       "    <tr>\n",
       "      <th>6367</th>\n",
       "      <td>8175</td>\n",
       "      <td>e6b528e0bd6d4b69e3bfe318e550cbe1</td>\n",
       "      <td>[[tensor(-0.0340), tensor(-0.0258), tensor(0.0...</td>\n",
       "      <td>radboud</td>\n",
       "      <td>5</td>\n",
       "    </tr>\n",
       "  </tbody>\n",
       "</table>\n",
       "<p>6368 rows × 5 columns</p>\n",
       "</div>"
      ],
      "text/plain": [
       "      int_id                          image_id  \\\n",
       "0       6817  c022687b86e4e3eac79381053480e039   \n",
       "1       1936  387c0c2633848a562d0299cb667239fd   \n",
       "2       2685  4e6e65a0d88a155afa71221ceceee985   \n",
       "3        950  1c691c8c6fd05875e916519e1dca50a0   \n",
       "4       5749  a26721b3a8229e8e5e995f7a4a7974f8   \n",
       "...      ...                               ...   \n",
       "6363    7372  cf19c18868fc35dfd2628358ca4b73f1   \n",
       "6364    5302  9772f0e2dc3c38aa876aa4b6c4c85377   \n",
       "6365    5747  a260fec22534be7e93d7f456ada4f452   \n",
       "6366    1030  1eab1d74f5c90e353ce5f4440b502bc3   \n",
       "6367    8175  e6b528e0bd6d4b69e3bfe318e550cbe1   \n",
       "\n",
       "                                                   data data_provider  \\\n",
       "0     [[tensor(-0.0195), tensor(-0.0630), tensor(-0....    karolinska   \n",
       "1     [[tensor(0.0177), tensor(0.1051), tensor(-0.04...    karolinska   \n",
       "2     [[tensor(-0.0254), tensor(-0.0553), tensor(0.0...    karolinska   \n",
       "3     [[tensor(0.0057), tensor(-0.0147), tensor(0.03...    karolinska   \n",
       "4     [[tensor(-0.0295), tensor(-0.0052), tensor(0.0...    karolinska   \n",
       "...                                                 ...           ...   \n",
       "6363  [[tensor(0.0092), tensor(-0.2045), tensor(-0.0...       radboud   \n",
       "6364  [[tensor(0.0276), tensor(-0.0994), tensor(0.00...       radboud   \n",
       "6365  [[tensor(0.0906), tensor(-0.0064), tensor(0.06...       radboud   \n",
       "6366  [[tensor(0.0654), tensor(-0.1642), tensor(0.02...       radboud   \n",
       "6367  [[tensor(-0.0340), tensor(-0.0258), tensor(0.0...       radboud   \n",
       "\n",
       "      isup_grade  \n",
       "0              1  \n",
       "1              2  \n",
       "2              0  \n",
       "3              0  \n",
       "4              0  \n",
       "...          ...  \n",
       "6363           1  \n",
       "6364           3  \n",
       "6365           0  \n",
       "6366           2  \n",
       "6367           5  \n",
       "\n",
       "[6368 rows x 5 columns]"
      ]
     },
     "execution_count": 5,
     "metadata": {},
     "output_type": "execute_result"
    }
   ],
   "source": [
    "train_split"
   ]
  },
  {
   "cell_type": "code",
   "execution_count": 7,
   "metadata": {},
   "outputs": [
    {
     "data": {
      "text/html": [
       "<div>\n",
       "<style scoped>\n",
       "    .dataframe tbody tr th:only-of-type {\n",
       "        vertical-align: middle;\n",
       "    }\n",
       "\n",
       "    .dataframe tbody tr th {\n",
       "        vertical-align: top;\n",
       "    }\n",
       "\n",
       "    .dataframe thead th {\n",
       "        text-align: right;\n",
       "    }\n",
       "</style>\n",
       "<table border=\"1\" class=\"dataframe\">\n",
       "  <thead>\n",
       "    <tr style=\"text-align: right;\">\n",
       "      <th></th>\n",
       "      <th>int_id</th>\n",
       "      <th>image_id</th>\n",
       "      <th>data</th>\n",
       "      <th>data_provider</th>\n",
       "      <th>isup_grade</th>\n",
       "    </tr>\n",
       "  </thead>\n",
       "  <tbody>\n",
       "    <tr>\n",
       "      <th>0</th>\n",
       "      <td>4117</td>\n",
       "      <td>765b21a22c0ced4bd463ac18bca81705</td>\n",
       "      <td>[[tensor(-0.0213), tensor(-0.0615), tensor(0.0...</td>\n",
       "      <td>karolinska</td>\n",
       "      <td>4</td>\n",
       "    </tr>\n",
       "    <tr>\n",
       "      <th>1</th>\n",
       "      <td>5610</td>\n",
       "      <td>9f2739434a4444b74f5cbe8888a77ea2</td>\n",
       "      <td>[[tensor(-0.0034), tensor(-0.0002), tensor(0.0...</td>\n",
       "      <td>karolinska</td>\n",
       "      <td>3</td>\n",
       "    </tr>\n",
       "    <tr>\n",
       "      <th>2</th>\n",
       "      <td>4276</td>\n",
       "      <td>7adb9a199022845663b36db49852383b</td>\n",
       "      <td>[[tensor(0.0205), tensor(-0.0106), tensor(0.05...</td>\n",
       "      <td>karolinska</td>\n",
       "      <td>2</td>\n",
       "    </tr>\n",
       "    <tr>\n",
       "      <th>3</th>\n",
       "      <td>791</td>\n",
       "      <td>177373821195cf33e7bc4c8bcd089a2e</td>\n",
       "      <td>[[tensor(-0.0003), tensor(-0.0150), tensor(0.0...</td>\n",
       "      <td>karolinska</td>\n",
       "      <td>0</td>\n",
       "    </tr>\n",
       "    <tr>\n",
       "      <th>4</th>\n",
       "      <td>1520</td>\n",
       "      <td>2c66a2cdbbfc4bd3b96f1039ad3fa630</td>\n",
       "      <td>[[tensor(-0.0187), tensor(0.0762), tensor(-0.0...</td>\n",
       "      <td>karolinska</td>\n",
       "      <td>5</td>\n",
       "    </tr>\n",
       "    <tr>\n",
       "      <th>...</th>\n",
       "      <td>...</td>\n",
       "      <td>...</td>\n",
       "      <td>...</td>\n",
       "      <td>...</td>\n",
       "      <td>...</td>\n",
       "    </tr>\n",
       "    <tr>\n",
       "      <th>1366</th>\n",
       "      <td>5898</td>\n",
       "      <td>a6df5267338c181ee62b42087d0e2292</td>\n",
       "      <td>[[tensor(0.0212), tensor(-0.1841), tensor(0.09...</td>\n",
       "      <td>radboud</td>\n",
       "      <td>3</td>\n",
       "    </tr>\n",
       "    <tr>\n",
       "      <th>1367</th>\n",
       "      <td>3627</td>\n",
       "      <td>69240805aeb7c006dffd474b1253139f</td>\n",
       "      <td>[[tensor(-0.0254), tensor(-0.1732), tensor(0.1...</td>\n",
       "      <td>radboud</td>\n",
       "      <td>1</td>\n",
       "    </tr>\n",
       "    <tr>\n",
       "      <th>1368</th>\n",
       "      <td>8767</td>\n",
       "      <td>f6b3c12a983a398bfafee0027cf523d5</td>\n",
       "      <td>[[tensor(0.0632), tensor(-0.1299), tensor(0.11...</td>\n",
       "      <td>radboud</td>\n",
       "      <td>0</td>\n",
       "    </tr>\n",
       "    <tr>\n",
       "      <th>1369</th>\n",
       "      <td>3518</td>\n",
       "      <td>658be675223ffa5509203009eb7bba89</td>\n",
       "      <td>[[tensor(-0.0378), tensor(-0.0346), tensor(-0....</td>\n",
       "      <td>radboud</td>\n",
       "      <td>3</td>\n",
       "    </tr>\n",
       "    <tr>\n",
       "      <th>1370</th>\n",
       "      <td>3665</td>\n",
       "      <td>6a10c173386248ef4f11ce0cedc0622e</td>\n",
       "      <td>[[tensor(0.0122), tensor(-0.1291), tensor(0.09...</td>\n",
       "      <td>radboud</td>\n",
       "      <td>3</td>\n",
       "    </tr>\n",
       "  </tbody>\n",
       "</table>\n",
       "<p>1371 rows × 5 columns</p>\n",
       "</div>"
      ],
      "text/plain": [
       "      int_id                          image_id  \\\n",
       "0       4117  765b21a22c0ced4bd463ac18bca81705   \n",
       "1       5610  9f2739434a4444b74f5cbe8888a77ea2   \n",
       "2       4276  7adb9a199022845663b36db49852383b   \n",
       "3        791  177373821195cf33e7bc4c8bcd089a2e   \n",
       "4       1520  2c66a2cdbbfc4bd3b96f1039ad3fa630   \n",
       "...      ...                               ...   \n",
       "1366    5898  a6df5267338c181ee62b42087d0e2292   \n",
       "1367    3627  69240805aeb7c006dffd474b1253139f   \n",
       "1368    8767  f6b3c12a983a398bfafee0027cf523d5   \n",
       "1369    3518  658be675223ffa5509203009eb7bba89   \n",
       "1370    3665  6a10c173386248ef4f11ce0cedc0622e   \n",
       "\n",
       "                                                   data data_provider  \\\n",
       "0     [[tensor(-0.0213), tensor(-0.0615), tensor(0.0...    karolinska   \n",
       "1     [[tensor(-0.0034), tensor(-0.0002), tensor(0.0...    karolinska   \n",
       "2     [[tensor(0.0205), tensor(-0.0106), tensor(0.05...    karolinska   \n",
       "3     [[tensor(-0.0003), tensor(-0.0150), tensor(0.0...    karolinska   \n",
       "4     [[tensor(-0.0187), tensor(0.0762), tensor(-0.0...    karolinska   \n",
       "...                                                 ...           ...   \n",
       "1366  [[tensor(0.0212), tensor(-0.1841), tensor(0.09...       radboud   \n",
       "1367  [[tensor(-0.0254), tensor(-0.1732), tensor(0.1...       radboud   \n",
       "1368  [[tensor(0.0632), tensor(-0.1299), tensor(0.11...       radboud   \n",
       "1369  [[tensor(-0.0378), tensor(-0.0346), tensor(-0....       radboud   \n",
       "1370  [[tensor(0.0122), tensor(-0.1291), tensor(0.09...       radboud   \n",
       "\n",
       "      isup_grade  \n",
       "0              4  \n",
       "1              3  \n",
       "2              2  \n",
       "3              0  \n",
       "4              5  \n",
       "...          ...  \n",
       "1366           3  \n",
       "1367           1  \n",
       "1368           0  \n",
       "1369           3  \n",
       "1370           3  \n",
       "\n",
       "[1371 rows x 5 columns]"
      ]
     },
     "execution_count": 7,
     "metadata": {},
     "output_type": "execute_result"
    }
   ],
   "source": [
    "val_split"
   ]
  },
  {
   "cell_type": "code",
   "execution_count": 2,
   "metadata": {},
   "outputs": [],
   "source": [
    "# load recov data\n",
    "if EXCLUSION:\n",
    "    path = ROOT_PATH/f\"memory__{MODEL_NAME}.npy\"\n",
    "    split = pd.read_csv(ROOT_PATH/f\"splitsave__{MODEL_NAME}.csv\")\n",
    "    data = np.load(path)\n",
    "    split[\"memory\"] = data\n",
    "    index_list = split.loc[split[\"memory\"]>THRESHOLD,\"image_id\"].tolist()\n",
    "    # train_split = train_split.loc[train_split[\"image_id\"].isin(index_list)]\n",
    "    # val_split = val_split.loc[val_split[\"image_id\"].isin(index_list)]"
   ]
  },
  {
   "cell_type": "code",
   "execution_count": 12,
   "metadata": {},
   "outputs": [],
   "source": [
    "temp = split.loc[split[\"memory\"]<=np.percentile(split[\"memory\"],10)].sort_values(by=[\"memory\"])"
   ]
  },
  {
   "cell_type": "code",
   "execution_count": 14,
   "metadata": {},
   "outputs": [
    {
     "data": {
      "text/plain": [
       "3.994487622692946"
      ]
     },
     "execution_count": 14,
     "metadata": {},
     "output_type": "execute_result"
    }
   ],
   "source": [
    "np.percentile(split[\"memory\"],10)"
   ]
  },
  {
   "cell_type": "code",
   "execution_count": 13,
   "metadata": {},
   "outputs": [
    {
     "data": {
      "text/plain": [
       "1    177\n",
       "3    145\n",
       "4    138\n",
       "5    134\n",
       "2     96\n",
       "0     84\n",
       "Name: isup_grade, dtype: int64"
      ]
     },
     "execution_count": 13,
     "metadata": {},
     "output_type": "execute_result"
    }
   ],
   "source": [
    "temp[\"isup_grade\"].value_counts()"
   ]
  },
  {
   "cell_type": "code",
   "execution_count": 7,
   "metadata": {},
   "outputs": [
    {
     "data": {
      "text/plain": [
       "<seaborn.axisgrid.FacetGrid at 0x7f90d65d32b0>"
      ]
     },
     "execution_count": 7,
     "metadata": {},
     "output_type": "execute_result"
    },
    {
     "data": {
      "image/png": "[encoded data removed]",
      "text/plain": [
       "<Figure size 500x500 with 1 Axes>"
      ]
     },
     "metadata": {},
     "output_type": "display_data"
    }
   ],
   "source": [
    "import seaborn as sns\n",
    "sns.displot(split[\"memory\"])"
   ]
  },
  {
   "cell_type": "code",
   "execution_count": 6,
   "metadata": {},
   "outputs": [
    {
     "data": {
      "text/plain": [
       "5.645722269316838"
      ]
     },
     "execution_count": 6,
     "metadata": {},
     "output_type": "execute_result"
    }
   ],
   "source": [
    "split[\"memory\"].max()"
   ]
  },
  {
   "cell_type": "markdown",
   "metadata": {},
   "source": [
    "### Checking initial results of recov pandas"
   ]
  },
  {
   "cell_type": "code",
   "execution_count": 1,
   "metadata": {},
   "outputs": [],
   "source": [
    "import numpy as np\n",
    "from pathlib import Path\n",
    "import pandas as pd"
   ]
  },
  {
   "cell_type": "code",
   "execution_count": 2,
   "metadata": {},
   "outputs": [],
   "source": [
    "# model_name = \"14Dec_10_50_40_20_2.5_s1_[1, 1, 1]\"\n",
    "# model_name = \"15Dec_09_26_56_20_2.5_s1_[1, 1, 0]\"\n",
    "# model_name = \"20Dec_16_02_12_20_1.0_s1_[0, 0, 0, 1]_1\"\n",
    "# model_name = \"20Dec_16_02_12_20_1.0_s1_[0, 0, 0, 1]_1\"\n",
    "model_name = \"02Jan_19_37_48_20_s1_[1, 0]_1\"\n",
    "path = f\"../results/pandas/memory__{model_name}_v2.npy\"\n",
    "split = pd.read_csv(f\"../results/pandas/splitsave__{model_name}.csv\")\n",
    "data = np.load(path)\n",
    "split[\"memory\"] = data"
   ]
  },
  {
   "cell_type": "code",
   "execution_count": 3,
   "metadata": {},
   "outputs": [
    {
     "data": {
      "text/plain": [
       "<seaborn.axisgrid.FacetGrid at 0x7fe50a902850>"
      ]
     },
     "execution_count": 3,
     "metadata": {},
     "output_type": "execute_result"
    },
    {
     "data": {
      "image/png": "[encoded data removed]",
      "text/plain": [
       "<Figure size 500x500 with 1 Axes>"
      ]
     },
     "metadata": {},
     "output_type": "display_data"
    }
   ],
   "source": [
    "import seaborn as sns\n",
    "sns.displot(split[\"memory\"])"
   ]
  },
  {
   "cell_type": "code",
   "execution_count": 4,
   "metadata": {},
   "outputs": [
    {
     "name": "stdout",
     "output_type": "stream",
     "text": [
      "threshold chosen: 3.8280176639556887\n"
     ]
    },
    {
     "data": {
      "text/html": [
       "<div>\n",
       "<style scoped>\n",
       "    .dataframe tbody tr th:only-of-type {\n",
       "        vertical-align: middle;\n",
       "    }\n",
       "\n",
       "    .dataframe tbody tr th {\n",
       "        vertical-align: top;\n",
       "    }\n",
       "\n",
       "    .dataframe thead th {\n",
       "        text-align: right;\n",
       "    }\n",
       "</style>\n",
       "<table border=\"1\" class=\"dataframe\">\n",
       "  <thead>\n",
       "    <tr style=\"text-align: right;\">\n",
       "      <th></th>\n",
       "      <th>int_id</th>\n",
       "      <th>image_id</th>\n",
       "      <th>data_provider</th>\n",
       "      <th>isup_grade</th>\n",
       "      <th>memory</th>\n",
       "    </tr>\n",
       "  </thead>\n",
       "  <tbody>\n",
       "    <tr>\n",
       "      <th>5755</th>\n",
       "      <td>5755</td>\n",
       "      <td>bf282897514555144100efbee376bce1</td>\n",
       "      <td>radboud</td>\n",
       "      <td>5</td>\n",
       "      <td>0.228054</td>\n",
       "    </tr>\n",
       "    <tr>\n",
       "      <th>2694</th>\n",
       "      <td>2694</td>\n",
       "      <td>5af447057c0eb2ca945c12c398f670f9</td>\n",
       "      <td>radboud</td>\n",
       "      <td>5</td>\n",
       "      <td>0.246446</td>\n",
       "    </tr>\n",
       "    <tr>\n",
       "      <th>2857</th>\n",
       "      <td>2857</td>\n",
       "      <td>610489a9612f4f28cd140e8326c909fa</td>\n",
       "      <td>radboud</td>\n",
       "      <td>5</td>\n",
       "      <td>0.284508</td>\n",
       "    </tr>\n",
       "    <tr>\n",
       "      <th>6064</th>\n",
       "      <td>6064</td>\n",
       "      <td>c867630b14137ca898056cb4eefe1696</td>\n",
       "      <td>radboud</td>\n",
       "      <td>5</td>\n",
       "      <td>0.294955</td>\n",
       "    </tr>\n",
       "    <tr>\n",
       "      <th>5356</th>\n",
       "      <td>5356</td>\n",
       "      <td>b1a8dc23435d6fea4a7847fcf02f9374</td>\n",
       "      <td>radboud</td>\n",
       "      <td>5</td>\n",
       "      <td>0.310031</td>\n",
       "    </tr>\n",
       "    <tr>\n",
       "      <th>...</th>\n",
       "      <td>...</td>\n",
       "      <td>...</td>\n",
       "      <td>...</td>\n",
       "      <td>...</td>\n",
       "      <td>...</td>\n",
       "    </tr>\n",
       "    <tr>\n",
       "      <th>7174</th>\n",
       "      <td>7174</td>\n",
       "      <td>ee7a0b58f510f1f47bfc4ad434f7ddd4</td>\n",
       "      <td>karolinska</td>\n",
       "      <td>2</td>\n",
       "      <td>3.823339</td>\n",
       "    </tr>\n",
       "    <tr>\n",
       "      <th>439</th>\n",
       "      <td>439</td>\n",
       "      <td>0fe9a27d4af8817d43d5939344204f14</td>\n",
       "      <td>karolinska</td>\n",
       "      <td>3</td>\n",
       "      <td>3.823841</td>\n",
       "    </tr>\n",
       "    <tr>\n",
       "      <th>2749</th>\n",
       "      <td>2749</td>\n",
       "      <td>5d3dfae104348251b8fbc99f8d39a601</td>\n",
       "      <td>radboud</td>\n",
       "      <td>1</td>\n",
       "      <td>3.824915</td>\n",
       "    </tr>\n",
       "    <tr>\n",
       "      <th>1041</th>\n",
       "      <td>1041</td>\n",
       "      <td>24c1e1cef9fbcbd82978ebe7d14334cb</td>\n",
       "      <td>radboud</td>\n",
       "      <td>3</td>\n",
       "      <td>3.825022</td>\n",
       "    </tr>\n",
       "    <tr>\n",
       "      <th>5118</th>\n",
       "      <td>5118</td>\n",
       "      <td>aa68bce6e7fd266e9839f591296166b0</td>\n",
       "      <td>radboud</td>\n",
       "      <td>4</td>\n",
       "      <td>3.827197</td>\n",
       "    </tr>\n",
       "  </tbody>\n",
       "</table>\n",
       "<p>774 rows × 5 columns</p>\n",
       "</div>"
      ],
      "text/plain": [
       "      int_id                          image_id data_provider  isup_grade  \\\n",
       "5755    5755  bf282897514555144100efbee376bce1       radboud           5   \n",
       "2694    2694  5af447057c0eb2ca945c12c398f670f9       radboud           5   \n",
       "2857    2857  610489a9612f4f28cd140e8326c909fa       radboud           5   \n",
       "6064    6064  c867630b14137ca898056cb4eefe1696       radboud           5   \n",
       "5356    5356  b1a8dc23435d6fea4a7847fcf02f9374       radboud           5   \n",
       "...      ...                               ...           ...         ...   \n",
       "7174    7174  ee7a0b58f510f1f47bfc4ad434f7ddd4    karolinska           2   \n",
       "439      439  0fe9a27d4af8817d43d5939344204f14    karolinska           3   \n",
       "2749    2749  5d3dfae104348251b8fbc99f8d39a601       radboud           1   \n",
       "1041    1041  24c1e1cef9fbcbd82978ebe7d14334cb       radboud           3   \n",
       "5118    5118  aa68bce6e7fd266e9839f591296166b0       radboud           4   \n",
       "\n",
       "        memory  \n",
       "5755  0.228054  \n",
       "2694  0.246446  \n",
       "2857  0.284508  \n",
       "6064  0.294955  \n",
       "5356  0.310031  \n",
       "...        ...  \n",
       "7174  3.823339  \n",
       "439   3.823841  \n",
       "2749  3.824915  \n",
       "1041  3.825022  \n",
       "5118  3.827197  \n",
       "\n",
       "[774 rows x 5 columns]"
      ]
     },
     "execution_count": 4,
     "metadata": {},
     "output_type": "execute_result"
    }
   ],
   "source": [
    "thresh = np.percentile(split[\"memory\"],10)\n",
    "print(f\"threshold chosen: {thresh}\")\n",
    "split.loc[split[\"memory\"]<=thresh].sort_values(by=[\"memory\"])"
   ]
  },
  {
   "cell_type": "code",
   "execution_count": 12,
   "metadata": {},
   "outputs": [
    {
     "data": {
      "text/plain": [
       "radboud       107\n",
       "karolinska     48\n",
       "Name: data_provider, dtype: int64"
      ]
     },
     "execution_count": 12,
     "metadata": {},
     "output_type": "execute_result"
    }
   ],
   "source": [
    "split.loc[split[\"memory\"]<=np.percentile(split[\"memory\"],2)][\"data_provider\"].value_counts()"
   ]
  },
  {
   "cell_type": "code",
   "execution_count": 11,
   "metadata": {},
   "outputs": [
    {
     "data": {
      "text/plain": [
       "5    60\n",
       "4    42\n",
       "0    30\n",
       "3    15\n",
       "1     8\n",
       "Name: isup_grade, dtype: int64"
      ]
     },
     "execution_count": 11,
     "metadata": {},
     "output_type": "execute_result"
    }
   ],
   "source": [
    "split.loc[split[\"memory\"]<=np.percentile(split[\"memory\"],2)][\"isup_grade\"].value_counts()"
   ]
  },
  {
   "cell_type": "code",
   "execution_count": 30,
   "metadata": {},
   "outputs": [],
   "source": [
    "import torch\n",
    "from mil_models import TransMIL_peg\n",
    "model = torch.load(\"../results/pandas/03Jan_exclusion_tmil.pt\")"
   ]
  },
  {
   "cell_type": "code",
   "execution_count": 31,
   "metadata": {},
   "outputs": [],
   "source": [
    "torch.save(model.state_dict(),\"../results/pandas/03Jan_exclusion_tmil_statedict.pt\")"
   ]
  },
  {
   "cell_type": "code",
   "execution_count": 32,
   "metadata": {},
   "outputs": [
    {
     "ename": "",
     "evalue": "",
     "output_type": "error",
     "traceback": [
      "\u001b[1;31mThe Kernel crashed while executing code in the the current cell or a previous cell. Please review the code in the cell(s) to identify a possible cause of the failure. Click <a href='https://aka.ms/vscodeJupyterKernelCrash'>here</a> for more info. View Jupyter <a href='command:jupyter.viewOutput'>log</a> for further details."
     ]
    }
   ],
   "source": [
    "model = torch.load(\"../results/pandas/03Jan_noexclusion_tmil.pt\")\n",
    "torch.save(model.state_dict(),\"../results/pandas/03Jan_noexclusion_tmil_statedict.pt\")\n"
   ]
  },
  {
   "cell_type": "code",
   "execution_count": 16,
   "metadata": {},
   "outputs": [
    {
     "data": {
      "text/html": [
       "<div>\n",
       "<style scoped>\n",
       "    .dataframe tbody tr th:only-of-type {\n",
       "        vertical-align: middle;\n",
       "    }\n",
       "\n",
       "    .dataframe tbody tr th {\n",
       "        vertical-align: top;\n",
       "    }\n",
       "\n",
       "    .dataframe thead th {\n",
       "        text-align: right;\n",
       "    }\n",
       "</style>\n",
       "<table border=\"1\" class=\"dataframe\">\n",
       "  <thead>\n",
       "    <tr style=\"text-align: right;\">\n",
       "      <th></th>\n",
       "      <th>int_id</th>\n",
       "      <th>image_id</th>\n",
       "      <th>data_provider</th>\n",
       "      <th>isup_grade</th>\n",
       "      <th>memory</th>\n",
       "    </tr>\n",
       "  </thead>\n",
       "  <tbody>\n",
       "    <tr>\n",
       "      <th>5379</th>\n",
       "      <td>5379</td>\n",
       "      <td>b25e5ec86bdfecb9335f0e683acfda87</td>\n",
       "      <td>radboud</td>\n",
       "      <td>0</td>\n",
       "      <td>0.055180</td>\n",
       "    </tr>\n",
       "    <tr>\n",
       "      <th>7414</th>\n",
       "      <td>7414</td>\n",
       "      <td>f58f8cb8bd83644f21b052a526d69afe</td>\n",
       "      <td>radboud</td>\n",
       "      <td>5</td>\n",
       "      <td>0.070231</td>\n",
       "    </tr>\n",
       "    <tr>\n",
       "      <th>2814</th>\n",
       "      <td>2814</td>\n",
       "      <td>5f89fd817087371714c3480585e1d0ef</td>\n",
       "      <td>karolinska</td>\n",
       "      <td>5</td>\n",
       "      <td>0.087137</td>\n",
       "    </tr>\n",
       "    <tr>\n",
       "      <th>5356</th>\n",
       "      <td>5356</td>\n",
       "      <td>b1a8dc23435d6fea4a7847fcf02f9374</td>\n",
       "      <td>radboud</td>\n",
       "      <td>5</td>\n",
       "      <td>0.094886</td>\n",
       "    </tr>\n",
       "    <tr>\n",
       "      <th>6941</th>\n",
       "      <td>6941</td>\n",
       "      <td>e6b528e0bd6d4b69e3bfe318e550cbe1</td>\n",
       "      <td>radboud</td>\n",
       "      <td>5</td>\n",
       "      <td>0.127525</td>\n",
       "    </tr>\n",
       "    <tr>\n",
       "      <th>...</th>\n",
       "      <td>...</td>\n",
       "      <td>...</td>\n",
       "      <td>...</td>\n",
       "      <td>...</td>\n",
       "      <td>...</td>\n",
       "    </tr>\n",
       "    <tr>\n",
       "      <th>5155</th>\n",
       "      <td>5155</td>\n",
       "      <td>ab8ad31b80419f9f49c6b62f25d6fe59</td>\n",
       "      <td>radboud</td>\n",
       "      <td>4</td>\n",
       "      <td>4.173691</td>\n",
       "    </tr>\n",
       "    <tr>\n",
       "      <th>2947</th>\n",
       "      <td>2947</td>\n",
       "      <td>63e71c21ffc027a4b9f256840072e28f</td>\n",
       "      <td>radboud</td>\n",
       "      <td>3</td>\n",
       "      <td>4.174826</td>\n",
       "    </tr>\n",
       "    <tr>\n",
       "      <th>404</th>\n",
       "      <td>404</td>\n",
       "      <td>0eb245bb330a149e1d1e821f37dd1b65</td>\n",
       "      <td>karolinska</td>\n",
       "      <td>5</td>\n",
       "      <td>4.175037</td>\n",
       "    </tr>\n",
       "    <tr>\n",
       "      <th>3326</th>\n",
       "      <td>3326</td>\n",
       "      <td>700c5807a050c1819ce4e295890b35b2</td>\n",
       "      <td>karolinska</td>\n",
       "      <td>5</td>\n",
       "      <td>4.175739</td>\n",
       "    </tr>\n",
       "    <tr>\n",
       "      <th>5975</th>\n",
       "      <td>5975</td>\n",
       "      <td>c5e43f6957d317a37a98f97cb2b855a1</td>\n",
       "      <td>radboud</td>\n",
       "      <td>4</td>\n",
       "      <td>4.175916</td>\n",
       "    </tr>\n",
       "  </tbody>\n",
       "</table>\n",
       "<p>774 rows × 5 columns</p>\n",
       "</div>"
      ],
      "text/plain": [
       "      int_id                          image_id data_provider  isup_grade  \\\n",
       "5379    5379  b25e5ec86bdfecb9335f0e683acfda87       radboud           0   \n",
       "7414    7414  f58f8cb8bd83644f21b052a526d69afe       radboud           5   \n",
       "2814    2814  5f89fd817087371714c3480585e1d0ef    karolinska           5   \n",
       "5356    5356  b1a8dc23435d6fea4a7847fcf02f9374       radboud           5   \n",
       "6941    6941  e6b528e0bd6d4b69e3bfe318e550cbe1       radboud           5   \n",
       "...      ...                               ...           ...         ...   \n",
       "5155    5155  ab8ad31b80419f9f49c6b62f25d6fe59       radboud           4   \n",
       "2947    2947  63e71c21ffc027a4b9f256840072e28f       radboud           3   \n",
       "404      404  0eb245bb330a149e1d1e821f37dd1b65    karolinska           5   \n",
       "3326    3326  700c5807a050c1819ce4e295890b35b2    karolinska           5   \n",
       "5975    5975  c5e43f6957d317a37a98f97cb2b855a1       radboud           4   \n",
       "\n",
       "        memory  \n",
       "5379  0.055180  \n",
       "7414  0.070231  \n",
       "2814  0.087137  \n",
       "5356  0.094886  \n",
       "6941  0.127525  \n",
       "...        ...  \n",
       "5155  4.173691  \n",
       "2947  4.174826  \n",
       "404   4.175037  \n",
       "3326  4.175739  \n",
       "5975  4.175916  \n",
       "\n",
       "[774 rows x 5 columns]"
      ]
     },
     "execution_count": 16,
     "metadata": {},
     "output_type": "execute_result"
    }
   ],
   "source": [
    "model_name = \"20Dec_16_02_12_20_1.0_s1_[0, 0, 0, 1]_1\"\n",
    "# model_name = \"02Jan_19_37_48_20_s1_[1, 0]_1\"\n",
    "path = f\"../results/pandas/memory__{model_name}.npy\"\n",
    "split = pd.read_csv(f\"../results/pandas/splitsave__{model_name}.csv\")\n",
    "data = np.load(path)\n",
    "split[\"memory\"] = data\n",
    "split.loc[split[\"memory\"]<=np.percentile(split[\"memory\"],10)].sort_values(by=[\"memory\"])"
   ]
  },
  {
   "cell_type": "code",
   "execution_count": 17,
   "metadata": {},
   "outputs": [
    {
     "data": {
      "text/plain": [
       "5    170\n",
       "4    160\n",
       "3    152\n",
       "2    124\n",
       "1    120\n",
       "0     48\n",
       "Name: isup_grade, dtype: int64"
      ]
     },
     "execution_count": 17,
     "metadata": {},
     "output_type": "execute_result"
    }
   ],
   "source": [
    "split.loc[split[\"memory\"]<=np.percentile(split[\"memory\"],10)][\"isup_grade\"].value_counts()"
   ]
  },
  {
   "cell_type": "code",
   "execution_count": 12,
   "metadata": {},
   "outputs": [
    {
     "data": {
      "text/html": [
       "<div>\n",
       "<style scoped>\n",
       "    .dataframe tbody tr th:only-of-type {\n",
       "        vertical-align: middle;\n",
       "    }\n",
       "\n",
       "    .dataframe tbody tr th {\n",
       "        vertical-align: top;\n",
       "    }\n",
       "\n",
       "    .dataframe thead th {\n",
       "        text-align: right;\n",
       "    }\n",
       "</style>\n",
       "<table border=\"1\" class=\"dataframe\">\n",
       "  <thead>\n",
       "    <tr style=\"text-align: right;\">\n",
       "      <th></th>\n",
       "      <th>int_id</th>\n",
       "      <th>image_id</th>\n",
       "      <th>data_provider</th>\n",
       "      <th>isup_grade</th>\n",
       "      <th>memory</th>\n",
       "    </tr>\n",
       "  </thead>\n",
       "  <tbody>\n",
       "    <tr>\n",
       "      <th>602</th>\n",
       "      <td>602</td>\n",
       "      <td>155867d947fe378bcce54cc1adf8acba</td>\n",
       "      <td>karolinska</td>\n",
       "      <td>2</td>\n",
       "      <td>0.045177</td>\n",
       "    </tr>\n",
       "    <tr>\n",
       "      <th>848</th>\n",
       "      <td>848</td>\n",
       "      <td>1dfa9e0e91f817fbd98ae93fc20d6255</td>\n",
       "      <td>karolinska</td>\n",
       "      <td>5</td>\n",
       "      <td>0.066562</td>\n",
       "    </tr>\n",
       "    <tr>\n",
       "      <th>87</th>\n",
       "      <td>87</td>\n",
       "      <td>03692c5859b1eb7af0f4292e10586205</td>\n",
       "      <td>karolinska</td>\n",
       "      <td>2</td>\n",
       "      <td>0.067398</td>\n",
       "    </tr>\n",
       "    <tr>\n",
       "      <th>3699</th>\n",
       "      <td>3699</td>\n",
       "      <td>7d0638e2cf13708c2047178ab83ba894</td>\n",
       "      <td>karolinska</td>\n",
       "      <td>1</td>\n",
       "      <td>0.077083</td>\n",
       "    </tr>\n",
       "    <tr>\n",
       "      <th>7647</th>\n",
       "      <td>7647</td>\n",
       "      <td>fd34d5fda33d3e8281837a2a4511f7fd</td>\n",
       "      <td>radboud</td>\n",
       "      <td>4</td>\n",
       "      <td>0.080148</td>\n",
       "    </tr>\n",
       "    <tr>\n",
       "      <th>...</th>\n",
       "      <td>...</td>\n",
       "      <td>...</td>\n",
       "      <td>...</td>\n",
       "      <td>...</td>\n",
       "      <td>...</td>\n",
       "    </tr>\n",
       "    <tr>\n",
       "      <th>278</th>\n",
       "      <td>278</td>\n",
       "      <td>0a75b377181b60efd8278bce0b6260a5</td>\n",
       "      <td>radboud</td>\n",
       "      <td>3</td>\n",
       "      <td>0.244577</td>\n",
       "    </tr>\n",
       "    <tr>\n",
       "      <th>4495</th>\n",
       "      <td>4495</td>\n",
       "      <td>96b8bc9b8128ea796e39a4af6eccdbea</td>\n",
       "      <td>radboud</td>\n",
       "      <td>3</td>\n",
       "      <td>0.244746</td>\n",
       "    </tr>\n",
       "    <tr>\n",
       "      <th>3830</th>\n",
       "      <td>3830</td>\n",
       "      <td>8175be020f3cf362e1cf5b797bd7a429</td>\n",
       "      <td>karolinska</td>\n",
       "      <td>2</td>\n",
       "      <td>0.245049</td>\n",
       "    </tr>\n",
       "    <tr>\n",
       "      <th>6934</th>\n",
       "      <td>6934</td>\n",
       "      <td>e66a6092ff332e6516c879a4986f8a8a</td>\n",
       "      <td>karolinska</td>\n",
       "      <td>1</td>\n",
       "      <td>0.245429</td>\n",
       "    </tr>\n",
       "    <tr>\n",
       "      <th>2440</th>\n",
       "      <td>2440</td>\n",
       "      <td>530f322b76df13d90d37b08b7c592e39</td>\n",
       "      <td>radboud</td>\n",
       "      <td>1</td>\n",
       "      <td>0.249784</td>\n",
       "    </tr>\n",
       "  </tbody>\n",
       "</table>\n",
       "<p>101 rows × 5 columns</p>\n",
       "</div>"
      ],
      "text/plain": [
       "      int_id                          image_id data_provider  isup_grade  \\\n",
       "602      602  155867d947fe378bcce54cc1adf8acba    karolinska           2   \n",
       "848      848  1dfa9e0e91f817fbd98ae93fc20d6255    karolinska           5   \n",
       "87        87  03692c5859b1eb7af0f4292e10586205    karolinska           2   \n",
       "3699    3699  7d0638e2cf13708c2047178ab83ba894    karolinska           1   \n",
       "7647    7647  fd34d5fda33d3e8281837a2a4511f7fd       radboud           4   \n",
       "...      ...                               ...           ...         ...   \n",
       "278      278  0a75b377181b60efd8278bce0b6260a5       radboud           3   \n",
       "4495    4495  96b8bc9b8128ea796e39a4af6eccdbea       radboud           3   \n",
       "3830    3830  8175be020f3cf362e1cf5b797bd7a429    karolinska           2   \n",
       "6934    6934  e66a6092ff332e6516c879a4986f8a8a    karolinska           1   \n",
       "2440    2440  530f322b76df13d90d37b08b7c592e39       radboud           1   \n",
       "\n",
       "        memory  \n",
       "602   0.045177  \n",
       "848   0.066562  \n",
       "87    0.067398  \n",
       "3699  0.077083  \n",
       "7647  0.080148  \n",
       "...        ...  \n",
       "278   0.244577  \n",
       "4495  0.244746  \n",
       "3830  0.245049  \n",
       "6934  0.245429  \n",
       "2440  0.249784  \n",
       "\n",
       "[101 rows x 5 columns]"
      ]
     },
     "execution_count": 12,
     "metadata": {},
     "output_type": "execute_result"
    }
   ],
   "source": [
    "# split.loc[split[\"memory\"]<=0.25].sort_values(by=[\"memory\"])"
   ]
  },
  {
   "cell_type": "code",
   "execution_count": 11,
   "metadata": {},
   "outputs": [
    {
     "data": {
      "text/plain": [
       "radboud       261\n",
       "karolinska    126\n",
       "Name: data_provider, dtype: int64"
      ]
     },
     "execution_count": 11,
     "metadata": {},
     "output_type": "execute_result"
    }
   ],
   "source": [
    "split.loc[split[\"memory\"]<=np.percentile(split[\"memory\"],5)][\"data_provider\"].value_counts()"
   ]
  },
  {
   "cell_type": "code",
   "execution_count": 9,
   "metadata": {},
   "outputs": [
    {
     "data": {
      "text/plain": [
       "5    108\n",
       "4     89\n",
       "0     72\n",
       "3     45\n",
       "1     45\n",
       "2     28\n",
       "Name: isup_grade, dtype: int64"
      ]
     },
     "execution_count": 9,
     "metadata": {},
     "output_type": "execute_result"
    }
   ],
   "source": [
    "split.loc[split[\"memory\"]<=np.percentile(split[\"memory\"],5)][\"isup_grade\"].value_counts()"
   ]
  },
  {
   "cell_type": "code",
   "execution_count": 10,
   "metadata": {},
   "outputs": [
    {
     "data": {
      "text/plain": [
       "karolinska    47\n",
       "radboud       42\n",
       "Name: data_provider, dtype: int64"
      ]
     },
     "execution_count": 10,
     "metadata": {},
     "output_type": "execute_result"
    }
   ],
   "source": [
    "split.loc[(split[\"memory\"]<=np.percentile(split[\"memory\"],5)) & (split[\"isup_grade\"]==4),\"data_provider\"].value_counts()"
   ]
  },
  {
   "cell_type": "code",
   "execution_count": 13,
   "metadata": {},
   "outputs": [
    {
     "data": {
      "text/plain": [
       "0    2221\n",
       "1    1984\n",
       "2     946\n",
       "4     878\n",
       "3     870\n",
       "5     840\n",
       "Name: isup_grade, dtype: int64"
      ]
     },
     "execution_count": 13,
     "metadata": {},
     "output_type": "execute_result"
    }
   ],
   "source": [
    "split[\"isup_grade\"].value_counts()"
   ]
  },
  {
   "cell_type": "code",
   "execution_count": 58,
   "metadata": {},
   "outputs": [
    {
     "data": {
      "text/plain": [
       "radboud       649\n",
       "karolinska    191\n",
       "Name: data_provider, dtype: int64"
      ]
     },
     "execution_count": 58,
     "metadata": {},
     "output_type": "execute_result"
    }
   ],
   "source": [
    "split.loc[split[\"isup_grade\"]==5,\"data_provider\"].value_counts()"
   ]
  },
  {
   "cell_type": "code",
   "execution_count": 33,
   "metadata": {},
   "outputs": [
    {
     "data": {
      "text/plain": [
       "karolinska    4264\n",
       "radboud       3475\n",
       "Name: data_provider, dtype: int64"
      ]
     },
     "execution_count": 33,
     "metadata": {},
     "output_type": "execute_result"
    }
   ],
   "source": [
    "split[\"data_provider\"].value_counts()"
   ]
  }
 ],
 "metadata": {
  "kernelspec": {
   "display_name": "graph",
   "language": "python",
   "name": "python3"
  },
  "language_info": {
   "codemirror_mode": {
    "name": "ipython",
    "version": 3
   },
   "file_extension": ".py",
   "mimetype": "text/x-python",
   "name": "python",
   "nbconvert_exporter": "python",
   "pygments_lexer": "ipython3",
   "version": "3.8.13"
  }
 },
 "nbformat": 4,
 "nbformat_minor": 2
}
